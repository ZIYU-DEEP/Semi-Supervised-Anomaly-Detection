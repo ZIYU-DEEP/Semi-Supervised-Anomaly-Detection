{
 "cells": [
  {
   "cell_type": "markdown",
   "metadata": {},
   "source": [
    "# 0. Preparation"
   ]
  },
  {
   "cell_type": "code",
   "execution_count": 1,
   "metadata": {},
   "outputs": [],
   "source": [
    "import sys\n",
    "sys.path.append('../dataset/')\n",
    "sys.path.append('../network/')\n",
    "sys.path.append('../model/')\n",
    "\n",
    "import os\n",
    "import glob\n",
    "import time\n",
    "import torch\n",
    "import argparse\n",
    "import numpy as np\n",
    "import pandas as pd\n",
    "import torch.nn as nn\n",
    "import torchvision.transforms as transforms\n",
    "\n",
    "from PIL import Image\n",
    "from pathlib import Path\n",
    "from main_loading import *\n",
    "from main_network import *\n",
    "from main_model_one_class import *\n",
    "from main_model_rec import *"
   ]
  },
  {
   "cell_type": "code",
   "execution_count": 26,
   "metadata": {},
   "outputs": [],
   "source": [
    "dataset_dict = {}"
   ]
  },
  {
   "cell_type": "code",
   "execution_count": 30,
   "metadata": {},
   "outputs": [
    {
     "name": "stdout",
     "output_type": "stream",
     "text": [
      "Files already downloaded and verified\n",
      "Files already downloaded and verified\n",
      "Files already downloaded and verified\n",
      "Files already downloaded and verified\n",
      "Files already downloaded and verified\n",
      "Files already downloaded and verified\n",
      "Files already downloaded and verified\n",
      "Files already downloaded and verified\n",
      "Files already downloaded and verified\n",
      "Files already downloaded and verified\n",
      "Files already downloaded and verified\n",
      "Files already downloaded and verified\n",
      "Files already downloaded and verified\n",
      "Files already downloaded and verified\n",
      "Files already downloaded and verified\n",
      "Files already downloaded and verified\n",
      "Files already downloaded and verified\n",
      "Files already downloaded and verified\n",
      "Files already downloaded and verified\n",
      "Files already downloaded and verified\n"
     ]
    }
   ],
   "source": [
    "name_list = ['airplane', 'automobile', 'bird', 'cat', 'deer',\n",
    "             'dog', 'frog', 'horse', 'ship', 'truck']\n",
    "\n",
    "for i, x in enumerate(name_list):\n",
    "    dataset_dict[x] = load_dataset(loader_name=loader_name,\n",
    "                                   root=root,\n",
    "                                   label_eval=(i,))"
   ]
  },
  {
   "cell_type": "markdown",
   "metadata": {},
   "source": [
    "# 1. Metric 1: $L^{2}$-Distance for Mean of Raw Images"
   ]
  },
  {
   "cell_type": "markdown",
   "metadata": {},
   "source": [
    "## 1.0. Calculating Mean Vector For Each Dataset"
   ]
  },
  {
   "cell_type": "code",
   "execution_count": 31,
   "metadata": {},
   "outputs": [],
   "source": [
    "batch_size_loading = 7000\n",
    "num_workers = 0\n",
    "mean_dict = {}\n",
    "untransform = transforms.ToPILImage()"
   ]
  },
  {
   "cell_type": "code",
   "execution_count": 32,
   "metadata": {},
   "outputs": [
    {
     "name": "stdout",
     "output_type": "stream",
     "text": [
      "airplane\n"
     ]
    },
    {
     "data": {
      "image/png": "[encoded data removed]",
      "text/plain": [
       "<PIL.Image.Image image mode=RGB size=32x32 at 0x7F9C6FA132E8>"
      ]
     },
     "metadata": {},
     "output_type": "display_data"
    },
    {
     "name": "stdout",
     "output_type": "stream",
     "text": [
      "automobile\n"
     ]
    },
    {
     "data": {
      "image/png": "[encoded data removed]",
      "text/plain": [
       "<PIL.Image.Image image mode=RGB size=32x32 at 0x7F9C6FA134E0>"
      ]
     },
     "metadata": {},
     "output_type": "display_data"
    },
    {
     "name": "stdout",
     "output_type": "stream",
     "text": [
      "bird\n"
     ]
    },
    {
     "data": {
      "image/png": "[encoded data removed]",
      "text/plain": [
       "<PIL.Image.Image image mode=RGB size=32x32 at 0x7F9C6FA0BAC8>"
      ]
     },
     "metadata": {},
     "output_type": "display_data"
    },
    {
     "name": "stdout",
     "output_type": "stream",
     "text": [
      "cat\n"
     ]
    },
    {
     "data": {
      "image/png": "[encoded data removed]",
      "text/plain": [
       "<PIL.Image.Image image mode=RGB size=32x32 at 0x7F9C6FA13208>"
      ]
     },
     "metadata": {},
     "output_type": "display_data"
    },
    {
     "name": "stdout",
     "output_type": "stream",
     "text": [
      "deer\n"
     ]
    },
    {
     "data": {
      "image/png": "[encoded data removed]",
      "text/plain": [
       "<PIL.Image.Image image mode=RGB size=32x32 at 0x7F9C6FA13588>"
      ]
     },
     "metadata": {},
     "output_type": "display_data"
    },
    {
     "name": "stdout",
     "output_type": "stream",
     "text": [
      "dog\n"
     ]
    },
    {
     "data": {
      "image/png": "[encoded data removed]",
      "text/plain": [
       "<PIL.Image.Image image mode=RGB size=32x32 at 0x7F9C6FA13208>"
      ]
     },
     "metadata": {},
     "output_type": "display_data"
    },
    {
     "name": "stdout",
     "output_type": "stream",
     "text": [
      "frog\n"
     ]
    },
    {
     "data": {
      "image/png": "[encoded data removed]",
      "text/plain": [
       "<PIL.Image.Image image mode=RGB size=32x32 at 0x7F9C6FA13588>"
      ]
     },
     "metadata": {},
     "output_type": "display_data"
    },
    {
     "name": "stdout",
     "output_type": "stream",
     "text": [
      "horse\n"
     ]
    },
    {
     "data": {
      "image/png": "[encoded data removed]",
      "text/plain": [
       "<PIL.Image.Image image mode=RGB size=32x32 at 0x7F9C6FA13208>"
      ]
     },
     "metadata": {},
     "output_type": "display_data"
    },
    {
     "name": "stdout",
     "output_type": "stream",
     "text": [
      "ship\n"
     ]
    },
    {
     "data": {
      "image/png": "[encoded data removed]",
      "text/plain": [
       "<PIL.Image.Image image mode=RGB size=32x32 at 0x7F9D0C065198>"
      ]
     },
     "metadata": {},
     "output_type": "display_data"
    },
    {
     "name": "stdout",
     "output_type": "stream",
     "text": [
      "truck\n"
     ]
    },
    {
     "data": {
      "image/png": "[encoded data removed]",
      "text/plain": [
       "<PIL.Image.Image image mode=RGB size=32x32 at 0x7F9C82C37438>"
      ]
     },
     "metadata": {},
     "output_type": "display_data"
    }
   ],
   "source": [
    "for key, dataset in sorted(dataset_dict.items()):\n",
    "    loader = dataset.loaders(batch_size=batch_size_loading,\n",
    "                             num_workers=num_workers)\n",
    "    for data in loader:\n",
    "        X, y, idx = data\n",
    "        break\n",
    "    \n",
    "    X_mean = torch.mean(X, axis=0)\n",
    "    mean_dict[key] = X_mean\n",
    "    img = untransform(X_mean); print(key); display(img)"
   ]
  },
  {
   "cell_type": "markdown",
   "metadata": {},
   "source": [
    "## 1.1. Obtaining $L^2$ Distance"
   ]
  },
  {
   "cell_type": "markdown",
   "metadata": {},
   "source": [
    "### 1.1.1. Get `l2_distance_df`"
   ]
  },
  {
   "cell_type": "code",
   "execution_count": 33,
   "metadata": {},
   "outputs": [],
   "source": [
    "l2_distance_matrix = np.zeros((10, 10))\n",
    "keys = sorted(dataset_dict.keys())\n",
    "l2_binary_dict = dict()\n",
    "criterion = nn.MSELoss(reduction='none')"
   ]
  },
  {
   "cell_type": "code",
   "execution_count": 34,
   "metadata": {},
   "outputs": [],
   "source": [
    "for i, key_i in enumerate(keys):\n",
    "    for j, key_j in enumerate(keys):\n",
    "        x_i, x_j = mean_dict[key_i], mean_dict[key_j]\n",
    "        dist = criterion(x_i, x_j)\n",
    "        dist_mean = round(torch.mean(dist).cpu().data.numpy().item(), 3)\n",
    "        l2_distance_matrix[i][j] = dist_mean"
   ]
  },
  {
   "cell_type": "code",
   "execution_count": 35,
   "metadata": {},
   "outputs": [
    {
     "data": {
      "text/html": [
       "<div>\n",
       "<style scoped>\n",
       "    .dataframe tbody tr th:only-of-type {\n",
       "        vertical-align: middle;\n",
       "    }\n",
       "\n",
       "    .dataframe tbody tr th {\n",
       "        vertical-align: top;\n",
       "    }\n",
       "\n",
       "    .dataframe thead th {\n",
       "        text-align: right;\n",
       "    }\n",
       "</style>\n",
       "<table border=\"1\" class=\"dataframe\">\n",
       "  <thead>\n",
       "    <tr style=\"text-align: right;\">\n",
       "      <th></th>\n",
       "      <th>airplane</th>\n",
       "      <th>automobile</th>\n",
       "      <th>bird</th>\n",
       "      <th>cat</th>\n",
       "      <th>deer</th>\n",
       "      <th>dog</th>\n",
       "      <th>frog</th>\n",
       "      <th>horse</th>\n",
       "      <th>ship</th>\n",
       "      <th>truck</th>\n",
       "    </tr>\n",
       "  </thead>\n",
       "  <tbody>\n",
       "    <tr>\n",
       "      <th>airplane</th>\n",
       "      <td>0.000</td>\n",
       "      <td>0.014</td>\n",
       "      <td>0.013</td>\n",
       "      <td>0.018</td>\n",
       "      <td>0.023</td>\n",
       "      <td>0.019</td>\n",
       "      <td>0.030</td>\n",
       "      <td>0.014</td>\n",
       "      <td>0.004</td>\n",
       "      <td>0.011</td>\n",
       "    </tr>\n",
       "    <tr>\n",
       "      <th>automobile</th>\n",
       "      <td>0.014</td>\n",
       "      <td>0.000</td>\n",
       "      <td>0.004</td>\n",
       "      <td>0.005</td>\n",
       "      <td>0.007</td>\n",
       "      <td>0.007</td>\n",
       "      <td>0.007</td>\n",
       "      <td>0.005</td>\n",
       "      <td>0.009</td>\n",
       "      <td>0.005</td>\n",
       "    </tr>\n",
       "    <tr>\n",
       "      <th>bird</th>\n",
       "      <td>0.013</td>\n",
       "      <td>0.004</td>\n",
       "      <td>0.000</td>\n",
       "      <td>0.001</td>\n",
       "      <td>0.002</td>\n",
       "      <td>0.002</td>\n",
       "      <td>0.004</td>\n",
       "      <td>0.001</td>\n",
       "      <td>0.012</td>\n",
       "      <td>0.010</td>\n",
       "    </tr>\n",
       "    <tr>\n",
       "      <th>cat</th>\n",
       "      <td>0.018</td>\n",
       "      <td>0.005</td>\n",
       "      <td>0.001</td>\n",
       "      <td>0.000</td>\n",
       "      <td>0.001</td>\n",
       "      <td>0.001</td>\n",
       "      <td>0.002</td>\n",
       "      <td>0.002</td>\n",
       "      <td>0.017</td>\n",
       "      <td>0.014</td>\n",
       "    </tr>\n",
       "    <tr>\n",
       "      <th>deer</th>\n",
       "      <td>0.023</td>\n",
       "      <td>0.007</td>\n",
       "      <td>0.002</td>\n",
       "      <td>0.001</td>\n",
       "      <td>0.000</td>\n",
       "      <td>0.002</td>\n",
       "      <td>0.001</td>\n",
       "      <td>0.002</td>\n",
       "      <td>0.021</td>\n",
       "      <td>0.017</td>\n",
       "    </tr>\n",
       "    <tr>\n",
       "      <th>dog</th>\n",
       "      <td>0.019</td>\n",
       "      <td>0.007</td>\n",
       "      <td>0.002</td>\n",
       "      <td>0.001</td>\n",
       "      <td>0.002</td>\n",
       "      <td>0.000</td>\n",
       "      <td>0.003</td>\n",
       "      <td>0.004</td>\n",
       "      <td>0.018</td>\n",
       "      <td>0.018</td>\n",
       "    </tr>\n",
       "    <tr>\n",
       "      <th>frog</th>\n",
       "      <td>0.030</td>\n",
       "      <td>0.007</td>\n",
       "      <td>0.004</td>\n",
       "      <td>0.002</td>\n",
       "      <td>0.001</td>\n",
       "      <td>0.003</td>\n",
       "      <td>0.000</td>\n",
       "      <td>0.005</td>\n",
       "      <td>0.025</td>\n",
       "      <td>0.018</td>\n",
       "    </tr>\n",
       "    <tr>\n",
       "      <th>horse</th>\n",
       "      <td>0.014</td>\n",
       "      <td>0.005</td>\n",
       "      <td>0.001</td>\n",
       "      <td>0.002</td>\n",
       "      <td>0.002</td>\n",
       "      <td>0.004</td>\n",
       "      <td>0.005</td>\n",
       "      <td>0.000</td>\n",
       "      <td>0.014</td>\n",
       "      <td>0.009</td>\n",
       "    </tr>\n",
       "    <tr>\n",
       "      <th>ship</th>\n",
       "      <td>0.004</td>\n",
       "      <td>0.009</td>\n",
       "      <td>0.012</td>\n",
       "      <td>0.017</td>\n",
       "      <td>0.021</td>\n",
       "      <td>0.018</td>\n",
       "      <td>0.025</td>\n",
       "      <td>0.014</td>\n",
       "      <td>0.000</td>\n",
       "      <td>0.006</td>\n",
       "    </tr>\n",
       "    <tr>\n",
       "      <th>truck</th>\n",
       "      <td>0.011</td>\n",
       "      <td>0.005</td>\n",
       "      <td>0.010</td>\n",
       "      <td>0.014</td>\n",
       "      <td>0.017</td>\n",
       "      <td>0.018</td>\n",
       "      <td>0.018</td>\n",
       "      <td>0.009</td>\n",
       "      <td>0.006</td>\n",
       "      <td>0.000</td>\n",
       "    </tr>\n",
       "  </tbody>\n",
       "</table>\n",
       "</div>"
      ],
      "text/plain": [
       "            airplane  automobile   bird    cat   deer    dog   frog  horse  \\\n",
       "airplane       0.000       0.014  0.013  0.018  0.023  0.019  0.030  0.014   \n",
       "automobile     0.014       0.000  0.004  0.005  0.007  0.007  0.007  0.005   \n",
       "bird           0.013       0.004  0.000  0.001  0.002  0.002  0.004  0.001   \n",
       "cat            0.018       0.005  0.001  0.000  0.001  0.001  0.002  0.002   \n",
       "deer           0.023       0.007  0.002  0.001  0.000  0.002  0.001  0.002   \n",
       "dog            0.019       0.007  0.002  0.001  0.002  0.000  0.003  0.004   \n",
       "frog           0.030       0.007  0.004  0.002  0.001  0.003  0.000  0.005   \n",
       "horse          0.014       0.005  0.001  0.002  0.002  0.004  0.005  0.000   \n",
       "ship           0.004       0.009  0.012  0.017  0.021  0.018  0.025  0.014   \n",
       "truck          0.011       0.005  0.010  0.014  0.017  0.018  0.018  0.009   \n",
       "\n",
       "             ship  truck  \n",
       "airplane    0.004  0.011  \n",
       "automobile  0.009  0.005  \n",
       "bird        0.012  0.010  \n",
       "cat         0.017  0.014  \n",
       "deer        0.021  0.017  \n",
       "dog         0.018  0.018  \n",
       "frog        0.025  0.018  \n",
       "horse       0.014  0.009  \n",
       "ship        0.000  0.006  \n",
       "truck       0.006  0.000  "
      ]
     },
     "execution_count": 35,
     "metadata": {},
     "output_type": "execute_result"
    }
   ],
   "source": [
    "l2_distance_df = pd.DataFrame(l2_distance_matrix)\n",
    "l2_distance_df.index = keys\n",
    "l2_distance_df.columns = keys\n",
    "# l2_distance_df.sort_values('coat')\n",
    "# l2_distance_df\n",
    "l2_distance_df"
   ]
  },
  {
   "cell_type": "code",
   "execution_count": 36,
   "metadata": {},
   "outputs": [
    {
     "data": {
      "text/plain": [
       "deer          0.000\n",
       "cat           0.001\n",
       "frog          0.001\n",
       "bird          0.002\n",
       "dog           0.002\n",
       "horse         0.002\n",
       "automobile    0.007\n",
       "truck         0.017\n",
       "ship          0.021\n",
       "airplane      0.023\n",
       "Name: deer, dtype: float64"
      ]
     },
     "execution_count": 36,
     "metadata": {},
     "output_type": "execute_result"
    }
   ],
   "source": [
    "l2_distance_df['deer'].sort_values()"
   ]
  },
  {
   "cell_type": "code",
   "execution_count": 37,
   "metadata": {},
   "outputs": [
    {
     "data": {
      "text/plain": [
       "horse         0.000\n",
       "bird          0.001\n",
       "cat           0.002\n",
       "deer          0.002\n",
       "dog           0.004\n",
       "automobile    0.005\n",
       "frog          0.005\n",
       "truck         0.009\n",
       "airplane      0.014\n",
       "ship          0.014\n",
       "Name: horse, dtype: float64"
      ]
     },
     "execution_count": 37,
     "metadata": {},
     "output_type": "execute_result"
    }
   ],
   "source": [
    "l2_distance_df['horse'].sort_values()"
   ]
  },
  {
   "cell_type": "code",
   "execution_count": 38,
   "metadata": {},
   "outputs": [
    {
     "data": {
      "text/plain": [
       "frog          0.000\n",
       "deer          0.001\n",
       "cat           0.002\n",
       "dog           0.003\n",
       "bird          0.004\n",
       "horse         0.005\n",
       "automobile    0.007\n",
       "truck         0.018\n",
       "ship          0.025\n",
       "airplane      0.030\n",
       "Name: frog, dtype: float64"
      ]
     },
     "execution_count": 38,
     "metadata": {},
     "output_type": "execute_result"
    }
   ],
   "source": [
    "l2_distance_df['frog'].sort_values()"
   ]
  },
  {
   "cell_type": "code",
   "execution_count": 12,
   "metadata": {},
   "outputs": [
    {
     "data": {
      "text/plain": [
       "tshirt      0.000\n",
       "shirt       0.017\n",
       "dress       0.026\n",
       "pullover    0.040\n",
       "coat        0.043\n",
       "trouser     0.053\n",
       "bag         0.073\n",
       "sandal      0.115\n",
       "boot        0.117\n",
       "sneaker     0.134\n",
       "Name: tshirt, dtype: float64"
      ]
     },
     "execution_count": 12,
     "metadata": {},
     "output_type": "execute_result"
    }
   ],
   "source": [
    "l2_distance_df['tshirt'].sort_values()"
   ]
  },
  {
   "cell_type": "markdown",
   "metadata": {},
   "source": [
    "> The **maximum** distance is in `<boot, trouser>`, which is **0.147**.   \n",
    "> The **minimum** distance is in `<coat, pullover>`, which is **0.008**.\n",
    "\n",
    "> The ranking for `coat` is: \n",
    "- **`pullover`** < `shirt` < `tshirt` < `bag` < `dress` < `trouser` < `boot` < `sandal` < **`sneaker`**  \n",
    "\n",
    "> The ranking for `shirt` is: \n",
    "- **`pullover`** < `coat` < `tshirt` < `dress` < `bag` < `trouser` < `boot` < `sandal` < **`sneaker`**  \n",
    "\n",
    "> The ranking for `pullover` is: \n",
    "- **`coat`** < `shirt` < `tshirt` < `bag` < `dress` < `trouser` < `boot` < `sandal` < **`sneaker`**  \n",
    "\n",
    "> The ranking for `tshirt` is: \n",
    "- **`shirt`** < `dress` < `pullover` < `coat` < `trouser` < `bag` < `sandal` < `boot` < **`sneaker`**  "
   ]
  },
  {
   "cell_type": "markdown",
   "metadata": {},
   "source": [
    "### 1.1.2. Get `l2_binary_df`"
   ]
  },
  {
   "cell_type": "code",
   "execution_count": 13,
   "metadata": {},
   "outputs": [],
   "source": [
    "for i, key in enumerate(keys):\n",
    "    distances = l2_distance_df[key].values.copy()\n",
    "    max_ = keys[np.argmax(distances)]\n",
    "    distances[i] = np.inf\n",
    "    min_ = keys[np.argmin(distances)]\n",
    "    l2_binary_dict[key] = dict()\n",
    "    l2_binary_dict[key]['min'] = min_\n",
    "    l2_binary_dict[key]['max'] = max_"
   ]
  },
  {
   "cell_type": "code",
   "execution_count": 14,
   "metadata": {},
   "outputs": [
    {
     "data": {
      "text/html": [
       "<div>\n",
       "<style scoped>\n",
       "    .dataframe tbody tr th:only-of-type {\n",
       "        vertical-align: middle;\n",
       "    }\n",
       "\n",
       "    .dataframe tbody tr th {\n",
       "        vertical-align: top;\n",
       "    }\n",
       "\n",
       "    .dataframe thead th {\n",
       "        text-align: right;\n",
       "    }\n",
       "</style>\n",
       "<table border=\"1\" class=\"dataframe\">\n",
       "  <thead>\n",
       "    <tr style=\"text-align: right;\">\n",
       "      <th></th>\n",
       "      <th>max</th>\n",
       "      <th>min</th>\n",
       "    </tr>\n",
       "  </thead>\n",
       "  <tbody>\n",
       "    <tr>\n",
       "      <th>bag</th>\n",
       "      <td>trouser</td>\n",
       "      <td>shirt</td>\n",
       "    </tr>\n",
       "    <tr>\n",
       "      <th>boot</th>\n",
       "      <td>trouser</td>\n",
       "      <td>bag</td>\n",
       "    </tr>\n",
       "    <tr>\n",
       "      <th>coat</th>\n",
       "      <td>sneaker</td>\n",
       "      <td>pullover</td>\n",
       "    </tr>\n",
       "    <tr>\n",
       "      <th>dress</th>\n",
       "      <td>boot</td>\n",
       "      <td>trouser</td>\n",
       "    </tr>\n",
       "    <tr>\n",
       "      <th>pullover</th>\n",
       "      <td>sneaker</td>\n",
       "      <td>coat</td>\n",
       "    </tr>\n",
       "    <tr>\n",
       "      <th>sandal</th>\n",
       "      <td>coat</td>\n",
       "      <td>sneaker</td>\n",
       "    </tr>\n",
       "    <tr>\n",
       "      <th>shirt</th>\n",
       "      <td>sneaker</td>\n",
       "      <td>pullover</td>\n",
       "    </tr>\n",
       "    <tr>\n",
       "      <th>sneaker</th>\n",
       "      <td>coat</td>\n",
       "      <td>sandal</td>\n",
       "    </tr>\n",
       "    <tr>\n",
       "      <th>trouser</th>\n",
       "      <td>boot</td>\n",
       "      <td>dress</td>\n",
       "    </tr>\n",
       "    <tr>\n",
       "      <th>tshirt</th>\n",
       "      <td>sneaker</td>\n",
       "      <td>shirt</td>\n",
       "    </tr>\n",
       "  </tbody>\n",
       "</table>\n",
       "</div>"
      ],
      "text/plain": [
       "              max       min\n",
       "bag       trouser     shirt\n",
       "boot      trouser       bag\n",
       "coat      sneaker  pullover\n",
       "dress        boot   trouser\n",
       "pullover  sneaker      coat\n",
       "sandal       coat   sneaker\n",
       "shirt     sneaker  pullover\n",
       "sneaker      coat    sandal\n",
       "trouser      boot     dress\n",
       "tshirt    sneaker     shirt"
      ]
     },
     "execution_count": 14,
     "metadata": {},
     "output_type": "execute_result"
    }
   ],
   "source": [
    "l2_binary_df = pd.DataFrame(l2_binary_dict).T\n",
    "l2_binary_df"
   ]
  },
  {
   "cell_type": "markdown",
   "metadata": {},
   "source": [
    "# 2. Metric 2: $L^{1}$-Distance for Mean of Raw Images"
   ]
  },
  {
   "cell_type": "markdown",
   "metadata": {},
   "source": [
    "## 2.1. Obtaining $L^1$ Distance"
   ]
  },
  {
   "cell_type": "markdown",
   "metadata": {},
   "source": [
    "### 2.1.1. Get `l1_distance_df`"
   ]
  },
  {
   "cell_type": "code",
   "execution_count": 15,
   "metadata": {},
   "outputs": [],
   "source": [
    "l1_distance_matrix = np.zeros((10, 10))\n",
    "l1_binary_dict = dict()"
   ]
  },
  {
   "cell_type": "code",
   "execution_count": 16,
   "metadata": {},
   "outputs": [],
   "source": [
    "for i, key_i in enumerate(keys):\n",
    "    for j, key_j in enumerate(keys):\n",
    "        x_i, x_j = mean_dict[key_i], mean_dict[key_j]\n",
    "        dist = torch.abs(x_i - x_j)\n",
    "        dist_mean = round(torch.mean(dist).cpu().data.numpy().item(), 3)\n",
    "        l1_distance_matrix[i][j] = dist_mean"
   ]
  },
  {
   "cell_type": "code",
   "execution_count": 17,
   "metadata": {},
   "outputs": [
    {
     "data": {
      "text/html": [
       "<div>\n",
       "<style scoped>\n",
       "    .dataframe tbody tr th:only-of-type {\n",
       "        vertical-align: middle;\n",
       "    }\n",
       "\n",
       "    .dataframe tbody tr th {\n",
       "        vertical-align: top;\n",
       "    }\n",
       "\n",
       "    .dataframe thead th {\n",
       "        text-align: right;\n",
       "    }\n",
       "</style>\n",
       "<table border=\"1\" class=\"dataframe\">\n",
       "  <thead>\n",
       "    <tr style=\"text-align: right;\">\n",
       "      <th></th>\n",
       "      <th>bag</th>\n",
       "      <th>boot</th>\n",
       "      <th>coat</th>\n",
       "      <th>dress</th>\n",
       "      <th>pullover</th>\n",
       "      <th>sandal</th>\n",
       "      <th>shirt</th>\n",
       "      <th>sneaker</th>\n",
       "      <th>trouser</th>\n",
       "      <th>tshirt</th>\n",
       "    </tr>\n",
       "  </thead>\n",
       "  <tbody>\n",
       "    <tr>\n",
       "      <th>bag</th>\n",
       "      <td>0.000</td>\n",
       "      <td>0.165</td>\n",
       "      <td>0.152</td>\n",
       "      <td>0.231</td>\n",
       "      <td>0.151</td>\n",
       "      <td>0.218</td>\n",
       "      <td>0.149</td>\n",
       "      <td>0.205</td>\n",
       "      <td>0.278</td>\n",
       "      <td>0.208</td>\n",
       "    </tr>\n",
       "    <tr>\n",
       "      <th>boot</th>\n",
       "      <td>0.165</td>\n",
       "      <td>0.000</td>\n",
       "      <td>0.232</td>\n",
       "      <td>0.258</td>\n",
       "      <td>0.229</td>\n",
       "      <td>0.182</td>\n",
       "      <td>0.226</td>\n",
       "      <td>0.183</td>\n",
       "      <td>0.283</td>\n",
       "      <td>0.265</td>\n",
       "    </tr>\n",
       "    <tr>\n",
       "      <th>coat</th>\n",
       "      <td>0.152</td>\n",
       "      <td>0.232</td>\n",
       "      <td>0.000</td>\n",
       "      <td>0.159</td>\n",
       "      <td>0.066</td>\n",
       "      <td>0.297</td>\n",
       "      <td>0.088</td>\n",
       "      <td>0.284</td>\n",
       "      <td>0.197</td>\n",
       "      <td>0.140</td>\n",
       "    </tr>\n",
       "    <tr>\n",
       "      <th>dress</th>\n",
       "      <td>0.231</td>\n",
       "      <td>0.258</td>\n",
       "      <td>0.159</td>\n",
       "      <td>0.000</td>\n",
       "      <td>0.177</td>\n",
       "      <td>0.240</td>\n",
       "      <td>0.142</td>\n",
       "      <td>0.241</td>\n",
       "      <td>0.082</td>\n",
       "      <td>0.103</td>\n",
       "    </tr>\n",
       "    <tr>\n",
       "      <th>pullover</th>\n",
       "      <td>0.151</td>\n",
       "      <td>0.229</td>\n",
       "      <td>0.066</td>\n",
       "      <td>0.177</td>\n",
       "      <td>0.000</td>\n",
       "      <td>0.278</td>\n",
       "      <td>0.066</td>\n",
       "      <td>0.273</td>\n",
       "      <td>0.217</td>\n",
       "      <td>0.114</td>\n",
       "    </tr>\n",
       "    <tr>\n",
       "      <th>sandal</th>\n",
       "      <td>0.218</td>\n",
       "      <td>0.182</td>\n",
       "      <td>0.297</td>\n",
       "      <td>0.240</td>\n",
       "      <td>0.278</td>\n",
       "      <td>0.000</td>\n",
       "      <td>0.237</td>\n",
       "      <td>0.089</td>\n",
       "      <td>0.235</td>\n",
       "      <td>0.275</td>\n",
       "    </tr>\n",
       "    <tr>\n",
       "      <th>shirt</th>\n",
       "      <td>0.149</td>\n",
       "      <td>0.226</td>\n",
       "      <td>0.088</td>\n",
       "      <td>0.142</td>\n",
       "      <td>0.066</td>\n",
       "      <td>0.237</td>\n",
       "      <td>0.000</td>\n",
       "      <td>0.246</td>\n",
       "      <td>0.191</td>\n",
       "      <td>0.088</td>\n",
       "    </tr>\n",
       "    <tr>\n",
       "      <th>sneaker</th>\n",
       "      <td>0.205</td>\n",
       "      <td>0.183</td>\n",
       "      <td>0.284</td>\n",
       "      <td>0.241</td>\n",
       "      <td>0.273</td>\n",
       "      <td>0.089</td>\n",
       "      <td>0.246</td>\n",
       "      <td>0.000</td>\n",
       "      <td>0.241</td>\n",
       "      <td>0.280</td>\n",
       "    </tr>\n",
       "    <tr>\n",
       "      <th>trouser</th>\n",
       "      <td>0.278</td>\n",
       "      <td>0.283</td>\n",
       "      <td>0.197</td>\n",
       "      <td>0.082</td>\n",
       "      <td>0.217</td>\n",
       "      <td>0.235</td>\n",
       "      <td>0.191</td>\n",
       "      <td>0.241</td>\n",
       "      <td>0.000</td>\n",
       "      <td>0.158</td>\n",
       "    </tr>\n",
       "    <tr>\n",
       "      <th>tshirt</th>\n",
       "      <td>0.208</td>\n",
       "      <td>0.265</td>\n",
       "      <td>0.140</td>\n",
       "      <td>0.103</td>\n",
       "      <td>0.114</td>\n",
       "      <td>0.275</td>\n",
       "      <td>0.088</td>\n",
       "      <td>0.280</td>\n",
       "      <td>0.158</td>\n",
       "      <td>0.000</td>\n",
       "    </tr>\n",
       "  </tbody>\n",
       "</table>\n",
       "</div>"
      ],
      "text/plain": [
       "            bag   boot   coat  dress  pullover  sandal  shirt  sneaker  \\\n",
       "bag       0.000  0.165  0.152  0.231     0.151   0.218  0.149    0.205   \n",
       "boot      0.165  0.000  0.232  0.258     0.229   0.182  0.226    0.183   \n",
       "coat      0.152  0.232  0.000  0.159     0.066   0.297  0.088    0.284   \n",
       "dress     0.231  0.258  0.159  0.000     0.177   0.240  0.142    0.241   \n",
       "pullover  0.151  0.229  0.066  0.177     0.000   0.278  0.066    0.273   \n",
       "sandal    0.218  0.182  0.297  0.240     0.278   0.000  0.237    0.089   \n",
       "shirt     0.149  0.226  0.088  0.142     0.066   0.237  0.000    0.246   \n",
       "sneaker   0.205  0.183  0.284  0.241     0.273   0.089  0.246    0.000   \n",
       "trouser   0.278  0.283  0.197  0.082     0.217   0.235  0.191    0.241   \n",
       "tshirt    0.208  0.265  0.140  0.103     0.114   0.275  0.088    0.280   \n",
       "\n",
       "          trouser  tshirt  \n",
       "bag         0.278   0.208  \n",
       "boot        0.283   0.265  \n",
       "coat        0.197   0.140  \n",
       "dress       0.082   0.103  \n",
       "pullover    0.217   0.114  \n",
       "sandal      0.235   0.275  \n",
       "shirt       0.191   0.088  \n",
       "sneaker     0.241   0.280  \n",
       "trouser     0.000   0.158  \n",
       "tshirt      0.158   0.000  "
      ]
     },
     "execution_count": 17,
     "metadata": {},
     "output_type": "execute_result"
    }
   ],
   "source": [
    "l1_distance_df = pd.DataFrame(l1_distance_matrix)\n",
    "l1_distance_df.index = keys\n",
    "l1_distance_df.columns = keys\n",
    "l1_distance_df"
   ]
  },
  {
   "cell_type": "code",
   "execution_count": 18,
   "metadata": {},
   "outputs": [
    {
     "data": {
      "text/plain": [
       "coat        0.000\n",
       "pullover    0.066\n",
       "shirt       0.088\n",
       "tshirt      0.140\n",
       "bag         0.152\n",
       "dress       0.159\n",
       "trouser     0.197\n",
       "boot        0.232\n",
       "sneaker     0.284\n",
       "sandal      0.297\n",
       "Name: coat, dtype: float64"
      ]
     },
     "execution_count": 18,
     "metadata": {},
     "output_type": "execute_result"
    }
   ],
   "source": [
    "l1_distance_df['coat'].sort_values()"
   ]
  },
  {
   "cell_type": "code",
   "execution_count": 19,
   "metadata": {},
   "outputs": [
    {
     "data": {
      "text/plain": [
       "pullover    0.000\n",
       "coat        0.066\n",
       "shirt       0.066\n",
       "tshirt      0.114\n",
       "bag         0.151\n",
       "dress       0.177\n",
       "trouser     0.217\n",
       "boot        0.229\n",
       "sneaker     0.273\n",
       "sandal      0.278\n",
       "Name: pullover, dtype: float64"
      ]
     },
     "execution_count": 19,
     "metadata": {},
     "output_type": "execute_result"
    }
   ],
   "source": [
    "l1_distance_df['pullover'].sort_values()"
   ]
  },
  {
   "cell_type": "code",
   "execution_count": 20,
   "metadata": {},
   "outputs": [
    {
     "data": {
      "text/plain": [
       "shirt       0.000\n",
       "pullover    0.066\n",
       "coat        0.088\n",
       "tshirt      0.088\n",
       "dress       0.142\n",
       "bag         0.149\n",
       "trouser     0.191\n",
       "boot        0.226\n",
       "sandal      0.237\n",
       "sneaker     0.246\n",
       "Name: shirt, dtype: float64"
      ]
     },
     "execution_count": 20,
     "metadata": {},
     "output_type": "execute_result"
    }
   ],
   "source": [
    "l1_distance_df['shirt'].sort_values()"
   ]
  },
  {
   "cell_type": "code",
   "execution_count": 21,
   "metadata": {},
   "outputs": [
    {
     "data": {
      "text/plain": [
       "tshirt      0.000\n",
       "shirt       0.088\n",
       "dress       0.103\n",
       "pullover    0.114\n",
       "coat        0.140\n",
       "trouser     0.158\n",
       "bag         0.208\n",
       "boot        0.265\n",
       "sandal      0.275\n",
       "sneaker     0.280\n",
       "Name: tshirt, dtype: float64"
      ]
     },
     "execution_count": 21,
     "metadata": {},
     "output_type": "execute_result"
    }
   ],
   "source": [
    "l1_distance_df['tshirt'].sort_values()"
   ]
  },
  {
   "cell_type": "markdown",
   "metadata": {},
   "source": [
    "> The **maximum** distance is in `<coat, sandal>`, which is **0.297**.   \n",
    "> The **minimum** distance is in `<coat, pullover>`, which is **0.066**.\n",
    "\n",
    "> The ranking for `coat` is: \n",
    "- **`pullover`** < `shirt` < `tshirt` < `bag` < `dress` < `trouser` < `boot` < `sneaker` < **`sandal`**\n",
    "\n",
    "> The ranking for `shirt` is: \n",
    "- **`pullover`** < `coat` < `tshirt` < `dress` < `bag` < `trouser` < `boot` < `sandal` < **`sneaker`**  \n",
    "\n",
    "> The ranking for `pullover` is: \n",
    "- **`coat`** < `shirt` < `tshirt` < `bag` < `dress` < `trouser` < `boot` < `sneaker` < **`sandal`**  \n",
    "\n",
    "> The ranking for `tshirt` is: \n",
    "- **`shirt`** < `dress` < `pullover` < `coat` < `trouser` < `bag` < `boot` < `sandal` < **`sneaker`**  "
   ]
  },
  {
   "cell_type": "markdown",
   "metadata": {},
   "source": [
    "### 2.1.2. Get `l1_binary_df`"
   ]
  },
  {
   "cell_type": "code",
   "execution_count": 22,
   "metadata": {},
   "outputs": [],
   "source": [
    "for i, key in enumerate(keys):\n",
    "    distances = l1_distance_df[key].values.copy()\n",
    "    max_ = keys[np.argmax(distances)]\n",
    "    distances[i] = np.inf\n",
    "    min_ = keys[np.argmin(distances)]\n",
    "    l1_binary_dict[key] = dict()\n",
    "    l1_binary_dict[key]['min'] = min_\n",
    "    l1_binary_dict[key]['max'] = max_"
   ]
  },
  {
   "cell_type": "code",
   "execution_count": 23,
   "metadata": {},
   "outputs": [],
   "source": [
    "l1_binary_df = pd.DataFrame(l1_binary_dict).T"
   ]
  },
  {
   "cell_type": "code",
   "execution_count": 24,
   "metadata": {},
   "outputs": [
    {
     "data": {
      "text/plain": [
       "max     8\n",
       "min    10\n",
       "dtype: int64"
      ]
     },
     "execution_count": 24,
     "metadata": {},
     "output_type": "execute_result"
    }
   ],
   "source": [
    "(l2_binary_df == l1_binary_df).sum()"
   ]
  },
  {
   "cell_type": "markdown",
   "metadata": {},
   "source": [
    "> The results are similar to that of $L^2$-distance's."
   ]
  },
  {
   "cell_type": "markdown",
   "metadata": {},
   "source": [
    "# 3. Metric 3: $L^{2}$-Distance for Mean of Representations in Reconstruction Model (Unsupervised)"
   ]
  },
  {
   "cell_type": "markdown",
   "metadata": {},
   "source": [
    "> **Step 1**: We will use coat-train to train an unsupervised reconstruction model.  \n",
    "> **Step 2**: We will use coat-test to calculate the mean of representations (outputs).   \n",
    "> **Step 3**: We will use other other datasets to calculate the mean of representations.  \n",
    "> **Step 4**: We compare the distances between these means.   "
   ]
  },
  {
   "cell_type": "markdown",
   "metadata": {},
   "source": [
    "## Shirt"
   ]
  },
  {
   "cell_type": "code",
   "execution_count": 44,
   "metadata": {},
   "outputs": [],
   "source": [
    "label_eval=(6,)\n",
    "base = 'shirt'"
   ]
  },
  {
   "cell_type": "code",
   "execution_count": 45,
   "metadata": {},
   "outputs": [],
   "source": [
    "rec_distance_dict = {base:{base: 0.000}}\n",
    "device = 'cpu'\n",
    "net_name = 'fmnist_LeNet_rec'\n",
    "model_path = '/net/leksai/nips/model/rec/fmnist/rec_unsupervised_[{}]_[]_[0.0]/net_fmnist_LeNet_rec_eta_100_epochs_150_batch_128/model.tar'.format(label_eval[0])\n",
    "\n",
    "net = build_network(net_name)\n",
    "model_dict = torch.load(model_path, map_location=device)\n",
    "net.load_state_dict(model_dict['net_dict'])\n",
    "\n",
    "data_base_test = load_dataset(loader_name='fmnist_eval',\n",
    "                              label_eval=label_eval,\n",
    "                              test_eval=True)\n",
    "\n",
    "base_loader_test = data_base_test.loaders(batch_size=batch_size_loading,\n",
    "                                          num_workers=num_workers)\n",
    "\n",
    "\n",
    "for data in base_loader_test:\n",
    "    X, y, idx = data\n",
    "    X, y, idx = X.to(device), y.to(device), idx.to(device)\n",
    "    X_pred = net(X)\n",
    "    \n",
    "X_pred_mean_base = torch.mean(X_pred, axis=0)\n",
    "\n",
    "\n",
    "for key, dataset in sorted(dataset_dict.items()):\n",
    "    if key == base:\n",
    "        continue\n",
    "    loader = dataset.loaders(batch_size=batch_size_loading,\n",
    "                             num_workers=num_workers)\n",
    "    for data in loader:\n",
    "        X, y, idx = data\n",
    "        X, y, idx = X.to(device), y.to(device), idx.to(device)\n",
    "        break\n",
    "    \n",
    "    X_pred = net(X)\n",
    "    X_pred_mean = torch.mean(X_pred, axis=0)\n",
    "    dist = criterion(X_pred_mean_base, X_pred_mean)\n",
    "    dist_mean = torch.mean(dist).cpu().data.numpy().item()\n",
    "    rec_distance_dict[base][key] = dist_mean"
   ]
  },
  {
   "cell_type": "code",
   "execution_count": 46,
   "metadata": {},
   "outputs": [
    {
     "data": {
      "text/html": [
       "<div>\n",
       "<style scoped>\n",
       "    .dataframe tbody tr th:only-of-type {\n",
       "        vertical-align: middle;\n",
       "    }\n",
       "\n",
       "    .dataframe tbody tr th {\n",
       "        vertical-align: top;\n",
       "    }\n",
       "\n",
       "    .dataframe thead th {\n",
       "        text-align: right;\n",
       "    }\n",
       "</style>\n",
       "<table border=\"1\" class=\"dataframe\">\n",
       "  <thead>\n",
       "    <tr style=\"text-align: right;\">\n",
       "      <th></th>\n",
       "      <th>shirt</th>\n",
       "    </tr>\n",
       "  </thead>\n",
       "  <tbody>\n",
       "    <tr>\n",
       "      <th>shirt</th>\n",
       "      <td>0.000000</td>\n",
       "    </tr>\n",
       "    <tr>\n",
       "      <th>pullover</th>\n",
       "      <td>0.000620</td>\n",
       "    </tr>\n",
       "    <tr>\n",
       "      <th>coat</th>\n",
       "      <td>0.000726</td>\n",
       "    </tr>\n",
       "    <tr>\n",
       "      <th>tshirt</th>\n",
       "      <td>0.001979</td>\n",
       "    </tr>\n",
       "    <tr>\n",
       "      <th>bag</th>\n",
       "      <td>0.002640</td>\n",
       "    </tr>\n",
       "    <tr>\n",
       "      <th>dress</th>\n",
       "      <td>0.002952</td>\n",
       "    </tr>\n",
       "    <tr>\n",
       "      <th>boot</th>\n",
       "      <td>0.003957</td>\n",
       "    </tr>\n",
       "    <tr>\n",
       "      <th>trouser</th>\n",
       "      <td>0.004746</td>\n",
       "    </tr>\n",
       "    <tr>\n",
       "      <th>sandal</th>\n",
       "      <td>0.004897</td>\n",
       "    </tr>\n",
       "    <tr>\n",
       "      <th>sneaker</th>\n",
       "      <td>0.005144</td>\n",
       "    </tr>\n",
       "  </tbody>\n",
       "</table>\n",
       "</div>"
      ],
      "text/plain": [
       "             shirt\n",
       "shirt     0.000000\n",
       "pullover  0.000620\n",
       "coat      0.000726\n",
       "tshirt    0.001979\n",
       "bag       0.002640\n",
       "dress     0.002952\n",
       "boot      0.003957\n",
       "trouser   0.004746\n",
       "sandal    0.004897\n",
       "sneaker   0.005144"
      ]
     },
     "execution_count": 46,
     "metadata": {},
     "output_type": "execute_result"
    }
   ],
   "source": [
    "rec_distance_df_shirt = pd.DataFrame(rec_distance_dict)\n",
    "rec_distance_df_shirt.sort_values(base, inplace=True)\n",
    "rec_distance_df_shirt"
   ]
  },
  {
   "cell_type": "code",
   "execution_count": 47,
   "metadata": {},
   "outputs": [
    {
     "data": {
      "text/plain": [
       "Index(['shirt', 'pullover', 'coat', 'tshirt', 'bag', 'dress', 'boot',\n",
       "       'trouser', 'sandal', 'sneaker'],\n",
       "      dtype='object')"
      ]
     },
     "execution_count": 47,
     "metadata": {},
     "output_type": "execute_result"
    }
   ],
   "source": [
    "rec_ranking_shirt = rec_distance_df_shirt.index\n",
    "rec_ranking_shirt"
   ]
  },
  {
   "cell_type": "markdown",
   "metadata": {},
   "source": [
    "> The ranking for `shirt` is: \n",
    "- **`pullover`** < `coat` < `tshirt` < `bag` < `dress` < `boot` < `trouser` < `sandal` < **`sneaker`**  "
   ]
  },
  {
   "cell_type": "markdown",
   "metadata": {},
   "source": [
    "## Pullover"
   ]
  },
  {
   "cell_type": "code",
   "execution_count": 48,
   "metadata": {},
   "outputs": [],
   "source": [
    "label_eval=(2,)\n",
    "base = 'pullover'"
   ]
  },
  {
   "cell_type": "code",
   "execution_count": 49,
   "metadata": {},
   "outputs": [],
   "source": [
    "rec_distance_dict = {base:{base: 0.000}}\n",
    "device = 'cpu'\n",
    "net_name = 'fmnist_LeNet_rec'\n",
    "model_path = '/net/leksai/nips/model/rec/fmnist/rec_unsupervised_[{}]_[]_[0.0]/net_fmnist_LeNet_rec_eta_100_epochs_150_batch_128/model.tar'.format(label_eval[0])\n",
    "\n",
    "net = build_network(net_name)\n",
    "model_dict = torch.load(model_path, map_location=device)\n",
    "net.load_state_dict(model_dict['net_dict'])\n",
    "\n",
    "data_base_test = load_dataset(loader_name='fmnist_eval',\n",
    "                              label_eval=label_eval,\n",
    "                              test_eval=True)\n",
    "\n",
    "base_loader_test = data_base_test.loaders(batch_size=batch_size_loading,\n",
    "                                          num_workers=num_workers)\n",
    "\n",
    "\n",
    "for data in base_loader_test:\n",
    "    X, y, idx = data\n",
    "    X, y, idx = X.to(device), y.to(device), idx.to(device)\n",
    "    X_pred = net(X)\n",
    "    \n",
    "X_pred_mean_base = torch.mean(X_pred, axis=0)\n",
    "\n",
    "\n",
    "for key, dataset in sorted(dataset_dict.items()):\n",
    "    if key == base:\n",
    "        continue\n",
    "    loader = dataset.loaders(batch_size=batch_size_loading,\n",
    "                             num_workers=num_workers)\n",
    "    for data in loader:\n",
    "        X, y, idx = data\n",
    "        X, y, idx = X.to(device), y.to(device), idx.to(device)\n",
    "        break\n",
    "    \n",
    "    X_pred = net(X)\n",
    "    X_pred_mean = torch.mean(X_pred, axis=0)\n",
    "    dist = criterion(X_pred_mean_base, X_pred_mean)\n",
    "    dist_mean = torch.mean(dist).cpu().data.numpy().item()\n",
    "    rec_distance_dict[base][key] = dist_mean"
   ]
  },
  {
   "cell_type": "code",
   "execution_count": 50,
   "metadata": {},
   "outputs": [
    {
     "data": {
      "text/html": [
       "<div>\n",
       "<style scoped>\n",
       "    .dataframe tbody tr th:only-of-type {\n",
       "        vertical-align: middle;\n",
       "    }\n",
       "\n",
       "    .dataframe tbody tr th {\n",
       "        vertical-align: top;\n",
       "    }\n",
       "\n",
       "    .dataframe thead th {\n",
       "        text-align: right;\n",
       "    }\n",
       "</style>\n",
       "<table border=\"1\" class=\"dataframe\">\n",
       "  <thead>\n",
       "    <tr style=\"text-align: right;\">\n",
       "      <th></th>\n",
       "      <th>pullover</th>\n",
       "    </tr>\n",
       "  </thead>\n",
       "  <tbody>\n",
       "    <tr>\n",
       "      <th>pullover</th>\n",
       "      <td>0.000000</td>\n",
       "    </tr>\n",
       "    <tr>\n",
       "      <th>coat</th>\n",
       "      <td>0.000449</td>\n",
       "    </tr>\n",
       "    <tr>\n",
       "      <th>shirt</th>\n",
       "      <td>0.000606</td>\n",
       "    </tr>\n",
       "    <tr>\n",
       "      <th>tshirt</th>\n",
       "      <td>0.000968</td>\n",
       "    </tr>\n",
       "    <tr>\n",
       "      <th>dress</th>\n",
       "      <td>0.001964</td>\n",
       "    </tr>\n",
       "    <tr>\n",
       "      <th>trouser</th>\n",
       "      <td>0.002877</td>\n",
       "    </tr>\n",
       "    <tr>\n",
       "      <th>bag</th>\n",
       "      <td>0.003092</td>\n",
       "    </tr>\n",
       "    <tr>\n",
       "      <th>boot</th>\n",
       "      <td>0.005315</td>\n",
       "    </tr>\n",
       "    <tr>\n",
       "      <th>sneaker</th>\n",
       "      <td>0.006766</td>\n",
       "    </tr>\n",
       "    <tr>\n",
       "      <th>sandal</th>\n",
       "      <td>0.008275</td>\n",
       "    </tr>\n",
       "  </tbody>\n",
       "</table>\n",
       "</div>"
      ],
      "text/plain": [
       "          pullover\n",
       "pullover  0.000000\n",
       "coat      0.000449\n",
       "shirt     0.000606\n",
       "tshirt    0.000968\n",
       "dress     0.001964\n",
       "trouser   0.002877\n",
       "bag       0.003092\n",
       "boot      0.005315\n",
       "sneaker   0.006766\n",
       "sandal    0.008275"
      ]
     },
     "execution_count": 50,
     "metadata": {},
     "output_type": "execute_result"
    }
   ],
   "source": [
    "rec_distance_df_pullover = pd.DataFrame(rec_distance_dict)\n",
    "rec_distance_df_pullover.sort_values(base, inplace=True)\n",
    "rec_distance_df_pullover"
   ]
  },
  {
   "cell_type": "code",
   "execution_count": 51,
   "metadata": {},
   "outputs": [
    {
     "data": {
      "text/plain": [
       "Index(['pullover', 'coat', 'shirt', 'tshirt', 'dress', 'trouser', 'bag',\n",
       "       'boot', 'sneaker', 'sandal'],\n",
       "      dtype='object')"
      ]
     },
     "execution_count": 51,
     "metadata": {},
     "output_type": "execute_result"
    }
   ],
   "source": [
    "rec_ranking_pullover = rec_distance_df_pullover.index\n",
    "rec_ranking_pullover"
   ]
  },
  {
   "cell_type": "markdown",
   "metadata": {},
   "source": [
    "> The ranking for `pullover` is: \n",
    "- **`coat`** < `shirt` < `tshirt` < `dress` < `trouser` < `bag` < `boot` < `sneaker` < **`sandal`**  "
   ]
  },
  {
   "cell_type": "markdown",
   "metadata": {},
   "source": [
    "## tshirt"
   ]
  },
  {
   "cell_type": "code",
   "execution_count": 52,
   "metadata": {},
   "outputs": [],
   "source": [
    "label_eval=(0,)\n",
    "base = 'tshirt'"
   ]
  },
  {
   "cell_type": "code",
   "execution_count": 53,
   "metadata": {},
   "outputs": [],
   "source": [
    "rec_distance_dict = {base:{base: 0.000}}\n",
    "device = 'cpu'\n",
    "net_name = 'fmnist_LeNet_rec'\n",
    "model_path = '/net/leksai/nips/model/rec/fmnist/rec_unsupervised_[{}]_[]_[0.0]/net_fmnist_LeNet_rec_eta_100_epochs_150_batch_128/model.tar'.format(label_eval[0])\n",
    "\n",
    "net = build_network(net_name)\n",
    "model_dict = torch.load(model_path, map_location=device)\n",
    "net.load_state_dict(model_dict['net_dict'])\n",
    "\n",
    "data_base_test = load_dataset(loader_name='fmnist_eval',\n",
    "                              label_eval=label_eval,\n",
    "                              test_eval=True)\n",
    "\n",
    "base_loader_test = data_base_test.loaders(batch_size=batch_size_loading,\n",
    "                                          num_workers=num_workers)\n",
    "\n",
    "\n",
    "for data in base_loader_test:\n",
    "    X, y, idx = data\n",
    "    X, y, idx = X.to(device), y.to(device), idx.to(device)\n",
    "    X_pred = net(X)\n",
    "    \n",
    "X_pred_mean_base = torch.mean(X_pred, axis=0)\n",
    "\n",
    "\n",
    "for key, dataset in sorted(dataset_dict.items()):\n",
    "    if key == base:\n",
    "        continue\n",
    "    loader = dataset.loaders(batch_size=batch_size_loading,\n",
    "                             num_workers=num_workers)\n",
    "    for data in loader:\n",
    "        X, y, idx = data\n",
    "        X, y, idx = X.to(device), y.to(device), idx.to(device)\n",
    "        break\n",
    "    \n",
    "    X_pred = net(X)\n",
    "    X_pred_mean = torch.mean(X_pred, axis=0)\n",
    "    dist = criterion(X_pred_mean_base, X_pred_mean)\n",
    "    dist_mean = torch.mean(dist).cpu().data.numpy().item()\n",
    "    rec_distance_dict[base][key] = dist_mean"
   ]
  },
  {
   "cell_type": "code",
   "execution_count": 54,
   "metadata": {},
   "outputs": [
    {
     "data": {
      "text/html": [
       "<div>\n",
       "<style scoped>\n",
       "    .dataframe tbody tr th:only-of-type {\n",
       "        vertical-align: middle;\n",
       "    }\n",
       "\n",
       "    .dataframe tbody tr th {\n",
       "        vertical-align: top;\n",
       "    }\n",
       "\n",
       "    .dataframe thead th {\n",
       "        text-align: right;\n",
       "    }\n",
       "</style>\n",
       "<table border=\"1\" class=\"dataframe\">\n",
       "  <thead>\n",
       "    <tr style=\"text-align: right;\">\n",
       "      <th></th>\n",
       "      <th>tshirt</th>\n",
       "    </tr>\n",
       "  </thead>\n",
       "  <tbody>\n",
       "    <tr>\n",
       "      <th>tshirt</th>\n",
       "      <td>0.000000</td>\n",
       "    </tr>\n",
       "    <tr>\n",
       "      <th>pullover</th>\n",
       "      <td>0.000860</td>\n",
       "    </tr>\n",
       "    <tr>\n",
       "      <th>shirt</th>\n",
       "      <td>0.001122</td>\n",
       "    </tr>\n",
       "    <tr>\n",
       "      <th>coat</th>\n",
       "      <td>0.001289</td>\n",
       "    </tr>\n",
       "    <tr>\n",
       "      <th>dress</th>\n",
       "      <td>0.002390</td>\n",
       "    </tr>\n",
       "    <tr>\n",
       "      <th>trouser</th>\n",
       "      <td>0.004361</td>\n",
       "    </tr>\n",
       "    <tr>\n",
       "      <th>bag</th>\n",
       "      <td>0.005570</td>\n",
       "    </tr>\n",
       "    <tr>\n",
       "      <th>boot</th>\n",
       "      <td>0.008033</td>\n",
       "    </tr>\n",
       "    <tr>\n",
       "      <th>sneaker</th>\n",
       "      <td>0.008674</td>\n",
       "    </tr>\n",
       "    <tr>\n",
       "      <th>sandal</th>\n",
       "      <td>0.012165</td>\n",
       "    </tr>\n",
       "  </tbody>\n",
       "</table>\n",
       "</div>"
      ],
      "text/plain": [
       "            tshirt\n",
       "tshirt    0.000000\n",
       "pullover  0.000860\n",
       "shirt     0.001122\n",
       "coat      0.001289\n",
       "dress     0.002390\n",
       "trouser   0.004361\n",
       "bag       0.005570\n",
       "boot      0.008033\n",
       "sneaker   0.008674\n",
       "sandal    0.012165"
      ]
     },
     "execution_count": 54,
     "metadata": {},
     "output_type": "execute_result"
    }
   ],
   "source": [
    "rec_distance_df_tshirt = pd.DataFrame(rec_distance_dict)\n",
    "rec_distance_df_tshirt.sort_values(base, inplace=True)\n",
    "rec_distance_df_tshirt"
   ]
  },
  {
   "cell_type": "code",
   "execution_count": 55,
   "metadata": {},
   "outputs": [
    {
     "data": {
      "text/plain": [
       "Index(['tshirt', 'pullover', 'shirt', 'coat', 'dress', 'trouser', 'bag',\n",
       "       'boot', 'sneaker', 'sandal'],\n",
       "      dtype='object')"
      ]
     },
     "execution_count": 55,
     "metadata": {},
     "output_type": "execute_result"
    }
   ],
   "source": [
    "rec_ranking_tshirt = rec_distance_df_tshirt.index\n",
    "rec_ranking_tshirt"
   ]
  },
  {
   "cell_type": "markdown",
   "metadata": {},
   "source": [
    "> The ranking for `tshirt` is: \n",
    "- **`pullover`** < `shirt` < `coat` < `dress` < `trouser` < `bag` < `boot` < `sneaker` < **`sandal`**  "
   ]
  },
  {
   "cell_type": "markdown",
   "metadata": {},
   "source": [
    "## 3.1. Get Mean"
   ]
  },
  {
   "cell_type": "code",
   "execution_count": 33,
   "metadata": {},
   "outputs": [],
   "source": [
    "label_eval=(4,)\n",
    "base = 'coat'"
   ]
  },
  {
   "cell_type": "code",
   "execution_count": 31,
   "metadata": {},
   "outputs": [],
   "source": [
    "rec_distance_dict = {base:{base: 0.000}}\n",
    "device = 'cpu'\n",
    "net_name = 'fmnist_LeNet_rec'\n",
    "model_path = '/net/leksai/nips/model/rec/fmnist/rec_unsupervised_[{}]_[]_[0.0]/net_fmnist_LeNet_rec_eta_100_epochs_150_batch_128/model.tar'.format(label_eval[0])"
   ]
  },
  {
   "cell_type": "code",
   "execution_count": 34,
   "metadata": {},
   "outputs": [
    {
     "data": {
      "text/plain": [
       "<All keys matched successfully>"
      ]
     },
     "execution_count": 34,
     "metadata": {},
     "output_type": "execute_result"
    }
   ],
   "source": [
    "net = build_network(net_name)\n",
    "model_dict = torch.load(model_path, map_location=device)\n",
    "net.load_state_dict(model_dict['net_dict'])"
   ]
  },
  {
   "cell_type": "code",
   "execution_count": 36,
   "metadata": {},
   "outputs": [],
   "source": [
    "data_base_test = load_dataset(loader_name='fmnist_eval',\n",
    "                              label_eval=label_eval,\n",
    "                              test_eval=True)\n",
    "\n",
    "base_loader_test = data_base_test.loaders(batch_size=batch_size_loading,\n",
    "                                     num_workers=num_workers)"
   ]
  },
  {
   "cell_type": "code",
   "execution_count": 38,
   "metadata": {},
   "outputs": [],
   "source": [
    "for data in base_loader_test:\n",
    "    X, y, idx = data\n",
    "    X, y, idx = X.to(device), y.to(device), idx.to(device)\n",
    "    X_pred = net(X)"
   ]
  },
  {
   "cell_type": "code",
   "execution_count": 39,
   "metadata": {
    "scrolled": true
   },
   "outputs": [],
   "source": [
    "X_pred_mean_base = torch.mean(X_pred, axis=0)"
   ]
  },
  {
   "cell_type": "code",
   "execution_count": 40,
   "metadata": {},
   "outputs": [
    {
     "data": {
      "image/png": "[encoded data removed]",
      "text/plain": [
       "<PIL.Image.Image image mode=L size=28x28 at 0x7F8FE84186A0>"
      ]
     },
     "metadata": {},
     "output_type": "display_data"
    }
   ],
   "source": [
    "display(untransform(X_pred_mean_base))"
   ]
  },
  {
   "cell_type": "markdown",
   "metadata": {},
   "source": [
    "## 3.2. Get Distances"
   ]
  },
  {
   "cell_type": "code",
   "execution_count": 41,
   "metadata": {},
   "outputs": [
    {
     "name": "stdout",
     "output_type": "stream",
     "text": [
      "bag\n",
      "boot\n",
      "dress\n",
      "pullover\n",
      "sandal\n",
      "shirt\n",
      "sneaker\n",
      "trouser\n",
      "tshirt\n"
     ]
    }
   ],
   "source": [
    "for key, dataset in sorted(dataset_dict.items()):\n",
    "    if key == base:\n",
    "        continue\n",
    "    print(key)\n",
    "    loader = dataset.loaders(batch_size=batch_size_loading,\n",
    "                             num_workers=num_workers)\n",
    "    for data in loader:\n",
    "        X, y, idx = data\n",
    "        X, y, idx = X.to(device), y.to(device), idx.to(device)\n",
    "        break\n",
    "    \n",
    "    X_pred = net(X)\n",
    "    X_pred_mean = torch.mean(X_pred, axis=0)\n",
    "    dist = criterion(X_pred_mean_base, X_pred_mean)\n",
    "    dist_mean = torch.mean(dist).cpu().data.numpy().item()\n",
    "    rec_distance_dict[base][key] = dist_mean"
   ]
  },
  {
   "cell_type": "code",
   "execution_count": 42,
   "metadata": {},
   "outputs": [
    {
     "data": {
      "text/html": [
       "<div>\n",
       "<style scoped>\n",
       "    .dataframe tbody tr th:only-of-type {\n",
       "        vertical-align: middle;\n",
       "    }\n",
       "\n",
       "    .dataframe tbody tr th {\n",
       "        vertical-align: top;\n",
       "    }\n",
       "\n",
       "    .dataframe thead th {\n",
       "        text-align: right;\n",
       "    }\n",
       "</style>\n",
       "<table border=\"1\" class=\"dataframe\">\n",
       "  <thead>\n",
       "    <tr style=\"text-align: right;\">\n",
       "      <th></th>\n",
       "      <th>coat</th>\n",
       "    </tr>\n",
       "  </thead>\n",
       "  <tbody>\n",
       "    <tr>\n",
       "      <th>coat</th>\n",
       "      <td>0.000000</td>\n",
       "    </tr>\n",
       "    <tr>\n",
       "      <th>pullover</th>\n",
       "      <td>0.000900</td>\n",
       "    </tr>\n",
       "    <tr>\n",
       "      <th>shirt</th>\n",
       "      <td>0.001395</td>\n",
       "    </tr>\n",
       "    <tr>\n",
       "      <th>bag</th>\n",
       "      <td>0.002755</td>\n",
       "    </tr>\n",
       "    <tr>\n",
       "      <th>tshirt</th>\n",
       "      <td>0.003577</td>\n",
       "    </tr>\n",
       "    <tr>\n",
       "      <th>boot</th>\n",
       "      <td>0.006922</td>\n",
       "    </tr>\n",
       "    <tr>\n",
       "      <th>dress</th>\n",
       "      <td>0.007182</td>\n",
       "    </tr>\n",
       "    <tr>\n",
       "      <th>sneaker</th>\n",
       "      <td>0.009563</td>\n",
       "    </tr>\n",
       "    <tr>\n",
       "      <th>sandal</th>\n",
       "      <td>0.010589</td>\n",
       "    </tr>\n",
       "    <tr>\n",
       "      <th>trouser</th>\n",
       "      <td>0.011027</td>\n",
       "    </tr>\n",
       "  </tbody>\n",
       "</table>\n",
       "</div>"
      ],
      "text/plain": [
       "              coat\n",
       "coat      0.000000\n",
       "pullover  0.000900\n",
       "shirt     0.001395\n",
       "bag       0.002755\n",
       "tshirt    0.003577\n",
       "boot      0.006922\n",
       "dress     0.007182\n",
       "sneaker   0.009563\n",
       "sandal    0.010589\n",
       "trouser   0.011027"
      ]
     },
     "execution_count": 42,
     "metadata": {},
     "output_type": "execute_result"
    }
   ],
   "source": [
    "rec_distance_df = pd.DataFrame(rec_distance_dict)\n",
    "rec_distance_df.sort_values(base, inplace=True)\n",
    "rec_distance_df"
   ]
  },
  {
   "cell_type": "code",
   "execution_count": 43,
   "metadata": {},
   "outputs": [
    {
     "data": {
      "text/plain": [
       "Index(['coat', 'pullover', 'shirt', 'bag', 'tshirt', 'boot', 'dress',\n",
       "       'sneaker', 'sandal', 'trouser'],\n",
       "      dtype='object')"
      ]
     },
     "execution_count": 43,
     "metadata": {},
     "output_type": "execute_result"
    }
   ],
   "source": [
    "rec_ranking = rec_distance_df.index\n",
    "rec_ranking"
   ]
  },
  {
   "cell_type": "markdown",
   "metadata": {},
   "source": [
    "> The **maximum** distance is in `<coat, sandal>`, which is **0.011**.   \n",
    "> The **minimum** distance is in `<coat, pullover>`, which is **0.001**.  \n",
    "\n",
    "> The ranking for `coat` is: \n",
    "- **`pullover`** < `shirt` < `bag` < `tshirt` < `boot` < `dress` < `sneaker` < `sandal` < **`trouser`**  \n",
    "\n",
    "> The ranking for `shirt` is: \n",
    "- **`pullover`** < `coat` < `tshirt` < `bag` < `dress` < `boot` < `trouser` < `sandal` < **`sneaker`**   \n",
    "\n",
    "> The ranking for `pullover` is: \n",
    "- **`coat`** < `shirt` < `tshirt` < `dress` < `trouser` < `bag` < `boot` < `sneaker` < **`sandal`**  \n",
    "\n",
    "> The ranking for `tshirt` is: \n",
    "- **`pullover`** < `shirt` < `coat` < `dress` < `trouser` < `bag` < `boot` < `sneaker` < **`sandal`**  "
   ]
  },
  {
   "cell_type": "markdown",
   "metadata": {},
   "source": [
    "# 4. Metric 4: $L^{2}$-Distance for Mean of Representations in One-Class Model (Unsupervised, w/o Pretraining)"
   ]
  },
  {
   "cell_type": "markdown",
   "metadata": {},
   "source": [
    "> **Step 1**: We will use coat-train to train an unsupervised one-class model.  \n",
    "> **Step 2**: We will use coat-test to calculate the mean of representations (outputs).   \n",
    "> **Step 3**: We will use other other datasets to calculate the mean of representations.  \n",
    "> **Step 4**: We compare the distances between these means.   "
   ]
  },
  {
   "cell_type": "markdown",
   "metadata": {},
   "source": [
    "## 4.1. Get Mean"
   ]
  },
  {
   "cell_type": "code",
   "execution_count": 361,
   "metadata": {},
   "outputs": [],
   "source": [
    "oc_distance_dict = {'coat':{'coat': 0.000}}\n",
    "device = 'cpu'\n",
    "net_name = 'fmnist_LeNet_one_class'\n",
    "model_path = '/net/leksai/nips/model/one_class/fmnist/one_class_unsupervised_[4]_[]_[0]_[0.0]/net_fmnist_LeNet_one_class_eta_100_epochs_150_batch_128/model.tar'"
   ]
  },
  {
   "cell_type": "code",
   "execution_count": 362,
   "metadata": {},
   "outputs": [
    {
     "data": {
      "text/plain": [
       "<All keys matched successfully>"
      ]
     },
     "execution_count": 362,
     "metadata": {},
     "output_type": "execute_result"
    }
   ],
   "source": [
    "net = build_network(net_name)\n",
    "model_dict = torch.load(model_path, map_location=device)\n",
    "net.load_state_dict(model_dict['net_dict'])"
   ]
  },
  {
   "cell_type": "code",
   "execution_count": 363,
   "metadata": {},
   "outputs": [],
   "source": [
    "for data in coat_loader_test:\n",
    "    X, y, idx = data\n",
    "    X, y, idx = X.to(device), y.to(device), idx.to(device)\n",
    "    X_pred = net(X)"
   ]
  },
  {
   "cell_type": "code",
   "execution_count": 364,
   "metadata": {},
   "outputs": [],
   "source": [
    "X_pred_mean_coat = torch.mean(X_pred, axis=0)"
   ]
  },
  {
   "cell_type": "markdown",
   "metadata": {},
   "source": [
    "## 4.2. Get Distances"
   ]
  },
  {
   "cell_type": "code",
   "execution_count": 365,
   "metadata": {},
   "outputs": [],
   "source": [
    "for key, dataset in sorted(dataset_dict.items()):\n",
    "    if key == 'coat':\n",
    "        continue\n",
    "    loader = dataset.loaders(batch_size=batch_size_loading,\n",
    "                             num_workers=num_workers)\n",
    "    for data in loader:\n",
    "        X, y, idx = data\n",
    "        X, y, idx = X.to(device), y.to(device), idx.to(device)\n",
    "        break\n",
    "    \n",
    "    X_pred = net(X)\n",
    "    X_pred_mean = torch.mean(X_pred, axis=0)\n",
    "    dist = criterion(X_pred_mean_coat, X_pred_mean)\n",
    "    dist_mean = torch.mean(dist).cpu().data.numpy().item()\n",
    "    oc_distance_dict['coat'][key] = dist_mean"
   ]
  },
  {
   "cell_type": "code",
   "execution_count": 378,
   "metadata": {},
   "outputs": [
    {
     "data": {
      "text/html": [
       "<div>\n",
       "<style scoped>\n",
       "    .dataframe tbody tr th:only-of-type {\n",
       "        vertical-align: middle;\n",
       "    }\n",
       "\n",
       "    .dataframe tbody tr th {\n",
       "        vertical-align: top;\n",
       "    }\n",
       "\n",
       "    .dataframe thead th {\n",
       "        text-align: right;\n",
       "    }\n",
       "</style>\n",
       "<table border=\"1\" class=\"dataframe\">\n",
       "  <thead>\n",
       "    <tr style=\"text-align: right;\">\n",
       "      <th></th>\n",
       "      <th>coat</th>\n",
       "    </tr>\n",
       "  </thead>\n",
       "  <tbody>\n",
       "    <tr>\n",
       "      <th>coat</th>\n",
       "      <td>0.000000</td>\n",
       "    </tr>\n",
       "    <tr>\n",
       "      <th>sneaker</th>\n",
       "      <td>0.000007</td>\n",
       "    </tr>\n",
       "    <tr>\n",
       "      <th>bag</th>\n",
       "      <td>0.000008</td>\n",
       "    </tr>\n",
       "    <tr>\n",
       "      <th>tshirt</th>\n",
       "      <td>0.000013</td>\n",
       "    </tr>\n",
       "    <tr>\n",
       "      <th>dress</th>\n",
       "      <td>0.000014</td>\n",
       "    </tr>\n",
       "    <tr>\n",
       "      <th>boot</th>\n",
       "      <td>0.000018</td>\n",
       "    </tr>\n",
       "    <tr>\n",
       "      <th>sandal</th>\n",
       "      <td>0.000032</td>\n",
       "    </tr>\n",
       "    <tr>\n",
       "      <th>pullover</th>\n",
       "      <td>0.000044</td>\n",
       "    </tr>\n",
       "    <tr>\n",
       "      <th>shirt</th>\n",
       "      <td>0.000069</td>\n",
       "    </tr>\n",
       "    <tr>\n",
       "      <th>trouser</th>\n",
       "      <td>0.000212</td>\n",
       "    </tr>\n",
       "  </tbody>\n",
       "</table>\n",
       "</div>"
      ],
      "text/plain": [
       "              coat\n",
       "coat      0.000000\n",
       "sneaker   0.000007\n",
       "bag       0.000008\n",
       "tshirt    0.000013\n",
       "dress     0.000014\n",
       "boot      0.000018\n",
       "sandal    0.000032\n",
       "pullover  0.000044\n",
       "shirt     0.000069\n",
       "trouser   0.000212"
      ]
     },
     "execution_count": 378,
     "metadata": {},
     "output_type": "execute_result"
    }
   ],
   "source": [
    "oc_distance_df = pd.DataFrame(oc_distance_dict)\n",
    "oc_distance_df.sort_values('coat', inplace=True)\n",
    "oc_distance_df"
   ]
  },
  {
   "cell_type": "code",
   "execution_count": 381,
   "metadata": {},
   "outputs": [
    {
     "data": {
      "text/plain": [
       "Index(['coat', 'sneaker', 'bag', 'tshirt', 'dress', 'boot', 'sandal',\n",
       "       'pullover', 'shirt', 'trouser'],\n",
       "      dtype='object')"
      ]
     },
     "execution_count": 381,
     "metadata": {},
     "output_type": "execute_result"
    }
   ],
   "source": [
    "oc_ranking = oc_distance_df.index\n",
    "oc_ranking"
   ]
  },
  {
   "cell_type": "markdown",
   "metadata": {},
   "source": [
    "> The **maximum** distance is in `<coat, trouser>`, which is **0.000212**.   \n",
    "> The **minimum** distance is in `<coat, sneaker>`, which is **0.000007**.  \n",
    "\n",
    "> The ranking for `coat` is: \n",
    "- **`sneaker`** < `bag` < `tshirt` < `dress` < `boot` < `sandal` < `pullover` < `shirt` < **`trouser`**\n",
    "\n",
    "> The ranking is quite different to raw images, and the magnitudes are smaller."
   ]
  },
  {
   "cell_type": "markdown",
   "metadata": {},
   "source": [
    "# 5. Metric 5: $L^{2}$-Distance for Mean of Representations in One-Class Model (Unsupervised, w/ Pretraining)"
   ]
  },
  {
   "cell_type": "markdown",
   "metadata": {},
   "source": [
    "> **Step 1**: We will use coat-train to train an unsupervised one-class model.  \n",
    "> **Step 2**: We will use coat-test to calculate the mean of representations (outputs).   \n",
    "> **Step 3**: We will use other other datasets to calculate the mean of representations.  \n",
    "> **Step 4**: We compare the distances between these means.   "
   ]
  },
  {
   "cell_type": "markdown",
   "metadata": {},
   "source": [
    "## 5.1. Get Mean"
   ]
  },
  {
   "cell_type": "code",
   "execution_count": 353,
   "metadata": {},
   "outputs": [],
   "source": [
    "oc_pt_distance_dict = {'coat':{'coat': 0.000}}\n",
    "device = 'cpu'\n",
    "net_name = 'fmnist_LeNet_one_class'\n",
    "model_path = '/net/leksai/nips/model/one_class/fmnist/one_class_unsupervised_[4]_[]_[1]_[0.0]/net_fmnist_LeNet_one_class_eta_100_epochs_150_batch_128/model.tar'"
   ]
  },
  {
   "cell_type": "code",
   "execution_count": 354,
   "metadata": {},
   "outputs": [
    {
     "data": {
      "text/plain": [
       "<All keys matched successfully>"
      ]
     },
     "execution_count": 354,
     "metadata": {},
     "output_type": "execute_result"
    }
   ],
   "source": [
    "net = build_network(net_name)\n",
    "model_dict = torch.load(model_path, map_location=device)\n",
    "net.load_state_dict(model_dict['net_dict'])"
   ]
  },
  {
   "cell_type": "code",
   "execution_count": 355,
   "metadata": {},
   "outputs": [],
   "source": [
    "for data in coat_loader_test:\n",
    "    X, y, idx = data\n",
    "    X, y, idx = X.to(device), y.to(device), idx.to(device)\n",
    "    X_pred = net(X)"
   ]
  },
  {
   "cell_type": "code",
   "execution_count": 356,
   "metadata": {},
   "outputs": [],
   "source": [
    "X_pred_mean_coat = torch.mean(X_pred, axis=0)"
   ]
  },
  {
   "cell_type": "markdown",
   "metadata": {},
   "source": [
    "## 5.2. Get Distances"
   ]
  },
  {
   "cell_type": "code",
   "execution_count": 411,
   "metadata": {},
   "outputs": [],
   "source": [
    "for key, dataset in sorted(dataset_dict.items()):\n",
    "    if key == 'coat':\n",
    "        continue\n",
    "    loader = dataset.loaders(batch_size=batch_size_loading,\n",
    "                             num_workers=num_workers)\n",
    "    for data in loader:\n",
    "        X, y, idx = data\n",
    "        X, y, idx = X.to(device), y.to(device), idx.to(device)\n",
    "        break\n",
    "    \n",
    "    X_pred = net(X)\n",
    "    X_pred_mean = torch.mean(X_pred, axis=0)\n",
    "    dist = criterion(X_pred_mean_coat, X_pred_mean)\n",
    "    dist_mean = torch.mean(dist).cpu().data.numpy().item()\n",
    "    oc_pt_distance_dict['coat'][key] = dist_mean"
   ]
  },
  {
   "cell_type": "code",
   "execution_count": 371,
   "metadata": {},
   "outputs": [],
   "source": [
    "oc_pt_distance_df = pd.DataFrame(oc_pt_distance_dict)\n",
    "oc_pt_distance_df.sort_values('coat', inplace=True)"
   ]
  },
  {
   "cell_type": "code",
   "execution_count": 372,
   "metadata": {},
   "outputs": [
    {
     "data": {
      "text/html": [
       "<div>\n",
       "<style scoped>\n",
       "    .dataframe tbody tr th:only-of-type {\n",
       "        vertical-align: middle;\n",
       "    }\n",
       "\n",
       "    .dataframe tbody tr th {\n",
       "        vertical-align: top;\n",
       "    }\n",
       "\n",
       "    .dataframe thead th {\n",
       "        text-align: right;\n",
       "    }\n",
       "</style>\n",
       "<table border=\"1\" class=\"dataframe\">\n",
       "  <thead>\n",
       "    <tr style=\"text-align: right;\">\n",
       "      <th></th>\n",
       "      <th>coat</th>\n",
       "    </tr>\n",
       "  </thead>\n",
       "  <tbody>\n",
       "    <tr>\n",
       "      <th>coat</th>\n",
       "      <td>0.000000</td>\n",
       "    </tr>\n",
       "    <tr>\n",
       "      <th>bag</th>\n",
       "      <td>0.000007</td>\n",
       "    </tr>\n",
       "    <tr>\n",
       "      <th>sneaker</th>\n",
       "      <td>0.000007</td>\n",
       "    </tr>\n",
       "    <tr>\n",
       "      <th>dress</th>\n",
       "      <td>0.000009</td>\n",
       "    </tr>\n",
       "    <tr>\n",
       "      <th>tshirt</th>\n",
       "      <td>0.000012</td>\n",
       "    </tr>\n",
       "    <tr>\n",
       "      <th>boot</th>\n",
       "      <td>0.000013</td>\n",
       "    </tr>\n",
       "    <tr>\n",
       "      <th>sandal</th>\n",
       "      <td>0.000028</td>\n",
       "    </tr>\n",
       "    <tr>\n",
       "      <th>pullover</th>\n",
       "      <td>0.000049</td>\n",
       "    </tr>\n",
       "    <tr>\n",
       "      <th>shirt</th>\n",
       "      <td>0.000086</td>\n",
       "    </tr>\n",
       "    <tr>\n",
       "      <th>trouser</th>\n",
       "      <td>0.000220</td>\n",
       "    </tr>\n",
       "  </tbody>\n",
       "</table>\n",
       "</div>"
      ],
      "text/plain": [
       "              coat\n",
       "coat      0.000000\n",
       "bag       0.000007\n",
       "sneaker   0.000007\n",
       "dress     0.000009\n",
       "tshirt    0.000012\n",
       "boot      0.000013\n",
       "sandal    0.000028\n",
       "pullover  0.000049\n",
       "shirt     0.000086\n",
       "trouser   0.000220"
      ]
     },
     "execution_count": 372,
     "metadata": {},
     "output_type": "execute_result"
    }
   ],
   "source": [
    "oc_pt_distance_df"
   ]
  },
  {
   "cell_type": "code",
   "execution_count": 380,
   "metadata": {},
   "outputs": [
    {
     "data": {
      "text/plain": [
       "Index(['coat', 'bag', 'sneaker', 'dress', 'tshirt', 'boot', 'sandal',\n",
       "       'pullover', 'shirt', 'trouser'],\n",
       "      dtype='object')"
      ]
     },
     "execution_count": 380,
     "metadata": {},
     "output_type": "execute_result"
    }
   ],
   "source": [
    "oc_pt_ranking = oc_pt_distance_df.index\n",
    "oc_pt_ranking"
   ]
  },
  {
   "cell_type": "markdown",
   "metadata": {},
   "source": [
    "> The **maximum** distance is in `<coat, trouser>`, which is **0.000200**.   \n",
    "> The **minimum** distance is in `<coat, bag>` and `<coat, sneaker>`, which are respectively **6.6e-6** and **7.7e-6**.  \n",
    "\n",
    "> The ranking for `coat` is: \n",
    "- **`bag`** < `sneaker` < `dress` < `tshirt` < `boot` < `sandal` < `pullover` < `shirt` < **`trouser`** \n",
    "\n",
    "> The ranking is quite different to raw images, and the magnitudes are smaller."
   ]
  }
 ],
 "metadata": {
  "kernelspec": {
   "display_name": "Python 3",
   "language": "python",
   "name": "python3"
  },
  "language_info": {
   "codemirror_mode": {
    "name": "ipython",
    "version": 3
   },
   "file_extension": ".py",
   "mimetype": "text/x-python",
   "name": "python",
   "nbconvert_exporter": "python",
   "pygments_lexer": "ipython3",
   "version": "3.6.9"
  }
 },
 "nbformat": 4,
 "nbformat_minor": 2
}
