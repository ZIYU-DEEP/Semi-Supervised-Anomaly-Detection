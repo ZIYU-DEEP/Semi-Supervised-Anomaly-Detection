{
 "cells": [
  {
   "cell_type": "code",
   "execution_count": 1,
   "metadata": {},
   "outputs": [],
   "source": [
    "import joblib"
   ]
  },
  {
   "cell_type": "code",
   "execution_count": 2,
   "metadata": {},
   "outputs": [],
   "source": [
    "k = joblib.load('div_margin_train.pkl')"
   ]
  },
  {
   "cell_type": "code",
   "execution_count": 3,
   "metadata": {},
   "outputs": [
    {
     "data": {
      "text/plain": [
       "{'tshirt': {'tshirt': 0.05181607718393044,\n",
       "  'trouser': 33.91395688276111,\n",
       "  'pullover': 19.083601389842773,\n",
       "  'dress': 16.46641045329126,\n",
       "  'sandal': 35.411026454116325,\n",
       "  'shirt': 10.064519413637843,\n",
       "  'sneaker': 43.35105228388353,\n",
       "  'bag': 26.00921917067881,\n",
       "  'boot': 41.00533509678897},\n",
       " 'trouser': {'tshirt': 32.2976479189124,\n",
       "  'trouser': 0.1558316855561137,\n",
       "  'pullover': 37.96044478498452,\n",
       "  'dress': 22.360507034269318,\n",
       "  'sandal': 44.721589106039936,\n",
       "  'shirt': 33.63573059334239,\n",
       "  'sneaker': 53.37539229912213,\n",
       "  'bag': 40.7406473212682,\n",
       "  'boot': 51.560405519692196},\n",
       " 'pullover': {'tshirt': 18.210157911113008,\n",
       "  'trouser': 37.331638649124955,\n",
       "  'pullover': 0.07962312896316925,\n",
       "  'dress': 21.542401825218107,\n",
       "  'sandal': 32.445458739470524,\n",
       "  'shirt': 6.632530021431641,\n",
       "  'sneaker': 41.44103886726586,\n",
       "  'bag': 23.224523992963686,\n",
       "  'boot': 36.0533640710448},\n",
       " 'dress': {'tshirt': 16.334684587929612,\n",
       "  'trouser': 23.36099041100288,\n",
       "  'pullover': 21.342399159388325,\n",
       "  'dress': -0.06958564485743857,\n",
       "  'sandal': 34.80921159265315,\n",
       "  'shirt': 16.464935641294097,\n",
       "  'sneaker': 42.430584648125844,\n",
       "  'bag': 26.238998220848927,\n",
       "  'boot': 41.66661043009123},\n",
       " 'sandal': {'tshirt': 35.65014956387985,\n",
       "  'trouser': 46.64293938997098,\n",
       "  'pullover': 33.5031209853311,\n",
       "  'dress': 35.900421483313636,\n",
       "  'sandal': -0.015790603140545922,\n",
       "  'shirt': 32.34589523913957,\n",
       "  'sneaker': 11.998209448364484,\n",
       "  'bag': 20.953534823784665,\n",
       "  'boot': 19.172636808665626},\n",
       " 'shirt': {'tshirt': 9.774993374689753,\n",
       "  'trouser': 33.19914160892803,\n",
       "  'pullover': 6.842426079510426,\n",
       "  'dress': 16.2527272294229,\n",
       "  'sandal': 31.970056352513502,\n",
       "  'shirt': 0.005375095390593998,\n",
       "  'sneaker': 40.394251773917034,\n",
       "  'bag': 21.70234665487242,\n",
       "  'boot': 36.43579965262251},\n",
       " 'sneaker': {'tshirt': 43.42634730890984,\n",
       "  'trouser': 55.74681425604622,\n",
       "  'pullover': 41.737634094655235,\n",
       "  'dress': 43.70978345394633,\n",
       "  'sandal': 11.74742400715444,\n",
       "  'shirt': 40.11720423980194,\n",
       "  'sneaker': -0.0740946379869003,\n",
       "  'bag': 25.680682216403298,\n",
       "  'boot': 20.674367862563827},\n",
       " 'bag': {'tshirt': 25.679695095069277,\n",
       "  'trouser': 43.810212511234,\n",
       "  'pullover': 24.05531038065495,\n",
       "  'dress': 28.76665825767541,\n",
       "  'sandal': 21.046928356694252,\n",
       "  'shirt': 22.430293765685043,\n",
       "  'sneaker': 26.03450999127891,\n",
       "  'bag': 0.010368792289451978,\n",
       "  'boot': 27.165397450236945},\n",
       " 'boot': {'tshirt': 41.63190495303497,\n",
       "  'trouser': 53.43123601457209,\n",
       "  'pullover': 38.32246082910816,\n",
       "  'dress': 43.49412925349075,\n",
       "  'sandal': 18.198069762998593,\n",
       "  'shirt': 37.75886919684157,\n",
       "  'sneaker': 18.48596952320736,\n",
       "  'bag': 27.064367582623774,\n",
       "  'boot': -0.03898858404795913}}"
      ]
     },
     "execution_count": 3,
     "metadata": {},
     "output_type": "execute_result"
    }
   ],
   "source": [
    "k"
   ]
  },
  {
   "cell_type": "code",
   "execution_count": null,
   "metadata": {},
   "outputs": [],
   "source": []
  }
 ],
 "metadata": {
  "kernelspec": {
   "display_name": "Python 3",
   "language": "python",
   "name": "python3"
  },
  "language_info": {
   "codemirror_mode": {
    "name": "ipython",
    "version": 3
   },
   "file_extension": ".py",
   "mimetype": "text/x-python",
   "name": "python",
   "nbconvert_exporter": "python",
   "pygments_lexer": "ipython3",
   "version": "3.6.9"
  }
 },
 "nbformat": 4,
 "nbformat_minor": 2
}
