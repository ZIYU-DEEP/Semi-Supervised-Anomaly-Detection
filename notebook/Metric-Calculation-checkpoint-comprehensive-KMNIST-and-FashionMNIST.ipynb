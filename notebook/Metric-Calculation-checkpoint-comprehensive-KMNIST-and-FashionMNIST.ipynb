{
 "cells": [
  {
   "cell_type": "markdown",
   "metadata": {},
   "source": [
    "# 0. Preparation"
   ]
  },
  {
   "cell_type": "code",
   "execution_count": 1,
   "metadata": {},
   "outputs": [],
   "source": [
    "import sys\n",
    "sys.path.append('../dataset/')\n",
    "sys.path.append('../network/')\n",
    "sys.path.append('../model/')\n",
    "\n",
    "import os\n",
    "import glob\n",
    "import time\n",
    "import torch\n",
    "import argparse\n",
    "import numpy as np\n",
    "import pandas as pd\n",
    "import torch.nn as nn\n",
    "import torchvision.transforms as transforms\n",
    "\n",
    "from PIL import Image\n",
    "from pathlib import Path\n",
    "from main_loading import *\n",
    "from main_network import *\n",
    "from main_model_one_class import *\n",
    "from main_model_rec import *"
   ]
  },
  {
   "cell_type": "code",
   "execution_count": 5,
   "metadata": {},
   "outputs": [],
   "source": [
    "dataset_dict = {}\n",
    "kmnist_loader_name = 'kmnist_eval'\n",
    "kmnist_root = '/net/leksai/data/KMNIST'\n",
    "kmnist_name_list = ['お-o', 'き-ki', 'す-su', 'つ-tsu', 'な-na', 'は-ha', 'ま-ma', 'や-ya', 'れ-re', 'を-wo']\n",
    "\n",
    "for i, x in enumerate(kmnist_name_list):\n",
    "    dataset_dict[x] = load_dataset(loader_name=kmnist_loader_name,\n",
    "                                   root=kmnist_root,\n",
    "                                   label_eval=(i,))"
   ]
  },
  {
   "cell_type": "code",
   "execution_count": 6,
   "metadata": {},
   "outputs": [],
   "source": [
    "fmnist_loader_name = 'fmnist_eval'\n",
    "fmnist_root = '/net/leksai/data/FashionMNIST'\n",
    "fmnist_name_list = ['tshirt', 'trouser','pullover', 'dress', 'coat','sandal','shirt','sneaker', 'bag', 'boot']\n",
    "\n",
    "for i, x in enumerate(fmnist_name_list):\n",
    "    dataset_dict[x] = load_dataset(loader_name=fmnist_loader_name,\n",
    "                                   root=fmnist_root,\n",
    "                                   label_eval=(i,))"
   ]
  },
  {
   "cell_type": "markdown",
   "metadata": {},
   "source": [
    "# 1. Metric 1: $L^{2}$-Distance for Mean of Raw Images"
   ]
  },
  {
   "cell_type": "markdown",
   "metadata": {},
   "source": [
    "## 1.0. Calculating Mean Vector For Each Dataset"
   ]
  },
  {
   "cell_type": "code",
   "execution_count": 8,
   "metadata": {},
   "outputs": [],
   "source": [
    "name_list = kmnist_name_list + fmnist_name_list"
   ]
  },
  {
   "cell_type": "code",
   "execution_count": 9,
   "metadata": {},
   "outputs": [],
   "source": [
    "batch_size_loading = 7000\n",
    "num_workers = 0\n",
    "mean_dict = {}\n",
    "untransform = transforms.ToPILImage()"
   ]
  },
  {
   "cell_type": "code",
   "execution_count": 10,
   "metadata": {},
   "outputs": [
    {
     "name": "stdout",
     "output_type": "stream",
     "text": [
      "お-o\n",
      "き-ki\n",
      "す-su\n",
      "つ-tsu\n",
      "な-na\n",
      "は-ha\n",
      "ま-ma\n",
      "や-ya\n",
      "れ-re\n",
      "を-wo\n",
      "tshirt\n",
      "trouser\n",
      "pullover\n",
      "dress\n",
      "coat\n",
      "sandal\n",
      "shirt\n",
      "sneaker\n",
      "bag\n",
      "boot\n"
     ]
    }
   ],
   "source": [
    "for key in name_list:\n",
    "    dataset = dataset_dict[key]\n",
    "    loader = dataset.loaders(batch_size=batch_size_loading,\n",
    "                             num_workers=num_workers)\n",
    "    for data in loader:\n",
    "        X, y, idx = data\n",
    "        break\n",
    "    \n",
    "    X_mean = torch.mean(X, axis=0)\n",
    "    mean_dict[key] = X_mean\n",
    "    print(key)"
   ]
  },
  {
   "cell_type": "markdown",
   "metadata": {},
   "source": [
    "## 1.1. Obtaining $L^2$ Distance"
   ]
  },
  {
   "cell_type": "markdown",
   "metadata": {},
   "source": [
    "### 1.1.1. Get `l2_distance_df`"
   ]
  },
  {
   "cell_type": "code",
   "execution_count": 11,
   "metadata": {},
   "outputs": [],
   "source": [
    "l2_distance_matrix = np.zeros((20, 20))\n",
    "l2_binary_dict = dict()\n",
    "criterion = nn.MSELoss(reduction='none')"
   ]
  },
  {
   "cell_type": "code",
   "execution_count": 12,
   "metadata": {},
   "outputs": [],
   "source": [
    "for i, key_i in enumerate(name_list):\n",
    "    for j, key_j in enumerate(name_list):\n",
    "        x_i, x_j = mean_dict[key_i], mean_dict[key_j]\n",
    "        dist = criterion(x_i, x_j)\n",
    "        dist_mean = round(torch.mean(dist).cpu().data.numpy().item(), 3)\n",
    "        l2_distance_matrix[i][j] = dist_mean"
   ]
  },
  {
   "cell_type": "code",
   "execution_count": 14,
   "metadata": {},
   "outputs": [
    {
     "data": {
      "text/html": [
       "<div>\n",
       "<style scoped>\n",
       "    .dataframe tbody tr th:only-of-type {\n",
       "        vertical-align: middle;\n",
       "    }\n",
       "\n",
       "    .dataframe tbody tr th {\n",
       "        vertical-align: top;\n",
       "    }\n",
       "\n",
       "    .dataframe thead th {\n",
       "        text-align: right;\n",
       "    }\n",
       "</style>\n",
       "<table border=\"1\" class=\"dataframe\">\n",
       "  <thead>\n",
       "    <tr style=\"text-align: right;\">\n",
       "      <th></th>\n",
       "      <th>お-o</th>\n",
       "      <th>き-ki</th>\n",
       "      <th>す-su</th>\n",
       "      <th>つ-tsu</th>\n",
       "      <th>な-na</th>\n",
       "      <th>は-ha</th>\n",
       "      <th>ま-ma</th>\n",
       "      <th>や-ya</th>\n",
       "      <th>れ-re</th>\n",
       "      <th>を-wo</th>\n",
       "      <th>tshirt</th>\n",
       "      <th>trouser</th>\n",
       "      <th>pullover</th>\n",
       "      <th>dress</th>\n",
       "      <th>coat</th>\n",
       "      <th>sandal</th>\n",
       "      <th>shirt</th>\n",
       "      <th>sneaker</th>\n",
       "      <th>bag</th>\n",
       "      <th>boot</th>\n",
       "    </tr>\n",
       "  </thead>\n",
       "  <tbody>\n",
       "    <tr>\n",
       "      <th>お-o</th>\n",
       "      <td>0.000</td>\n",
       "      <td>0.060</td>\n",
       "      <td>0.053</td>\n",
       "      <td>0.037</td>\n",
       "      <td>0.042</td>\n",
       "      <td>0.025</td>\n",
       "      <td>0.069</td>\n",
       "      <td>0.033</td>\n",
       "      <td>0.044</td>\n",
       "      <td>0.034</td>\n",
       "      <td>0.106</td>\n",
       "      <td>0.131</td>\n",
       "      <td>0.095</td>\n",
       "      <td>0.116</td>\n",
       "      <td>0.118</td>\n",
       "      <td>0.040</td>\n",
       "      <td>0.077</td>\n",
       "      <td>0.060</td>\n",
       "      <td>0.058</td>\n",
       "      <td>0.105</td>\n",
       "    </tr>\n",
       "    <tr>\n",
       "      <th>き-ki</th>\n",
       "      <td>0.060</td>\n",
       "      <td>0.000</td>\n",
       "      <td>0.008</td>\n",
       "      <td>0.040</td>\n",
       "      <td>0.019</td>\n",
       "      <td>0.036</td>\n",
       "      <td>0.014</td>\n",
       "      <td>0.034</td>\n",
       "      <td>0.009</td>\n",
       "      <td>0.018</td>\n",
       "      <td>0.058</td>\n",
       "      <td>0.046</td>\n",
       "      <td>0.083</td>\n",
       "      <td>0.042</td>\n",
       "      <td>0.092</td>\n",
       "      <td>0.030</td>\n",
       "      <td>0.050</td>\n",
       "      <td>0.058</td>\n",
       "      <td>0.077</td>\n",
       "      <td>0.095</td>\n",
       "    </tr>\n",
       "    <tr>\n",
       "      <th>す-su</th>\n",
       "      <td>0.053</td>\n",
       "      <td>0.008</td>\n",
       "      <td>0.000</td>\n",
       "      <td>0.039</td>\n",
       "      <td>0.019</td>\n",
       "      <td>0.030</td>\n",
       "      <td>0.012</td>\n",
       "      <td>0.026</td>\n",
       "      <td>0.009</td>\n",
       "      <td>0.014</td>\n",
       "      <td>0.056</td>\n",
       "      <td>0.042</td>\n",
       "      <td>0.083</td>\n",
       "      <td>0.037</td>\n",
       "      <td>0.093</td>\n",
       "      <td>0.032</td>\n",
       "      <td>0.050</td>\n",
       "      <td>0.058</td>\n",
       "      <td>0.082</td>\n",
       "      <td>0.106</td>\n",
       "    </tr>\n",
       "    <tr>\n",
       "      <th>つ-tsu</th>\n",
       "      <td>0.037</td>\n",
       "      <td>0.040</td>\n",
       "      <td>0.039</td>\n",
       "      <td>0.000</td>\n",
       "      <td>0.037</td>\n",
       "      <td>0.017</td>\n",
       "      <td>0.048</td>\n",
       "      <td>0.029</td>\n",
       "      <td>0.036</td>\n",
       "      <td>0.037</td>\n",
       "      <td>0.100</td>\n",
       "      <td>0.103</td>\n",
       "      <td>0.101</td>\n",
       "      <td>0.107</td>\n",
       "      <td>0.127</td>\n",
       "      <td>0.034</td>\n",
       "      <td>0.077</td>\n",
       "      <td>0.068</td>\n",
       "      <td>0.083</td>\n",
       "      <td>0.103</td>\n",
       "    </tr>\n",
       "    <tr>\n",
       "      <th>な-na</th>\n",
       "      <td>0.042</td>\n",
       "      <td>0.019</td>\n",
       "      <td>0.019</td>\n",
       "      <td>0.037</td>\n",
       "      <td>0.000</td>\n",
       "      <td>0.042</td>\n",
       "      <td>0.023</td>\n",
       "      <td>0.025</td>\n",
       "      <td>0.022</td>\n",
       "      <td>0.018</td>\n",
       "      <td>0.039</td>\n",
       "      <td>0.057</td>\n",
       "      <td>0.051</td>\n",
       "      <td>0.041</td>\n",
       "      <td>0.062</td>\n",
       "      <td>0.044</td>\n",
       "      <td>0.028</td>\n",
       "      <td>0.072</td>\n",
       "      <td>0.051</td>\n",
       "      <td>0.091</td>\n",
       "    </tr>\n",
       "    <tr>\n",
       "      <th>は-ha</th>\n",
       "      <td>0.025</td>\n",
       "      <td>0.036</td>\n",
       "      <td>0.030</td>\n",
       "      <td>0.017</td>\n",
       "      <td>0.042</td>\n",
       "      <td>0.000</td>\n",
       "      <td>0.043</td>\n",
       "      <td>0.024</td>\n",
       "      <td>0.026</td>\n",
       "      <td>0.032</td>\n",
       "      <td>0.106</td>\n",
       "      <td>0.099</td>\n",
       "      <td>0.108</td>\n",
       "      <td>0.099</td>\n",
       "      <td>0.131</td>\n",
       "      <td>0.021</td>\n",
       "      <td>0.081</td>\n",
       "      <td>0.048</td>\n",
       "      <td>0.081</td>\n",
       "      <td>0.104</td>\n",
       "    </tr>\n",
       "    <tr>\n",
       "      <th>ま-ma</th>\n",
       "      <td>0.069</td>\n",
       "      <td>0.014</td>\n",
       "      <td>0.012</td>\n",
       "      <td>0.048</td>\n",
       "      <td>0.023</td>\n",
       "      <td>0.043</td>\n",
       "      <td>0.000</td>\n",
       "      <td>0.030</td>\n",
       "      <td>0.019</td>\n",
       "      <td>0.025</td>\n",
       "      <td>0.051</td>\n",
       "      <td>0.036</td>\n",
       "      <td>0.078</td>\n",
       "      <td>0.026</td>\n",
       "      <td>0.085</td>\n",
       "      <td>0.045</td>\n",
       "      <td>0.046</td>\n",
       "      <td>0.071</td>\n",
       "      <td>0.079</td>\n",
       "      <td>0.094</td>\n",
       "    </tr>\n",
       "    <tr>\n",
       "      <th>や-ya</th>\n",
       "      <td>0.033</td>\n",
       "      <td>0.034</td>\n",
       "      <td>0.026</td>\n",
       "      <td>0.029</td>\n",
       "      <td>0.025</td>\n",
       "      <td>0.024</td>\n",
       "      <td>0.030</td>\n",
       "      <td>0.000</td>\n",
       "      <td>0.029</td>\n",
       "      <td>0.025</td>\n",
       "      <td>0.066</td>\n",
       "      <td>0.068</td>\n",
       "      <td>0.071</td>\n",
       "      <td>0.061</td>\n",
       "      <td>0.084</td>\n",
       "      <td>0.036</td>\n",
       "      <td>0.049</td>\n",
       "      <td>0.043</td>\n",
       "      <td>0.053</td>\n",
       "      <td>0.087</td>\n",
       "    </tr>\n",
       "    <tr>\n",
       "      <th>れ-re</th>\n",
       "      <td>0.044</td>\n",
       "      <td>0.009</td>\n",
       "      <td>0.009</td>\n",
       "      <td>0.036</td>\n",
       "      <td>0.022</td>\n",
       "      <td>0.026</td>\n",
       "      <td>0.019</td>\n",
       "      <td>0.029</td>\n",
       "      <td>0.000</td>\n",
       "      <td>0.017</td>\n",
       "      <td>0.061</td>\n",
       "      <td>0.054</td>\n",
       "      <td>0.074</td>\n",
       "      <td>0.048</td>\n",
       "      <td>0.084</td>\n",
       "      <td>0.029</td>\n",
       "      <td>0.045</td>\n",
       "      <td>0.055</td>\n",
       "      <td>0.065</td>\n",
       "      <td>0.098</td>\n",
       "    </tr>\n",
       "    <tr>\n",
       "      <th>を-wo</th>\n",
       "      <td>0.034</td>\n",
       "      <td>0.018</td>\n",
       "      <td>0.014</td>\n",
       "      <td>0.037</td>\n",
       "      <td>0.018</td>\n",
       "      <td>0.032</td>\n",
       "      <td>0.025</td>\n",
       "      <td>0.025</td>\n",
       "      <td>0.017</td>\n",
       "      <td>0.000</td>\n",
       "      <td>0.056</td>\n",
       "      <td>0.072</td>\n",
       "      <td>0.074</td>\n",
       "      <td>0.056</td>\n",
       "      <td>0.092</td>\n",
       "      <td>0.030</td>\n",
       "      <td>0.047</td>\n",
       "      <td>0.051</td>\n",
       "      <td>0.060</td>\n",
       "      <td>0.087</td>\n",
       "    </tr>\n",
       "    <tr>\n",
       "      <th>tshirt</th>\n",
       "      <td>0.106</td>\n",
       "      <td>0.058</td>\n",
       "      <td>0.056</td>\n",
       "      <td>0.100</td>\n",
       "      <td>0.039</td>\n",
       "      <td>0.106</td>\n",
       "      <td>0.051</td>\n",
       "      <td>0.066</td>\n",
       "      <td>0.061</td>\n",
       "      <td>0.056</td>\n",
       "      <td>0.000</td>\n",
       "      <td>0.053</td>\n",
       "      <td>0.040</td>\n",
       "      <td>0.026</td>\n",
       "      <td>0.043</td>\n",
       "      <td>0.115</td>\n",
       "      <td>0.017</td>\n",
       "      <td>0.134</td>\n",
       "      <td>0.073</td>\n",
       "      <td>0.117</td>\n",
       "    </tr>\n",
       "    <tr>\n",
       "      <th>trouser</th>\n",
       "      <td>0.131</td>\n",
       "      <td>0.046</td>\n",
       "      <td>0.042</td>\n",
       "      <td>0.103</td>\n",
       "      <td>0.057</td>\n",
       "      <td>0.099</td>\n",
       "      <td>0.036</td>\n",
       "      <td>0.068</td>\n",
       "      <td>0.054</td>\n",
       "      <td>0.072</td>\n",
       "      <td>0.053</td>\n",
       "      <td>0.000</td>\n",
       "      <td>0.091</td>\n",
       "      <td>0.021</td>\n",
       "      <td>0.089</td>\n",
       "      <td>0.105</td>\n",
       "      <td>0.062</td>\n",
       "      <td>0.125</td>\n",
       "      <td>0.120</td>\n",
       "      <td>0.147</td>\n",
       "    </tr>\n",
       "    <tr>\n",
       "      <th>pullover</th>\n",
       "      <td>0.095</td>\n",
       "      <td>0.083</td>\n",
       "      <td>0.083</td>\n",
       "      <td>0.101</td>\n",
       "      <td>0.051</td>\n",
       "      <td>0.108</td>\n",
       "      <td>0.078</td>\n",
       "      <td>0.071</td>\n",
       "      <td>0.074</td>\n",
       "      <td>0.074</td>\n",
       "      <td>0.040</td>\n",
       "      <td>0.091</td>\n",
       "      <td>0.000</td>\n",
       "      <td>0.065</td>\n",
       "      <td>0.008</td>\n",
       "      <td>0.116</td>\n",
       "      <td>0.009</td>\n",
       "      <td>0.127</td>\n",
       "      <td>0.042</td>\n",
       "      <td>0.095</td>\n",
       "    </tr>\n",
       "    <tr>\n",
       "      <th>dress</th>\n",
       "      <td>0.116</td>\n",
       "      <td>0.042</td>\n",
       "      <td>0.037</td>\n",
       "      <td>0.107</td>\n",
       "      <td>0.041</td>\n",
       "      <td>0.099</td>\n",
       "      <td>0.026</td>\n",
       "      <td>0.061</td>\n",
       "      <td>0.048</td>\n",
       "      <td>0.056</td>\n",
       "      <td>0.026</td>\n",
       "      <td>0.021</td>\n",
       "      <td>0.065</td>\n",
       "      <td>0.000</td>\n",
       "      <td>0.060</td>\n",
       "      <td>0.100</td>\n",
       "      <td>0.035</td>\n",
       "      <td>0.116</td>\n",
       "      <td>0.085</td>\n",
       "      <td>0.121</td>\n",
       "    </tr>\n",
       "    <tr>\n",
       "      <th>coat</th>\n",
       "      <td>0.118</td>\n",
       "      <td>0.092</td>\n",
       "      <td>0.093</td>\n",
       "      <td>0.127</td>\n",
       "      <td>0.062</td>\n",
       "      <td>0.131</td>\n",
       "      <td>0.085</td>\n",
       "      <td>0.084</td>\n",
       "      <td>0.084</td>\n",
       "      <td>0.092</td>\n",
       "      <td>0.043</td>\n",
       "      <td>0.089</td>\n",
       "      <td>0.008</td>\n",
       "      <td>0.060</td>\n",
       "      <td>0.000</td>\n",
       "      <td>0.136</td>\n",
       "      <td>0.012</td>\n",
       "      <td>0.142</td>\n",
       "      <td>0.047</td>\n",
       "      <td>0.106</td>\n",
       "    </tr>\n",
       "    <tr>\n",
       "      <th>sandal</th>\n",
       "      <td>0.040</td>\n",
       "      <td>0.030</td>\n",
       "      <td>0.032</td>\n",
       "      <td>0.034</td>\n",
       "      <td>0.044</td>\n",
       "      <td>0.021</td>\n",
       "      <td>0.045</td>\n",
       "      <td>0.036</td>\n",
       "      <td>0.029</td>\n",
       "      <td>0.030</td>\n",
       "      <td>0.115</td>\n",
       "      <td>0.105</td>\n",
       "      <td>0.116</td>\n",
       "      <td>0.100</td>\n",
       "      <td>0.136</td>\n",
       "      <td>0.000</td>\n",
       "      <td>0.088</td>\n",
       "      <td>0.019</td>\n",
       "      <td>0.072</td>\n",
       "      <td>0.063</td>\n",
       "    </tr>\n",
       "    <tr>\n",
       "      <th>shirt</th>\n",
       "      <td>0.077</td>\n",
       "      <td>0.050</td>\n",
       "      <td>0.050</td>\n",
       "      <td>0.077</td>\n",
       "      <td>0.028</td>\n",
       "      <td>0.081</td>\n",
       "      <td>0.046</td>\n",
       "      <td>0.049</td>\n",
       "      <td>0.045</td>\n",
       "      <td>0.047</td>\n",
       "      <td>0.017</td>\n",
       "      <td>0.062</td>\n",
       "      <td>0.009</td>\n",
       "      <td>0.035</td>\n",
       "      <td>0.012</td>\n",
       "      <td>0.088</td>\n",
       "      <td>0.000</td>\n",
       "      <td>0.103</td>\n",
       "      <td>0.036</td>\n",
       "      <td>0.085</td>\n",
       "    </tr>\n",
       "    <tr>\n",
       "      <th>sneaker</th>\n",
       "      <td>0.060</td>\n",
       "      <td>0.058</td>\n",
       "      <td>0.058</td>\n",
       "      <td>0.068</td>\n",
       "      <td>0.072</td>\n",
       "      <td>0.048</td>\n",
       "      <td>0.071</td>\n",
       "      <td>0.043</td>\n",
       "      <td>0.055</td>\n",
       "      <td>0.051</td>\n",
       "      <td>0.134</td>\n",
       "      <td>0.125</td>\n",
       "      <td>0.127</td>\n",
       "      <td>0.116</td>\n",
       "      <td>0.142</td>\n",
       "      <td>0.019</td>\n",
       "      <td>0.103</td>\n",
       "      <td>0.000</td>\n",
       "      <td>0.070</td>\n",
       "      <td>0.066</td>\n",
       "    </tr>\n",
       "    <tr>\n",
       "      <th>bag</th>\n",
       "      <td>0.058</td>\n",
       "      <td>0.077</td>\n",
       "      <td>0.082</td>\n",
       "      <td>0.083</td>\n",
       "      <td>0.051</td>\n",
       "      <td>0.081</td>\n",
       "      <td>0.079</td>\n",
       "      <td>0.053</td>\n",
       "      <td>0.065</td>\n",
       "      <td>0.060</td>\n",
       "      <td>0.073</td>\n",
       "      <td>0.120</td>\n",
       "      <td>0.042</td>\n",
       "      <td>0.085</td>\n",
       "      <td>0.047</td>\n",
       "      <td>0.072</td>\n",
       "      <td>0.036</td>\n",
       "      <td>0.070</td>\n",
       "      <td>0.000</td>\n",
       "      <td>0.048</td>\n",
       "    </tr>\n",
       "    <tr>\n",
       "      <th>boot</th>\n",
       "      <td>0.105</td>\n",
       "      <td>0.095</td>\n",
       "      <td>0.106</td>\n",
       "      <td>0.103</td>\n",
       "      <td>0.091</td>\n",
       "      <td>0.104</td>\n",
       "      <td>0.094</td>\n",
       "      <td>0.087</td>\n",
       "      <td>0.098</td>\n",
       "      <td>0.087</td>\n",
       "      <td>0.117</td>\n",
       "      <td>0.147</td>\n",
       "      <td>0.095</td>\n",
       "      <td>0.121</td>\n",
       "      <td>0.106</td>\n",
       "      <td>0.063</td>\n",
       "      <td>0.085</td>\n",
       "      <td>0.066</td>\n",
       "      <td>0.048</td>\n",
       "      <td>0.000</td>\n",
       "    </tr>\n",
       "  </tbody>\n",
       "</table>\n",
       "</div>"
      ],
      "text/plain": [
       "            お-o   き-ki   す-su  つ-tsu   な-na   は-ha   ま-ma   や-ya   れ-re  \\\n",
       "お-o       0.000  0.060  0.053  0.037  0.042  0.025  0.069  0.033  0.044   \n",
       "き-ki      0.060  0.000  0.008  0.040  0.019  0.036  0.014  0.034  0.009   \n",
       "す-su      0.053  0.008  0.000  0.039  0.019  0.030  0.012  0.026  0.009   \n",
       "つ-tsu     0.037  0.040  0.039  0.000  0.037  0.017  0.048  0.029  0.036   \n",
       "な-na      0.042  0.019  0.019  0.037  0.000  0.042  0.023  0.025  0.022   \n",
       "は-ha      0.025  0.036  0.030  0.017  0.042  0.000  0.043  0.024  0.026   \n",
       "ま-ma      0.069  0.014  0.012  0.048  0.023  0.043  0.000  0.030  0.019   \n",
       "や-ya      0.033  0.034  0.026  0.029  0.025  0.024  0.030  0.000  0.029   \n",
       "れ-re      0.044  0.009  0.009  0.036  0.022  0.026  0.019  0.029  0.000   \n",
       "を-wo      0.034  0.018  0.014  0.037  0.018  0.032  0.025  0.025  0.017   \n",
       "tshirt    0.106  0.058  0.056  0.100  0.039  0.106  0.051  0.066  0.061   \n",
       "trouser   0.131  0.046  0.042  0.103  0.057  0.099  0.036  0.068  0.054   \n",
       "pullover  0.095  0.083  0.083  0.101  0.051  0.108  0.078  0.071  0.074   \n",
       "dress     0.116  0.042  0.037  0.107  0.041  0.099  0.026  0.061  0.048   \n",
       "coat      0.118  0.092  0.093  0.127  0.062  0.131  0.085  0.084  0.084   \n",
       "sandal    0.040  0.030  0.032  0.034  0.044  0.021  0.045  0.036  0.029   \n",
       "shirt     0.077  0.050  0.050  0.077  0.028  0.081  0.046  0.049  0.045   \n",
       "sneaker   0.060  0.058  0.058  0.068  0.072  0.048  0.071  0.043  0.055   \n",
       "bag       0.058  0.077  0.082  0.083  0.051  0.081  0.079  0.053  0.065   \n",
       "boot      0.105  0.095  0.106  0.103  0.091  0.104  0.094  0.087  0.098   \n",
       "\n",
       "           を-wo  tshirt  trouser  pullover  dress   coat  sandal  shirt  \\\n",
       "お-o       0.034   0.106    0.131     0.095  0.116  0.118   0.040  0.077   \n",
       "き-ki      0.018   0.058    0.046     0.083  0.042  0.092   0.030  0.050   \n",
       "す-su      0.014   0.056    0.042     0.083  0.037  0.093   0.032  0.050   \n",
       "つ-tsu     0.037   0.100    0.103     0.101  0.107  0.127   0.034  0.077   \n",
       "な-na      0.018   0.039    0.057     0.051  0.041  0.062   0.044  0.028   \n",
       "は-ha      0.032   0.106    0.099     0.108  0.099  0.131   0.021  0.081   \n",
       "ま-ma      0.025   0.051    0.036     0.078  0.026  0.085   0.045  0.046   \n",
       "や-ya      0.025   0.066    0.068     0.071  0.061  0.084   0.036  0.049   \n",
       "れ-re      0.017   0.061    0.054     0.074  0.048  0.084   0.029  0.045   \n",
       "を-wo      0.000   0.056    0.072     0.074  0.056  0.092   0.030  0.047   \n",
       "tshirt    0.056   0.000    0.053     0.040  0.026  0.043   0.115  0.017   \n",
       "trouser   0.072   0.053    0.000     0.091  0.021  0.089   0.105  0.062   \n",
       "pullover  0.074   0.040    0.091     0.000  0.065  0.008   0.116  0.009   \n",
       "dress     0.056   0.026    0.021     0.065  0.000  0.060   0.100  0.035   \n",
       "coat      0.092   0.043    0.089     0.008  0.060  0.000   0.136  0.012   \n",
       "sandal    0.030   0.115    0.105     0.116  0.100  0.136   0.000  0.088   \n",
       "shirt     0.047   0.017    0.062     0.009  0.035  0.012   0.088  0.000   \n",
       "sneaker   0.051   0.134    0.125     0.127  0.116  0.142   0.019  0.103   \n",
       "bag       0.060   0.073    0.120     0.042  0.085  0.047   0.072  0.036   \n",
       "boot      0.087   0.117    0.147     0.095  0.121  0.106   0.063  0.085   \n",
       "\n",
       "          sneaker    bag   boot  \n",
       "お-o         0.060  0.058  0.105  \n",
       "き-ki        0.058  0.077  0.095  \n",
       "す-su        0.058  0.082  0.106  \n",
       "つ-tsu       0.068  0.083  0.103  \n",
       "な-na        0.072  0.051  0.091  \n",
       "は-ha        0.048  0.081  0.104  \n",
       "ま-ma        0.071  0.079  0.094  \n",
       "や-ya        0.043  0.053  0.087  \n",
       "れ-re        0.055  0.065  0.098  \n",
       "を-wo        0.051  0.060  0.087  \n",
       "tshirt      0.134  0.073  0.117  \n",
       "trouser     0.125  0.120  0.147  \n",
       "pullover    0.127  0.042  0.095  \n",
       "dress       0.116  0.085  0.121  \n",
       "coat        0.142  0.047  0.106  \n",
       "sandal      0.019  0.072  0.063  \n",
       "shirt       0.103  0.036  0.085  \n",
       "sneaker     0.000  0.070  0.066  \n",
       "bag         0.070  0.000  0.048  \n",
       "boot        0.066  0.048  0.000  "
      ]
     },
     "execution_count": 14,
     "metadata": {},
     "output_type": "execute_result"
    }
   ],
   "source": [
    "l2_distance_df = pd.DataFrame(l2_distance_matrix)\n",
    "l2_distance_df.index = name_list\n",
    "l2_distance_df.columns = name_list\n",
    "l2_distance_df"
   ]
  },
  {
   "cell_type": "code",
   "execution_count": 23,
   "metadata": {},
   "outputs": [
    {
     "data": {
      "text/plain": [
       "shirt       0.000\n",
       "pullover    0.009\n",
       "coat        0.012\n",
       "tshirt      0.017\n",
       "な-na        0.028\n",
       "dress       0.035\n",
       "bag         0.036\n",
       "れ-re        0.045\n",
       "ま-ma        0.046\n",
       "を-wo        0.047\n",
       "や-ya        0.049\n",
       "き-ki        0.050\n",
       "す-su        0.050\n",
       "trouser     0.062\n",
       "お-o         0.077\n",
       "つ-tsu       0.077\n",
       "は-ha        0.081\n",
       "boot        0.085\n",
       "sandal      0.088\n",
       "sneaker     0.103\n",
       "Name: shirt, dtype: float64"
      ]
     },
     "execution_count": 23,
     "metadata": {},
     "output_type": "execute_result"
    }
   ],
   "source": [
    "l2_distance_df['shirt'].sort_values()"
   ]
  },
  {
   "cell_type": "code",
   "execution_count": 22,
   "metadata": {},
   "outputs": [
    {
     "data": {
      "text/plain": [
       "は-ha        0.000\n",
       "つ-tsu       0.017\n",
       "sandal      0.021\n",
       "や-ya        0.024\n",
       "お-o         0.025\n",
       "れ-re        0.026\n",
       "す-su        0.030\n",
       "を-wo        0.032\n",
       "き-ki        0.036\n",
       "な-na        0.042\n",
       "ま-ma        0.043\n",
       "sneaker     0.048\n",
       "bag         0.081\n",
       "shirt       0.081\n",
       "trouser     0.099\n",
       "dress       0.099\n",
       "boot        0.104\n",
       "tshirt      0.106\n",
       "pullover    0.108\n",
       "coat        0.131\n",
       "Name: は-ha, dtype: float64"
      ]
     },
     "execution_count": 22,
     "metadata": {},
     "output_type": "execute_result"
    }
   ],
   "source": [
    "l2_distance_df['は-ha'].sort_values()"
   ]
  },
  {
   "cell_type": "code",
   "execution_count": 20,
   "metadata": {},
   "outputs": [
    {
     "data": {
      "text/plain": [
       "お-o         0.000\n",
       "は-ha        0.025\n",
       "や-ya        0.033\n",
       "を-wo        0.034\n",
       "つ-tsu       0.037\n",
       "sandal      0.040\n",
       "な-na        0.042\n",
       "れ-re        0.044\n",
       "す-su        0.053\n",
       "bag         0.058\n",
       "き-ki        0.060\n",
       "sneaker     0.060\n",
       "ま-ma        0.069\n",
       "shirt       0.077\n",
       "pullover    0.095\n",
       "boot        0.105\n",
       "tshirt      0.106\n",
       "dress       0.116\n",
       "coat        0.118\n",
       "trouser     0.131\n",
       "Name: お-o, dtype: float64"
      ]
     },
     "execution_count": 20,
     "metadata": {},
     "output_type": "execute_result"
    }
   ],
   "source": [
    "l2_distance_df['お-o'].sort_values()"
   ]
  },
  {
   "cell_type": "code",
   "execution_count": 9,
   "metadata": {},
   "outputs": [
    {
     "data": {
      "text/plain": [
       "お-o      0.000\n",
       "は-ha     0.025\n",
       "や-ya     0.033\n",
       "を-wo     0.034\n",
       "つ-tsu    0.037\n",
       "な-na     0.042\n",
       "れ-re     0.044\n",
       "す-su     0.053\n",
       "き-ki     0.060\n",
       "ま-ma     0.069\n",
       "Name: お-o, dtype: float64"
      ]
     },
     "execution_count": 9,
     "metadata": {},
     "output_type": "execute_result"
    }
   ],
   "source": [
    "l2_distance_df['お-o'].sort_values()"
   ]
  },
  {
   "cell_type": "code",
   "execution_count": 33,
   "metadata": {},
   "outputs": [
    {
     "data": {
      "text/plain": [
       "き-ki     0.000\n",
       "す-su     0.008\n",
       "れ-re     0.009\n",
       "ま-ma     0.014\n",
       "を-wo     0.018\n",
       "な-na     0.019\n",
       "や-ya     0.034\n",
       "は-ha     0.036\n",
       "つ-tsu    0.040\n",
       "お-o      0.060\n",
       "Name: き-ki, dtype: float64"
      ]
     },
     "execution_count": 33,
     "metadata": {},
     "output_type": "execute_result"
    }
   ],
   "source": [
    "l2_distance_df['き-ki'].sort_values()"
   ]
  },
  {
   "cell_type": "code",
   "execution_count": 35,
   "metadata": {},
   "outputs": [
    {
     "data": {
      "text/plain": [
       "す-su     0.000\n",
       "き-ki     0.008\n",
       "れ-re     0.009\n",
       "ま-ma     0.012\n",
       "を-wo     0.014\n",
       "な-na     0.019\n",
       "や-ya     0.026\n",
       "は-ha     0.030\n",
       "つ-tsu    0.039\n",
       "お-o      0.053\n",
       "Name: す-su, dtype: float64"
      ]
     },
     "execution_count": 35,
     "metadata": {},
     "output_type": "execute_result"
    }
   ],
   "source": [
    "l2_distance_df['す-su'].sort_values()"
   ]
  },
  {
   "cell_type": "code",
   "execution_count": 21,
   "metadata": {},
   "outputs": [
    {
     "data": {
      "text/plain": [
       "ま-ma        0.000\n",
       "す-su        0.012\n",
       "き-ki        0.014\n",
       "れ-re        0.019\n",
       "な-na        0.023\n",
       "を-wo        0.025\n",
       "dress       0.026\n",
       "や-ya        0.030\n",
       "trouser     0.036\n",
       "は-ha        0.043\n",
       "sandal      0.045\n",
       "shirt       0.046\n",
       "つ-tsu       0.048\n",
       "tshirt      0.051\n",
       "お-o         0.069\n",
       "sneaker     0.071\n",
       "pullover    0.078\n",
       "bag         0.079\n",
       "coat        0.085\n",
       "boot        0.094\n",
       "Name: ま-ma, dtype: float64"
      ]
     },
     "execution_count": 21,
     "metadata": {},
     "output_type": "execute_result"
    }
   ],
   "source": [
    "l2_distance_df['ま-ma'].sort_values()"
   ]
  },
  {
   "cell_type": "code",
   "execution_count": 36,
   "metadata": {},
   "outputs": [
    {
     "data": {
      "text/plain": [
       "や-ya     0.000\n",
       "は-ha     0.024\n",
       "な-na     0.025\n",
       "を-wo     0.025\n",
       "す-su     0.026\n",
       "つ-tsu    0.029\n",
       "れ-re     0.029\n",
       "ま-ma     0.030\n",
       "お-o      0.033\n",
       "き-ki     0.034\n",
       "Name: や-ya, dtype: float64"
      ]
     },
     "execution_count": 36,
     "metadata": {},
     "output_type": "execute_result"
    }
   ],
   "source": [
    "l2_distance_df['や-ya'].sort_values()"
   ]
  },
  {
   "cell_type": "code",
   "execution_count": 47,
   "metadata": {},
   "outputs": [
    {
     "data": {
      "text/plain": [
       "を-wo     0.000\n",
       "す-su     0.014\n",
       "れ-re     0.017\n",
       "き-ki     0.018\n",
       "な-na     0.018\n",
       "ま-ma     0.025\n",
       "や-ya     0.025\n",
       "は-ha     0.032\n",
       "お-o      0.034\n",
       "つ-tsu    0.037\n",
       "Name: を-wo, dtype: float64"
      ]
     },
     "execution_count": 47,
     "metadata": {},
     "output_type": "execute_result"
    }
   ],
   "source": [
    "l2_distance_df['を-wo'].sort_values()"
   ]
  },
  {
   "cell_type": "markdown",
   "metadata": {},
   "source": [
    "> The **maximum** distance is in `<boot, trouser>`, which is **0.147**.   \n",
    "> The **minimum** distance is in `<coat, pullover>`, which is **0.008**.\n",
    "\n",
    "> The ranking for `coat` is: \n",
    "- **`pullover`** < `shirt` < `tshirt` < `bag` < `dress` < `trouser` < `boot` < `sandal` < **`sneaker`**  \n",
    "\n",
    "> The ranking for `shirt` is: \n",
    "- **`pullover`** < `coat` < `tshirt` < `dress` < `bag` < `trouser` < `boot` < `sandal` < **`sneaker`**  \n",
    "\n",
    "> The ranking for `pullover` is: \n",
    "- **`coat`** < `shirt` < `tshirt` < `bag` < `dress` < `trouser` < `boot` < `sandal` < **`sneaker`**  \n",
    "\n",
    "> The ranking for `tshirt` is: \n",
    "- **`shirt`** < `dress` < `pullover` < `coat` < `trouser` < `bag` < `sandal` < `boot` < **`sneaker`**  "
   ]
  },
  {
   "cell_type": "markdown",
   "metadata": {},
   "source": [
    "### 1.1.2. Get `l2_binary_df`"
   ]
  },
  {
   "cell_type": "code",
   "execution_count": 38,
   "metadata": {},
   "outputs": [],
   "source": [
    "for i, key in enumerate(keys):\n",
    "    distances = l2_distance_df[key].values.copy()\n",
    "    max_ = keys[np.argmax(distances)]\n",
    "    distances[i] = np.inf\n",
    "    min_ = keys[np.argmin(distances)]\n",
    "    l2_binary_dict[key] = dict()\n",
    "    l2_binary_dict[key]['min'] = min_\n",
    "    l2_binary_dict[key]['max'] = max_"
   ]
  },
  {
   "cell_type": "code",
   "execution_count": 39,
   "metadata": {},
   "outputs": [
    {
     "data": {
      "text/html": [
       "<div>\n",
       "<style scoped>\n",
       "    .dataframe tbody tr th:only-of-type {\n",
       "        vertical-align: middle;\n",
       "    }\n",
       "\n",
       "    .dataframe tbody tr th {\n",
       "        vertical-align: top;\n",
       "    }\n",
       "\n",
       "    .dataframe thead th {\n",
       "        text-align: right;\n",
       "    }\n",
       "</style>\n",
       "<table border=\"1\" class=\"dataframe\">\n",
       "  <thead>\n",
       "    <tr style=\"text-align: right;\">\n",
       "      <th></th>\n",
       "      <th>max</th>\n",
       "      <th>min</th>\n",
       "    </tr>\n",
       "  </thead>\n",
       "  <tbody>\n",
       "    <tr>\n",
       "      <th>お-o</th>\n",
       "      <td>ま-ma</td>\n",
       "      <td>は-ha</td>\n",
       "    </tr>\n",
       "    <tr>\n",
       "      <th>き-ki</th>\n",
       "      <td>お-o</td>\n",
       "      <td>す-su</td>\n",
       "    </tr>\n",
       "    <tr>\n",
       "      <th>す-su</th>\n",
       "      <td>お-o</td>\n",
       "      <td>き-ki</td>\n",
       "    </tr>\n",
       "    <tr>\n",
       "      <th>つ-tsu</th>\n",
       "      <td>ま-ma</td>\n",
       "      <td>は-ha</td>\n",
       "    </tr>\n",
       "    <tr>\n",
       "      <th>な-na</th>\n",
       "      <td>お-o</td>\n",
       "      <td>を-wo</td>\n",
       "    </tr>\n",
       "    <tr>\n",
       "      <th>は-ha</th>\n",
       "      <td>ま-ma</td>\n",
       "      <td>つ-tsu</td>\n",
       "    </tr>\n",
       "    <tr>\n",
       "      <th>ま-ma</th>\n",
       "      <td>お-o</td>\n",
       "      <td>す-su</td>\n",
       "    </tr>\n",
       "    <tr>\n",
       "      <th>や-ya</th>\n",
       "      <td>き-ki</td>\n",
       "      <td>は-ha</td>\n",
       "    </tr>\n",
       "    <tr>\n",
       "      <th>れ-re</th>\n",
       "      <td>お-o</td>\n",
       "      <td>き-ki</td>\n",
       "    </tr>\n",
       "    <tr>\n",
       "      <th>を-wo</th>\n",
       "      <td>つ-tsu</td>\n",
       "      <td>す-su</td>\n",
       "    </tr>\n",
       "  </tbody>\n",
       "</table>\n",
       "</div>"
      ],
      "text/plain": [
       "         max    min\n",
       "お-o     ま-ma   は-ha\n",
       "き-ki     お-o   す-su\n",
       "す-su     お-o   き-ki\n",
       "つ-tsu   ま-ma   は-ha\n",
       "な-na     お-o   を-wo\n",
       "は-ha    ま-ma  つ-tsu\n",
       "ま-ma     お-o   す-su\n",
       "や-ya    き-ki   は-ha\n",
       "れ-re     お-o   き-ki\n",
       "を-wo   つ-tsu   す-su"
      ]
     },
     "execution_count": 39,
     "metadata": {},
     "output_type": "execute_result"
    }
   ],
   "source": [
    "l2_binary_df = pd.DataFrame(l2_binary_dict).T\n",
    "l2_binary_df"
   ]
  },
  {
   "cell_type": "markdown",
   "metadata": {},
   "source": [
    "# 2. Metric 2: $L^{1}$-Distance for Mean of Raw Images"
   ]
  },
  {
   "cell_type": "markdown",
   "metadata": {},
   "source": [
    "## 2.1. Obtaining $L^1$ Distance"
   ]
  },
  {
   "cell_type": "markdown",
   "metadata": {},
   "source": [
    "### 2.1.1. Get `l1_distance_df`"
   ]
  },
  {
   "cell_type": "code",
   "execution_count": 40,
   "metadata": {},
   "outputs": [],
   "source": [
    "l1_distance_matrix = np.zeros((10, 10))\n",
    "l1_binary_dict = dict()"
   ]
  },
  {
   "cell_type": "code",
   "execution_count": 41,
   "metadata": {},
   "outputs": [],
   "source": [
    "for i, key_i in enumerate(keys):\n",
    "    for j, key_j in enumerate(keys):\n",
    "        x_i, x_j = mean_dict[key_i], mean_dict[key_j]\n",
    "        dist = torch.abs(x_i - x_j)\n",
    "        dist_mean = round(torch.mean(dist).cpu().data.numpy().item(), 3)\n",
    "        l1_distance_matrix[i][j] = dist_mean"
   ]
  },
  {
   "cell_type": "code",
   "execution_count": 42,
   "metadata": {},
   "outputs": [
    {
     "data": {
      "text/html": [
       "<div>\n",
       "<style scoped>\n",
       "    .dataframe tbody tr th:only-of-type {\n",
       "        vertical-align: middle;\n",
       "    }\n",
       "\n",
       "    .dataframe tbody tr th {\n",
       "        vertical-align: top;\n",
       "    }\n",
       "\n",
       "    .dataframe thead th {\n",
       "        text-align: right;\n",
       "    }\n",
       "</style>\n",
       "<table border=\"1\" class=\"dataframe\">\n",
       "  <thead>\n",
       "    <tr style=\"text-align: right;\">\n",
       "      <th></th>\n",
       "      <th>お-o</th>\n",
       "      <th>き-ki</th>\n",
       "      <th>す-su</th>\n",
       "      <th>つ-tsu</th>\n",
       "      <th>な-na</th>\n",
       "      <th>は-ha</th>\n",
       "      <th>ま-ma</th>\n",
       "      <th>や-ya</th>\n",
       "      <th>れ-re</th>\n",
       "      <th>を-wo</th>\n",
       "    </tr>\n",
       "  </thead>\n",
       "  <tbody>\n",
       "    <tr>\n",
       "      <th>お-o</th>\n",
       "      <td>0.000</td>\n",
       "      <td>0.186</td>\n",
       "      <td>0.173</td>\n",
       "      <td>0.144</td>\n",
       "      <td>0.157</td>\n",
       "      <td>0.115</td>\n",
       "      <td>0.199</td>\n",
       "      <td>0.132</td>\n",
       "      <td>0.165</td>\n",
       "      <td>0.136</td>\n",
       "    </tr>\n",
       "    <tr>\n",
       "      <th>き-ki</th>\n",
       "      <td>0.186</td>\n",
       "      <td>0.000</td>\n",
       "      <td>0.061</td>\n",
       "      <td>0.156</td>\n",
       "      <td>0.099</td>\n",
       "      <td>0.137</td>\n",
       "      <td>0.077</td>\n",
       "      <td>0.135</td>\n",
       "      <td>0.066</td>\n",
       "      <td>0.101</td>\n",
       "    </tr>\n",
       "    <tr>\n",
       "      <th>す-su</th>\n",
       "      <td>0.173</td>\n",
       "      <td>0.061</td>\n",
       "      <td>0.000</td>\n",
       "      <td>0.150</td>\n",
       "      <td>0.104</td>\n",
       "      <td>0.124</td>\n",
       "      <td>0.068</td>\n",
       "      <td>0.112</td>\n",
       "      <td>0.067</td>\n",
       "      <td>0.088</td>\n",
       "    </tr>\n",
       "    <tr>\n",
       "      <th>つ-tsu</th>\n",
       "      <td>0.144</td>\n",
       "      <td>0.156</td>\n",
       "      <td>0.150</td>\n",
       "      <td>0.000</td>\n",
       "      <td>0.149</td>\n",
       "      <td>0.099</td>\n",
       "      <td>0.165</td>\n",
       "      <td>0.120</td>\n",
       "      <td>0.147</td>\n",
       "      <td>0.146</td>\n",
       "    </tr>\n",
       "    <tr>\n",
       "      <th>な-na</th>\n",
       "      <td>0.157</td>\n",
       "      <td>0.099</td>\n",
       "      <td>0.104</td>\n",
       "      <td>0.149</td>\n",
       "      <td>0.000</td>\n",
       "      <td>0.151</td>\n",
       "      <td>0.110</td>\n",
       "      <td>0.122</td>\n",
       "      <td>0.113</td>\n",
       "      <td>0.098</td>\n",
       "    </tr>\n",
       "    <tr>\n",
       "      <th>は-ha</th>\n",
       "      <td>0.115</td>\n",
       "      <td>0.137</td>\n",
       "      <td>0.124</td>\n",
       "      <td>0.099</td>\n",
       "      <td>0.151</td>\n",
       "      <td>0.000</td>\n",
       "      <td>0.149</td>\n",
       "      <td>0.111</td>\n",
       "      <td>0.121</td>\n",
       "      <td>0.136</td>\n",
       "    </tr>\n",
       "    <tr>\n",
       "      <th>ま-ma</th>\n",
       "      <td>0.199</td>\n",
       "      <td>0.077</td>\n",
       "      <td>0.068</td>\n",
       "      <td>0.165</td>\n",
       "      <td>0.110</td>\n",
       "      <td>0.149</td>\n",
       "      <td>0.000</td>\n",
       "      <td>0.126</td>\n",
       "      <td>0.094</td>\n",
       "      <td>0.117</td>\n",
       "    </tr>\n",
       "    <tr>\n",
       "      <th>や-ya</th>\n",
       "      <td>0.132</td>\n",
       "      <td>0.135</td>\n",
       "      <td>0.112</td>\n",
       "      <td>0.120</td>\n",
       "      <td>0.122</td>\n",
       "      <td>0.111</td>\n",
       "      <td>0.126</td>\n",
       "      <td>0.000</td>\n",
       "      <td>0.127</td>\n",
       "      <td>0.122</td>\n",
       "    </tr>\n",
       "    <tr>\n",
       "      <th>れ-re</th>\n",
       "      <td>0.165</td>\n",
       "      <td>0.066</td>\n",
       "      <td>0.067</td>\n",
       "      <td>0.147</td>\n",
       "      <td>0.113</td>\n",
       "      <td>0.121</td>\n",
       "      <td>0.094</td>\n",
       "      <td>0.127</td>\n",
       "      <td>0.000</td>\n",
       "      <td>0.101</td>\n",
       "    </tr>\n",
       "    <tr>\n",
       "      <th>を-wo</th>\n",
       "      <td>0.136</td>\n",
       "      <td>0.101</td>\n",
       "      <td>0.088</td>\n",
       "      <td>0.146</td>\n",
       "      <td>0.098</td>\n",
       "      <td>0.136</td>\n",
       "      <td>0.117</td>\n",
       "      <td>0.122</td>\n",
       "      <td>0.101</td>\n",
       "      <td>0.000</td>\n",
       "    </tr>\n",
       "  </tbody>\n",
       "</table>\n",
       "</div>"
      ],
      "text/plain": [
       "         お-o   き-ki   す-su  つ-tsu   な-na   は-ha   ま-ma   や-ya   れ-re   を-wo\n",
       "お-o    0.000  0.186  0.173  0.144  0.157  0.115  0.199  0.132  0.165  0.136\n",
       "き-ki   0.186  0.000  0.061  0.156  0.099  0.137  0.077  0.135  0.066  0.101\n",
       "す-su   0.173  0.061  0.000  0.150  0.104  0.124  0.068  0.112  0.067  0.088\n",
       "つ-tsu  0.144  0.156  0.150  0.000  0.149  0.099  0.165  0.120  0.147  0.146\n",
       "な-na   0.157  0.099  0.104  0.149  0.000  0.151  0.110  0.122  0.113  0.098\n",
       "は-ha   0.115  0.137  0.124  0.099  0.151  0.000  0.149  0.111  0.121  0.136\n",
       "ま-ma   0.199  0.077  0.068  0.165  0.110  0.149  0.000  0.126  0.094  0.117\n",
       "や-ya   0.132  0.135  0.112  0.120  0.122  0.111  0.126  0.000  0.127  0.122\n",
       "れ-re   0.165  0.066  0.067  0.147  0.113  0.121  0.094  0.127  0.000  0.101\n",
       "を-wo   0.136  0.101  0.088  0.146  0.098  0.136  0.117  0.122  0.101  0.000"
      ]
     },
     "execution_count": 42,
     "metadata": {},
     "output_type": "execute_result"
    }
   ],
   "source": [
    "l1_distance_df = pd.DataFrame(l1_distance_matrix)\n",
    "l1_distance_df.index = keys\n",
    "l1_distance_df.columns = keys\n",
    "l1_distance_df"
   ]
  },
  {
   "cell_type": "markdown",
   "metadata": {},
   "source": [
    "> The **maximum** distance is in `<coat, sandal>`, which is **0.297**.   \n",
    "> The **minimum** distance is in `<coat, pullover>`, which is **0.066**.\n",
    "\n",
    "> The ranking for `coat` is: \n",
    "- **`pullover`** < `shirt` < `tshirt` < `bag` < `dress` < `trouser` < `boot` < `sneaker` < **`sandal`**\n",
    "\n",
    "> The ranking for `shirt` is: \n",
    "- **`pullover`** < `coat` < `tshirt` < `dress` < `bag` < `trouser` < `boot` < `sandal` < **`sneaker`**  \n",
    "\n",
    "> The ranking for `pullover` is: \n",
    "- **`coat`** < `shirt` < `tshirt` < `bag` < `dress` < `trouser` < `boot` < `sneaker` < **`sandal`**  \n",
    "\n",
    "> The ranking for `tshirt` is: \n",
    "- **`shirt`** < `dress` < `pullover` < `coat` < `trouser` < `bag` < `boot` < `sandal` < **`sneaker`**  "
   ]
  },
  {
   "cell_type": "markdown",
   "metadata": {},
   "source": [
    "### 2.1.2. Get `l1_binary_df`"
   ]
  },
  {
   "cell_type": "code",
   "execution_count": 43,
   "metadata": {},
   "outputs": [],
   "source": [
    "for i, key in enumerate(keys):\n",
    "    distances = l1_distance_df[key].values.copy()\n",
    "    max_ = keys[np.argmax(distances)]\n",
    "    distances[i] = np.inf\n",
    "    min_ = keys[np.argmin(distances)]\n",
    "    l1_binary_dict[key] = dict()\n",
    "    l1_binary_dict[key]['min'] = min_\n",
    "    l1_binary_dict[key]['max'] = max_"
   ]
  },
  {
   "cell_type": "code",
   "execution_count": 44,
   "metadata": {},
   "outputs": [],
   "source": [
    "l1_binary_df = pd.DataFrame(l1_binary_dict).T"
   ]
  },
  {
   "cell_type": "code",
   "execution_count": 46,
   "metadata": {},
   "outputs": [
    {
     "data": {
      "text/html": [
       "<div>\n",
       "<style scoped>\n",
       "    .dataframe tbody tr th:only-of-type {\n",
       "        vertical-align: middle;\n",
       "    }\n",
       "\n",
       "    .dataframe tbody tr th {\n",
       "        vertical-align: top;\n",
       "    }\n",
       "\n",
       "    .dataframe thead th {\n",
       "        text-align: right;\n",
       "    }\n",
       "</style>\n",
       "<table border=\"1\" class=\"dataframe\">\n",
       "  <thead>\n",
       "    <tr style=\"text-align: right;\">\n",
       "      <th></th>\n",
       "      <th>max</th>\n",
       "      <th>min</th>\n",
       "    </tr>\n",
       "  </thead>\n",
       "  <tbody>\n",
       "    <tr>\n",
       "      <th>お-o</th>\n",
       "      <td>ま-ma</td>\n",
       "      <td>は-ha</td>\n",
       "    </tr>\n",
       "    <tr>\n",
       "      <th>き-ki</th>\n",
       "      <td>お-o</td>\n",
       "      <td>す-su</td>\n",
       "    </tr>\n",
       "    <tr>\n",
       "      <th>す-su</th>\n",
       "      <td>お-o</td>\n",
       "      <td>き-ki</td>\n",
       "    </tr>\n",
       "    <tr>\n",
       "      <th>つ-tsu</th>\n",
       "      <td>ま-ma</td>\n",
       "      <td>は-ha</td>\n",
       "    </tr>\n",
       "    <tr>\n",
       "      <th>な-na</th>\n",
       "      <td>お-o</td>\n",
       "      <td>を-wo</td>\n",
       "    </tr>\n",
       "    <tr>\n",
       "      <th>は-ha</th>\n",
       "      <td>な-na</td>\n",
       "      <td>つ-tsu</td>\n",
       "    </tr>\n",
       "    <tr>\n",
       "      <th>ま-ma</th>\n",
       "      <td>お-o</td>\n",
       "      <td>す-su</td>\n",
       "    </tr>\n",
       "    <tr>\n",
       "      <th>や-ya</th>\n",
       "      <td>き-ki</td>\n",
       "      <td>は-ha</td>\n",
       "    </tr>\n",
       "    <tr>\n",
       "      <th>れ-re</th>\n",
       "      <td>お-o</td>\n",
       "      <td>き-ki</td>\n",
       "    </tr>\n",
       "    <tr>\n",
       "      <th>を-wo</th>\n",
       "      <td>つ-tsu</td>\n",
       "      <td>す-su</td>\n",
       "    </tr>\n",
       "  </tbody>\n",
       "</table>\n",
       "</div>"
      ],
      "text/plain": [
       "         max    min\n",
       "お-o     ま-ma   は-ha\n",
       "き-ki     お-o   す-su\n",
       "す-su     お-o   き-ki\n",
       "つ-tsu   ま-ma   は-ha\n",
       "な-na     お-o   を-wo\n",
       "は-ha    な-na  つ-tsu\n",
       "ま-ma     お-o   す-su\n",
       "や-ya    き-ki   は-ha\n",
       "れ-re     お-o   き-ki\n",
       "を-wo   つ-tsu   す-su"
      ]
     },
     "execution_count": 46,
     "metadata": {},
     "output_type": "execute_result"
    }
   ],
   "source": [
    "l1_binary_df"
   ]
  },
  {
   "cell_type": "code",
   "execution_count": 45,
   "metadata": {},
   "outputs": [
    {
     "data": {
      "text/plain": [
       "max     9\n",
       "min    10\n",
       "dtype: int64"
      ]
     },
     "execution_count": 45,
     "metadata": {},
     "output_type": "execute_result"
    }
   ],
   "source": [
    "(l2_binary_df == l1_binary_df).sum()"
   ]
  },
  {
   "cell_type": "markdown",
   "metadata": {},
   "source": [
    "> The results are similar to that of $L^2$-distance's."
   ]
  },
  {
   "cell_type": "markdown",
   "metadata": {},
   "source": [
    "# 3. Metric 3: $L^{2}$-Distance for Mean of Representations in Reconstruction Model (Unsupervised)"
   ]
  },
  {
   "cell_type": "markdown",
   "metadata": {},
   "source": [
    "> **Step 1**: We will use coat-train to train an unsupervised reconstruction model.  \n",
    "> **Step 2**: We will use coat-test to calculate the mean of representations (outputs).   \n",
    "> **Step 3**: We will use other other datasets to calculate the mean of representations.  \n",
    "> **Step 4**: We compare the distances between these means.   "
   ]
  },
  {
   "cell_type": "markdown",
   "metadata": {},
   "source": [
    "## Shirt"
   ]
  },
  {
   "cell_type": "code",
   "execution_count": 44,
   "metadata": {},
   "outputs": [],
   "source": [
    "label_eval=(6,)\n",
    "base = 'shirt'"
   ]
  },
  {
   "cell_type": "code",
   "execution_count": 45,
   "metadata": {},
   "outputs": [],
   "source": [
    "rec_distance_dict = {base:{base: 0.000}}\n",
    "device = 'cpu'\n",
    "net_name = 'fmnist_LeNet_rec'\n",
    "model_path = '/net/leksai/nips/model/rec/fmnist/rec_unsupervised_[{}]_[]_[0.0]/net_fmnist_LeNet_rec_eta_100_epochs_150_batch_128/model.tar'.format(label_eval[0])\n",
    "\n",
    "net = build_network(net_name)\n",
    "model_dict = torch.load(model_path, map_location=device)\n",
    "net.load_state_dict(model_dict['net_dict'])\n",
    "\n",
    "data_base_test = load_dataset(loader_name='fmnist_eval',\n",
    "                              label_eval=label_eval,\n",
    "                              test_eval=True)\n",
    "\n",
    "base_loader_test = data_base_test.loaders(batch_size=batch_size_loading,\n",
    "                                          num_workers=num_workers)\n",
    "\n",
    "\n",
    "for data in base_loader_test:\n",
    "    X, y, idx = data\n",
    "    X, y, idx = X.to(device), y.to(device), idx.to(device)\n",
    "    X_pred = net(X)\n",
    "    \n",
    "X_pred_mean_base = torch.mean(X_pred, axis=0)\n",
    "\n",
    "\n",
    "for key, dataset in sorted(dataset_dict.items()):\n",
    "    if key == base:\n",
    "        continue\n",
    "    loader = dataset.loaders(batch_size=batch_size_loading,\n",
    "                             num_workers=num_workers)\n",
    "    for data in loader:\n",
    "        X, y, idx = data\n",
    "        X, y, idx = X.to(device), y.to(device), idx.to(device)\n",
    "        break\n",
    "    \n",
    "    X_pred = net(X)\n",
    "    X_pred_mean = torch.mean(X_pred, axis=0)\n",
    "    dist = criterion(X_pred_mean_base, X_pred_mean)\n",
    "    dist_mean = torch.mean(dist).cpu().data.numpy().item()\n",
    "    rec_distance_dict[base][key] = dist_mean"
   ]
  },
  {
   "cell_type": "code",
   "execution_count": 46,
   "metadata": {},
   "outputs": [
    {
     "data": {
      "text/html": [
       "<div>\n",
       "<style scoped>\n",
       "    .dataframe tbody tr th:only-of-type {\n",
       "        vertical-align: middle;\n",
       "    }\n",
       "\n",
       "    .dataframe tbody tr th {\n",
       "        vertical-align: top;\n",
       "    }\n",
       "\n",
       "    .dataframe thead th {\n",
       "        text-align: right;\n",
       "    }\n",
       "</style>\n",
       "<table border=\"1\" class=\"dataframe\">\n",
       "  <thead>\n",
       "    <tr style=\"text-align: right;\">\n",
       "      <th></th>\n",
       "      <th>shirt</th>\n",
       "    </tr>\n",
       "  </thead>\n",
       "  <tbody>\n",
       "    <tr>\n",
       "      <th>shirt</th>\n",
       "      <td>0.000000</td>\n",
       "    </tr>\n",
       "    <tr>\n",
       "      <th>pullover</th>\n",
       "      <td>0.000620</td>\n",
       "    </tr>\n",
       "    <tr>\n",
       "      <th>coat</th>\n",
       "      <td>0.000726</td>\n",
       "    </tr>\n",
       "    <tr>\n",
       "      <th>tshirt</th>\n",
       "      <td>0.001979</td>\n",
       "    </tr>\n",
       "    <tr>\n",
       "      <th>bag</th>\n",
       "      <td>0.002640</td>\n",
       "    </tr>\n",
       "    <tr>\n",
       "      <th>dress</th>\n",
       "      <td>0.002952</td>\n",
       "    </tr>\n",
       "    <tr>\n",
       "      <th>boot</th>\n",
       "      <td>0.003957</td>\n",
       "    </tr>\n",
       "    <tr>\n",
       "      <th>trouser</th>\n",
       "      <td>0.004746</td>\n",
       "    </tr>\n",
       "    <tr>\n",
       "      <th>sandal</th>\n",
       "      <td>0.004897</td>\n",
       "    </tr>\n",
       "    <tr>\n",
       "      <th>sneaker</th>\n",
       "      <td>0.005144</td>\n",
       "    </tr>\n",
       "  </tbody>\n",
       "</table>\n",
       "</div>"
      ],
      "text/plain": [
       "             shirt\n",
       "shirt     0.000000\n",
       "pullover  0.000620\n",
       "coat      0.000726\n",
       "tshirt    0.001979\n",
       "bag       0.002640\n",
       "dress     0.002952\n",
       "boot      0.003957\n",
       "trouser   0.004746\n",
       "sandal    0.004897\n",
       "sneaker   0.005144"
      ]
     },
     "execution_count": 46,
     "metadata": {},
     "output_type": "execute_result"
    }
   ],
   "source": [
    "rec_distance_df_shirt = pd.DataFrame(rec_distance_dict)\n",
    "rec_distance_df_shirt.sort_values(base, inplace=True)\n",
    "rec_distance_df_shirt"
   ]
  },
  {
   "cell_type": "code",
   "execution_count": 47,
   "metadata": {},
   "outputs": [
    {
     "data": {
      "text/plain": [
       "Index(['shirt', 'pullover', 'coat', 'tshirt', 'bag', 'dress', 'boot',\n",
       "       'trouser', 'sandal', 'sneaker'],\n",
       "      dtype='object')"
      ]
     },
     "execution_count": 47,
     "metadata": {},
     "output_type": "execute_result"
    }
   ],
   "source": [
    "rec_ranking_shirt = rec_distance_df_shirt.index\n",
    "rec_ranking_shirt"
   ]
  },
  {
   "cell_type": "markdown",
   "metadata": {},
   "source": [
    "> The ranking for `shirt` is: \n",
    "- **`pullover`** < `coat` < `tshirt` < `bag` < `dress` < `boot` < `trouser` < `sandal` < **`sneaker`**  "
   ]
  },
  {
   "cell_type": "markdown",
   "metadata": {},
   "source": [
    "## Pullover"
   ]
  },
  {
   "cell_type": "code",
   "execution_count": 48,
   "metadata": {},
   "outputs": [],
   "source": [
    "label_eval=(2,)\n",
    "base = 'pullover'"
   ]
  },
  {
   "cell_type": "code",
   "execution_count": 49,
   "metadata": {},
   "outputs": [],
   "source": [
    "rec_distance_dict = {base:{base: 0.000}}\n",
    "device = 'cpu'\n",
    "net_name = 'fmnist_LeNet_rec'\n",
    "model_path = '/net/leksai/nips/model/rec/fmnist/rec_unsupervised_[{}]_[]_[0.0]/net_fmnist_LeNet_rec_eta_100_epochs_150_batch_128/model.tar'.format(label_eval[0])\n",
    "\n",
    "net = build_network(net_name)\n",
    "model_dict = torch.load(model_path, map_location=device)\n",
    "net.load_state_dict(model_dict['net_dict'])\n",
    "\n",
    "data_base_test = load_dataset(loader_name='fmnist_eval',\n",
    "                              label_eval=label_eval,\n",
    "                              test_eval=True)\n",
    "\n",
    "base_loader_test = data_base_test.loaders(batch_size=batch_size_loading,\n",
    "                                          num_workers=num_workers)\n",
    "\n",
    "\n",
    "for data in base_loader_test:\n",
    "    X, y, idx = data\n",
    "    X, y, idx = X.to(device), y.to(device), idx.to(device)\n",
    "    X_pred = net(X)\n",
    "    \n",
    "X_pred_mean_base = torch.mean(X_pred, axis=0)\n",
    "\n",
    "\n",
    "for key, dataset in sorted(dataset_dict.items()):\n",
    "    if key == base:\n",
    "        continue\n",
    "    loader = dataset.loaders(batch_size=batch_size_loading,\n",
    "                             num_workers=num_workers)\n",
    "    for data in loader:\n",
    "        X, y, idx = data\n",
    "        X, y, idx = X.to(device), y.to(device), idx.to(device)\n",
    "        break\n",
    "    \n",
    "    X_pred = net(X)\n",
    "    X_pred_mean = torch.mean(X_pred, axis=0)\n",
    "    dist = criterion(X_pred_mean_base, X_pred_mean)\n",
    "    dist_mean = torch.mean(dist).cpu().data.numpy().item()\n",
    "    rec_distance_dict[base][key] = dist_mean"
   ]
  },
  {
   "cell_type": "code",
   "execution_count": 50,
   "metadata": {},
   "outputs": [
    {
     "data": {
      "text/html": [
       "<div>\n",
       "<style scoped>\n",
       "    .dataframe tbody tr th:only-of-type {\n",
       "        vertical-align: middle;\n",
       "    }\n",
       "\n",
       "    .dataframe tbody tr th {\n",
       "        vertical-align: top;\n",
       "    }\n",
       "\n",
       "    .dataframe thead th {\n",
       "        text-align: right;\n",
       "    }\n",
       "</style>\n",
       "<table border=\"1\" class=\"dataframe\">\n",
       "  <thead>\n",
       "    <tr style=\"text-align: right;\">\n",
       "      <th></th>\n",
       "      <th>pullover</th>\n",
       "    </tr>\n",
       "  </thead>\n",
       "  <tbody>\n",
       "    <tr>\n",
       "      <th>pullover</th>\n",
       "      <td>0.000000</td>\n",
       "    </tr>\n",
       "    <tr>\n",
       "      <th>coat</th>\n",
       "      <td>0.000449</td>\n",
       "    </tr>\n",
       "    <tr>\n",
       "      <th>shirt</th>\n",
       "      <td>0.000606</td>\n",
       "    </tr>\n",
       "    <tr>\n",
       "      <th>tshirt</th>\n",
       "      <td>0.000968</td>\n",
       "    </tr>\n",
       "    <tr>\n",
       "      <th>dress</th>\n",
       "      <td>0.001964</td>\n",
       "    </tr>\n",
       "    <tr>\n",
       "      <th>trouser</th>\n",
       "      <td>0.002877</td>\n",
       "    </tr>\n",
       "    <tr>\n",
       "      <th>bag</th>\n",
       "      <td>0.003092</td>\n",
       "    </tr>\n",
       "    <tr>\n",
       "      <th>boot</th>\n",
       "      <td>0.005315</td>\n",
       "    </tr>\n",
       "    <tr>\n",
       "      <th>sneaker</th>\n",
       "      <td>0.006766</td>\n",
       "    </tr>\n",
       "    <tr>\n",
       "      <th>sandal</th>\n",
       "      <td>0.008275</td>\n",
       "    </tr>\n",
       "  </tbody>\n",
       "</table>\n",
       "</div>"
      ],
      "text/plain": [
       "          pullover\n",
       "pullover  0.000000\n",
       "coat      0.000449\n",
       "shirt     0.000606\n",
       "tshirt    0.000968\n",
       "dress     0.001964\n",
       "trouser   0.002877\n",
       "bag       0.003092\n",
       "boot      0.005315\n",
       "sneaker   0.006766\n",
       "sandal    0.008275"
      ]
     },
     "execution_count": 50,
     "metadata": {},
     "output_type": "execute_result"
    }
   ],
   "source": [
    "rec_distance_df_pullover = pd.DataFrame(rec_distance_dict)\n",
    "rec_distance_df_pullover.sort_values(base, inplace=True)\n",
    "rec_distance_df_pullover"
   ]
  },
  {
   "cell_type": "code",
   "execution_count": 51,
   "metadata": {},
   "outputs": [
    {
     "data": {
      "text/plain": [
       "Index(['pullover', 'coat', 'shirt', 'tshirt', 'dress', 'trouser', 'bag',\n",
       "       'boot', 'sneaker', 'sandal'],\n",
       "      dtype='object')"
      ]
     },
     "execution_count": 51,
     "metadata": {},
     "output_type": "execute_result"
    }
   ],
   "source": [
    "rec_ranking_pullover = rec_distance_df_pullover.index\n",
    "rec_ranking_pullover"
   ]
  },
  {
   "cell_type": "markdown",
   "metadata": {},
   "source": [
    "> The ranking for `pullover` is: \n",
    "- **`coat`** < `shirt` < `tshirt` < `dress` < `trouser` < `bag` < `boot` < `sneaker` < **`sandal`**  "
   ]
  },
  {
   "cell_type": "markdown",
   "metadata": {},
   "source": [
    "## tshirt"
   ]
  },
  {
   "cell_type": "code",
   "execution_count": 52,
   "metadata": {},
   "outputs": [],
   "source": [
    "label_eval=(0,)\n",
    "base = 'tshirt'"
   ]
  },
  {
   "cell_type": "code",
   "execution_count": 53,
   "metadata": {},
   "outputs": [],
   "source": [
    "rec_distance_dict = {base:{base: 0.000}}\n",
    "device = 'cpu'\n",
    "net_name = 'fmnist_LeNet_rec'\n",
    "model_path = '/net/leksai/nips/model/rec/fmnist/rec_unsupervised_[{}]_[]_[0.0]/net_fmnist_LeNet_rec_eta_100_epochs_150_batch_128/model.tar'.format(label_eval[0])\n",
    "\n",
    "net = build_network(net_name)\n",
    "model_dict = torch.load(model_path, map_location=device)\n",
    "net.load_state_dict(model_dict['net_dict'])\n",
    "\n",
    "data_base_test = load_dataset(loader_name='fmnist_eval',\n",
    "                              label_eval=label_eval,\n",
    "                              test_eval=True)\n",
    "\n",
    "base_loader_test = data_base_test.loaders(batch_size=batch_size_loading,\n",
    "                                          num_workers=num_workers)\n",
    "\n",
    "\n",
    "for data in base_loader_test:\n",
    "    X, y, idx = data\n",
    "    X, y, idx = X.to(device), y.to(device), idx.to(device)\n",
    "    X_pred = net(X)\n",
    "    \n",
    "X_pred_mean_base = torch.mean(X_pred, axis=0)\n",
    "\n",
    "\n",
    "for key, dataset in sorted(dataset_dict.items()):\n",
    "    if key == base:\n",
    "        continue\n",
    "    loader = dataset.loaders(batch_size=batch_size_loading,\n",
    "                             num_workers=num_workers)\n",
    "    for data in loader:\n",
    "        X, y, idx = data\n",
    "        X, y, idx = X.to(device), y.to(device), idx.to(device)\n",
    "        break\n",
    "    \n",
    "    X_pred = net(X)\n",
    "    X_pred_mean = torch.mean(X_pred, axis=0)\n",
    "    dist = criterion(X_pred_mean_base, X_pred_mean)\n",
    "    dist_mean = torch.mean(dist).cpu().data.numpy().item()\n",
    "    rec_distance_dict[base][key] = dist_mean"
   ]
  },
  {
   "cell_type": "code",
   "execution_count": 54,
   "metadata": {},
   "outputs": [
    {
     "data": {
      "text/html": [
       "<div>\n",
       "<style scoped>\n",
       "    .dataframe tbody tr th:only-of-type {\n",
       "        vertical-align: middle;\n",
       "    }\n",
       "\n",
       "    .dataframe tbody tr th {\n",
       "        vertical-align: top;\n",
       "    }\n",
       "\n",
       "    .dataframe thead th {\n",
       "        text-align: right;\n",
       "    }\n",
       "</style>\n",
       "<table border=\"1\" class=\"dataframe\">\n",
       "  <thead>\n",
       "    <tr style=\"text-align: right;\">\n",
       "      <th></th>\n",
       "      <th>tshirt</th>\n",
       "    </tr>\n",
       "  </thead>\n",
       "  <tbody>\n",
       "    <tr>\n",
       "      <th>tshirt</th>\n",
       "      <td>0.000000</td>\n",
       "    </tr>\n",
       "    <tr>\n",
       "      <th>pullover</th>\n",
       "      <td>0.000860</td>\n",
       "    </tr>\n",
       "    <tr>\n",
       "      <th>shirt</th>\n",
       "      <td>0.001122</td>\n",
       "    </tr>\n",
       "    <tr>\n",
       "      <th>coat</th>\n",
       "      <td>0.001289</td>\n",
       "    </tr>\n",
       "    <tr>\n",
       "      <th>dress</th>\n",
       "      <td>0.002390</td>\n",
       "    </tr>\n",
       "    <tr>\n",
       "      <th>trouser</th>\n",
       "      <td>0.004361</td>\n",
       "    </tr>\n",
       "    <tr>\n",
       "      <th>bag</th>\n",
       "      <td>0.005570</td>\n",
       "    </tr>\n",
       "    <tr>\n",
       "      <th>boot</th>\n",
       "      <td>0.008033</td>\n",
       "    </tr>\n",
       "    <tr>\n",
       "      <th>sneaker</th>\n",
       "      <td>0.008674</td>\n",
       "    </tr>\n",
       "    <tr>\n",
       "      <th>sandal</th>\n",
       "      <td>0.012165</td>\n",
       "    </tr>\n",
       "  </tbody>\n",
       "</table>\n",
       "</div>"
      ],
      "text/plain": [
       "            tshirt\n",
       "tshirt    0.000000\n",
       "pullover  0.000860\n",
       "shirt     0.001122\n",
       "coat      0.001289\n",
       "dress     0.002390\n",
       "trouser   0.004361\n",
       "bag       0.005570\n",
       "boot      0.008033\n",
       "sneaker   0.008674\n",
       "sandal    0.012165"
      ]
     },
     "execution_count": 54,
     "metadata": {},
     "output_type": "execute_result"
    }
   ],
   "source": [
    "rec_distance_df_tshirt = pd.DataFrame(rec_distance_dict)\n",
    "rec_distance_df_tshirt.sort_values(base, inplace=True)\n",
    "rec_distance_df_tshirt"
   ]
  },
  {
   "cell_type": "code",
   "execution_count": 55,
   "metadata": {},
   "outputs": [
    {
     "data": {
      "text/plain": [
       "Index(['tshirt', 'pullover', 'shirt', 'coat', 'dress', 'trouser', 'bag',\n",
       "       'boot', 'sneaker', 'sandal'],\n",
       "      dtype='object')"
      ]
     },
     "execution_count": 55,
     "metadata": {},
     "output_type": "execute_result"
    }
   ],
   "source": [
    "rec_ranking_tshirt = rec_distance_df_tshirt.index\n",
    "rec_ranking_tshirt"
   ]
  },
  {
   "cell_type": "markdown",
   "metadata": {},
   "source": [
    "> The ranking for `tshirt` is: \n",
    "- **`pullover`** < `shirt` < `coat` < `dress` < `trouser` < `bag` < `boot` < `sneaker` < **`sandal`**  "
   ]
  },
  {
   "cell_type": "markdown",
   "metadata": {},
   "source": [
    "## 3.1. Get Mean"
   ]
  },
  {
   "cell_type": "code",
   "execution_count": 33,
   "metadata": {},
   "outputs": [],
   "source": [
    "label_eval=(4,)\n",
    "base = 'coat'"
   ]
  },
  {
   "cell_type": "code",
   "execution_count": 31,
   "metadata": {},
   "outputs": [],
   "source": [
    "rec_distance_dict = {base:{base: 0.000}}\n",
    "device = 'cpu'\n",
    "net_name = 'fmnist_LeNet_rec'\n",
    "model_path = '/net/leksai/nips/model/rec/fmnist/rec_unsupervised_[{}]_[]_[0.0]/net_fmnist_LeNet_rec_eta_100_epochs_150_batch_128/model.tar'.format(label_eval[0])"
   ]
  },
  {
   "cell_type": "code",
   "execution_count": 34,
   "metadata": {},
   "outputs": [
    {
     "data": {
      "text/plain": [
       "<All keys matched successfully>"
      ]
     },
     "execution_count": 34,
     "metadata": {},
     "output_type": "execute_result"
    }
   ],
   "source": [
    "net = build_network(net_name)\n",
    "model_dict = torch.load(model_path, map_location=device)\n",
    "net.load_state_dict(model_dict['net_dict'])"
   ]
  },
  {
   "cell_type": "code",
   "execution_count": 36,
   "metadata": {},
   "outputs": [],
   "source": [
    "data_base_test = load_dataset(loader_name='fmnist_eval',\n",
    "                              label_eval=label_eval,\n",
    "                              test_eval=True)\n",
    "\n",
    "base_loader_test = data_base_test.loaders(batch_size=batch_size_loading,\n",
    "                                     num_workers=num_workers)"
   ]
  },
  {
   "cell_type": "code",
   "execution_count": 38,
   "metadata": {},
   "outputs": [],
   "source": [
    "for data in base_loader_test:\n",
    "    X, y, idx = data\n",
    "    X, y, idx = X.to(device), y.to(device), idx.to(device)\n",
    "    X_pred = net(X)"
   ]
  },
  {
   "cell_type": "code",
   "execution_count": 39,
   "metadata": {
    "scrolled": true
   },
   "outputs": [],
   "source": [
    "X_pred_mean_base = torch.mean(X_pred, axis=0)"
   ]
  },
  {
   "cell_type": "code",
   "execution_count": 40,
   "metadata": {},
   "outputs": [
    {
     "data": {
      "image/png": "[encoded data removed]",
      "text/plain": [
       "<PIL.Image.Image image mode=L size=28x28 at 0x7F8FE84186A0>"
      ]
     },
     "metadata": {},
     "output_type": "display_data"
    }
   ],
   "source": [
    "display(untransform(X_pred_mean_base))"
   ]
  },
  {
   "cell_type": "markdown",
   "metadata": {},
   "source": [
    "## 3.2. Get Distances"
   ]
  },
  {
   "cell_type": "code",
   "execution_count": 41,
   "metadata": {},
   "outputs": [
    {
     "name": "stdout",
     "output_type": "stream",
     "text": [
      "bag\n",
      "boot\n",
      "dress\n",
      "pullover\n",
      "sandal\n",
      "shirt\n",
      "sneaker\n",
      "trouser\n",
      "tshirt\n"
     ]
    }
   ],
   "source": [
    "for key, dataset in sorted(dataset_dict.items()):\n",
    "    if key == base:\n",
    "        continue\n",
    "    print(key)\n",
    "    loader = dataset.loaders(batch_size=batch_size_loading,\n",
    "                             num_workers=num_workers)\n",
    "    for data in loader:\n",
    "        X, y, idx = data\n",
    "        X, y, idx = X.to(device), y.to(device), idx.to(device)\n",
    "        break\n",
    "    \n",
    "    X_pred = net(X)\n",
    "    X_pred_mean = torch.mean(X_pred, axis=0)\n",
    "    dist = criterion(X_pred_mean_base, X_pred_mean)\n",
    "    dist_mean = torch.mean(dist).cpu().data.numpy().item()\n",
    "    rec_distance_dict[base][key] = dist_mean"
   ]
  },
  {
   "cell_type": "code",
   "execution_count": 42,
   "metadata": {},
   "outputs": [
    {
     "data": {
      "text/html": [
       "<div>\n",
       "<style scoped>\n",
       "    .dataframe tbody tr th:only-of-type {\n",
       "        vertical-align: middle;\n",
       "    }\n",
       "\n",
       "    .dataframe tbody tr th {\n",
       "        vertical-align: top;\n",
       "    }\n",
       "\n",
       "    .dataframe thead th {\n",
       "        text-align: right;\n",
       "    }\n",
       "</style>\n",
       "<table border=\"1\" class=\"dataframe\">\n",
       "  <thead>\n",
       "    <tr style=\"text-align: right;\">\n",
       "      <th></th>\n",
       "      <th>coat</th>\n",
       "    </tr>\n",
       "  </thead>\n",
       "  <tbody>\n",
       "    <tr>\n",
       "      <th>coat</th>\n",
       "      <td>0.000000</td>\n",
       "    </tr>\n",
       "    <tr>\n",
       "      <th>pullover</th>\n",
       "      <td>0.000900</td>\n",
       "    </tr>\n",
       "    <tr>\n",
       "      <th>shirt</th>\n",
       "      <td>0.001395</td>\n",
       "    </tr>\n",
       "    <tr>\n",
       "      <th>bag</th>\n",
       "      <td>0.002755</td>\n",
       "    </tr>\n",
       "    <tr>\n",
       "      <th>tshirt</th>\n",
       "      <td>0.003577</td>\n",
       "    </tr>\n",
       "    <tr>\n",
       "      <th>boot</th>\n",
       "      <td>0.006922</td>\n",
       "    </tr>\n",
       "    <tr>\n",
       "      <th>dress</th>\n",
       "      <td>0.007182</td>\n",
       "    </tr>\n",
       "    <tr>\n",
       "      <th>sneaker</th>\n",
       "      <td>0.009563</td>\n",
       "    </tr>\n",
       "    <tr>\n",
       "      <th>sandal</th>\n",
       "      <td>0.010589</td>\n",
       "    </tr>\n",
       "    <tr>\n",
       "      <th>trouser</th>\n",
       "      <td>0.011027</td>\n",
       "    </tr>\n",
       "  </tbody>\n",
       "</table>\n",
       "</div>"
      ],
      "text/plain": [
       "              coat\n",
       "coat      0.000000\n",
       "pullover  0.000900\n",
       "shirt     0.001395\n",
       "bag       0.002755\n",
       "tshirt    0.003577\n",
       "boot      0.006922\n",
       "dress     0.007182\n",
       "sneaker   0.009563\n",
       "sandal    0.010589\n",
       "trouser   0.011027"
      ]
     },
     "execution_count": 42,
     "metadata": {},
     "output_type": "execute_result"
    }
   ],
   "source": [
    "rec_distance_df = pd.DataFrame(rec_distance_dict)\n",
    "rec_distance_df.sort_values(base, inplace=True)\n",
    "rec_distance_df"
   ]
  },
  {
   "cell_type": "code",
   "execution_count": 43,
   "metadata": {},
   "outputs": [
    {
     "data": {
      "text/plain": [
       "Index(['coat', 'pullover', 'shirt', 'bag', 'tshirt', 'boot', 'dress',\n",
       "       'sneaker', 'sandal', 'trouser'],\n",
       "      dtype='object')"
      ]
     },
     "execution_count": 43,
     "metadata": {},
     "output_type": "execute_result"
    }
   ],
   "source": [
    "rec_ranking = rec_distance_df.index\n",
    "rec_ranking"
   ]
  },
  {
   "cell_type": "markdown",
   "metadata": {},
   "source": [
    "> The **maximum** distance is in `<coat, sandal>`, which is **0.011**.   \n",
    "> The **minimum** distance is in `<coat, pullover>`, which is **0.001**.  \n",
    "\n",
    "> The ranking for `coat` is: \n",
    "- **`pullover`** < `shirt` < `bag` < `tshirt` < `boot` < `dress` < `sneaker` < `sandal` < **`trouser`**  \n",
    "\n",
    "> The ranking for `shirt` is: \n",
    "- **`pullover`** < `coat` < `tshirt` < `bag` < `dress` < `boot` < `trouser` < `sandal` < **`sneaker`**   \n",
    "\n",
    "> The ranking for `pullover` is: \n",
    "- **`coat`** < `shirt` < `tshirt` < `dress` < `trouser` < `bag` < `boot` < `sneaker` < **`sandal`**  \n",
    "\n",
    "> The ranking for `tshirt` is: \n",
    "- **`pullover`** < `shirt` < `coat` < `dress` < `trouser` < `bag` < `boot` < `sneaker` < **`sandal`**  "
   ]
  },
  {
   "cell_type": "markdown",
   "metadata": {},
   "source": [
    "# 4. Metric 4: $L^{2}$-Distance for Mean of Representations in One-Class Model (Unsupervised, w/o Pretraining)"
   ]
  },
  {
   "cell_type": "markdown",
   "metadata": {},
   "source": [
    "> **Step 1**: We will use coat-train to train an unsupervised one-class model.  \n",
    "> **Step 2**: We will use coat-test to calculate the mean of representations (outputs).   \n",
    "> **Step 3**: We will use other other datasets to calculate the mean of representations.  \n",
    "> **Step 4**: We compare the distances between these means.   "
   ]
  },
  {
   "cell_type": "markdown",
   "metadata": {},
   "source": [
    "## 4.1. Get Mean"
   ]
  },
  {
   "cell_type": "code",
   "execution_count": 361,
   "metadata": {},
   "outputs": [],
   "source": [
    "oc_distance_dict = {'coat':{'coat': 0.000}}\n",
    "device = 'cpu'\n",
    "net_name = 'fmnist_LeNet_one_class'\n",
    "model_path = '/net/leksai/nips/model/one_class/fmnist/one_class_unsupervised_[4]_[]_[0]_[0.0]/net_fmnist_LeNet_one_class_eta_100_epochs_150_batch_128/model.tar'"
   ]
  },
  {
   "cell_type": "code",
   "execution_count": 362,
   "metadata": {},
   "outputs": [
    {
     "data": {
      "text/plain": [
       "<All keys matched successfully>"
      ]
     },
     "execution_count": 362,
     "metadata": {},
     "output_type": "execute_result"
    }
   ],
   "source": [
    "net = build_network(net_name)\n",
    "model_dict = torch.load(model_path, map_location=device)\n",
    "net.load_state_dict(model_dict['net_dict'])"
   ]
  },
  {
   "cell_type": "code",
   "execution_count": 363,
   "metadata": {},
   "outputs": [],
   "source": [
    "for data in coat_loader_test:\n",
    "    X, y, idx = data\n",
    "    X, y, idx = X.to(device), y.to(device), idx.to(device)\n",
    "    X_pred = net(X)"
   ]
  },
  {
   "cell_type": "code",
   "execution_count": 364,
   "metadata": {},
   "outputs": [],
   "source": [
    "X_pred_mean_coat = torch.mean(X_pred, axis=0)"
   ]
  },
  {
   "cell_type": "markdown",
   "metadata": {},
   "source": [
    "## 4.2. Get Distances"
   ]
  },
  {
   "cell_type": "code",
   "execution_count": 365,
   "metadata": {},
   "outputs": [],
   "source": [
    "for key, dataset in sorted(dataset_dict.items()):\n",
    "    if key == 'coat':\n",
    "        continue\n",
    "    loader = dataset.loaders(batch_size=batch_size_loading,\n",
    "                             num_workers=num_workers)\n",
    "    for data in loader:\n",
    "        X, y, idx = data\n",
    "        X, y, idx = X.to(device), y.to(device), idx.to(device)\n",
    "        break\n",
    "    \n",
    "    X_pred = net(X)\n",
    "    X_pred_mean = torch.mean(X_pred, axis=0)\n",
    "    dist = criterion(X_pred_mean_coat, X_pred_mean)\n",
    "    dist_mean = torch.mean(dist).cpu().data.numpy().item()\n",
    "    oc_distance_dict['coat'][key] = dist_mean"
   ]
  },
  {
   "cell_type": "code",
   "execution_count": 378,
   "metadata": {},
   "outputs": [
    {
     "data": {
      "text/html": [
       "<div>\n",
       "<style scoped>\n",
       "    .dataframe tbody tr th:only-of-type {\n",
       "        vertical-align: middle;\n",
       "    }\n",
       "\n",
       "    .dataframe tbody tr th {\n",
       "        vertical-align: top;\n",
       "    }\n",
       "\n",
       "    .dataframe thead th {\n",
       "        text-align: right;\n",
       "    }\n",
       "</style>\n",
       "<table border=\"1\" class=\"dataframe\">\n",
       "  <thead>\n",
       "    <tr style=\"text-align: right;\">\n",
       "      <th></th>\n",
       "      <th>coat</th>\n",
       "    </tr>\n",
       "  </thead>\n",
       "  <tbody>\n",
       "    <tr>\n",
       "      <th>coat</th>\n",
       "      <td>0.000000</td>\n",
       "    </tr>\n",
       "    <tr>\n",
       "      <th>sneaker</th>\n",
       "      <td>0.000007</td>\n",
       "    </tr>\n",
       "    <tr>\n",
       "      <th>bag</th>\n",
       "      <td>0.000008</td>\n",
       "    </tr>\n",
       "    <tr>\n",
       "      <th>tshirt</th>\n",
       "      <td>0.000013</td>\n",
       "    </tr>\n",
       "    <tr>\n",
       "      <th>dress</th>\n",
       "      <td>0.000014</td>\n",
       "    </tr>\n",
       "    <tr>\n",
       "      <th>boot</th>\n",
       "      <td>0.000018</td>\n",
       "    </tr>\n",
       "    <tr>\n",
       "      <th>sandal</th>\n",
       "      <td>0.000032</td>\n",
       "    </tr>\n",
       "    <tr>\n",
       "      <th>pullover</th>\n",
       "      <td>0.000044</td>\n",
       "    </tr>\n",
       "    <tr>\n",
       "      <th>shirt</th>\n",
       "      <td>0.000069</td>\n",
       "    </tr>\n",
       "    <tr>\n",
       "      <th>trouser</th>\n",
       "      <td>0.000212</td>\n",
       "    </tr>\n",
       "  </tbody>\n",
       "</table>\n",
       "</div>"
      ],
      "text/plain": [
       "              coat\n",
       "coat      0.000000\n",
       "sneaker   0.000007\n",
       "bag       0.000008\n",
       "tshirt    0.000013\n",
       "dress     0.000014\n",
       "boot      0.000018\n",
       "sandal    0.000032\n",
       "pullover  0.000044\n",
       "shirt     0.000069\n",
       "trouser   0.000212"
      ]
     },
     "execution_count": 378,
     "metadata": {},
     "output_type": "execute_result"
    }
   ],
   "source": [
    "oc_distance_df = pd.DataFrame(oc_distance_dict)\n",
    "oc_distance_df.sort_values('coat', inplace=True)\n",
    "oc_distance_df"
   ]
  },
  {
   "cell_type": "code",
   "execution_count": 381,
   "metadata": {},
   "outputs": [
    {
     "data": {
      "text/plain": [
       "Index(['coat', 'sneaker', 'bag', 'tshirt', 'dress', 'boot', 'sandal',\n",
       "       'pullover', 'shirt', 'trouser'],\n",
       "      dtype='object')"
      ]
     },
     "execution_count": 381,
     "metadata": {},
     "output_type": "execute_result"
    }
   ],
   "source": [
    "oc_ranking = oc_distance_df.index\n",
    "oc_ranking"
   ]
  },
  {
   "cell_type": "markdown",
   "metadata": {},
   "source": [
    "> The **maximum** distance is in `<coat, trouser>`, which is **0.000212**.   \n",
    "> The **minimum** distance is in `<coat, sneaker>`, which is **0.000007**.  \n",
    "\n",
    "> The ranking for `coat` is: \n",
    "- **`sneaker`** < `bag` < `tshirt` < `dress` < `boot` < `sandal` < `pullover` < `shirt` < **`trouser`**\n",
    "\n",
    "> The ranking is quite different to raw images, and the magnitudes are smaller."
   ]
  },
  {
   "cell_type": "markdown",
   "metadata": {},
   "source": [
    "# 5. Metric 5: $L^{2}$-Distance for Mean of Representations in One-Class Model (Unsupervised, w/ Pretraining)"
   ]
  },
  {
   "cell_type": "markdown",
   "metadata": {},
   "source": [
    "> **Step 1**: We will use coat-train to train an unsupervised one-class model.  \n",
    "> **Step 2**: We will use coat-test to calculate the mean of representations (outputs).   \n",
    "> **Step 3**: We will use other other datasets to calculate the mean of representations.  \n",
    "> **Step 4**: We compare the distances between these means.   "
   ]
  },
  {
   "cell_type": "markdown",
   "metadata": {},
   "source": [
    "## 5.1. Get Mean"
   ]
  },
  {
   "cell_type": "code",
   "execution_count": 353,
   "metadata": {},
   "outputs": [],
   "source": [
    "oc_pt_distance_dict = {'coat':{'coat': 0.000}}\n",
    "device = 'cpu'\n",
    "net_name = 'fmnist_LeNet_one_class'\n",
    "model_path = '/net/leksai/nips/model/one_class/fmnist/one_class_unsupervised_[4]_[]_[1]_[0.0]/net_fmnist_LeNet_one_class_eta_100_epochs_150_batch_128/model.tar'"
   ]
  },
  {
   "cell_type": "code",
   "execution_count": 354,
   "metadata": {},
   "outputs": [
    {
     "data": {
      "text/plain": [
       "<All keys matched successfully>"
      ]
     },
     "execution_count": 354,
     "metadata": {},
     "output_type": "execute_result"
    }
   ],
   "source": [
    "net = build_network(net_name)\n",
    "model_dict = torch.load(model_path, map_location=device)\n",
    "net.load_state_dict(model_dict['net_dict'])"
   ]
  },
  {
   "cell_type": "code",
   "execution_count": 355,
   "metadata": {},
   "outputs": [],
   "source": [
    "for data in coat_loader_test:\n",
    "    X, y, idx = data\n",
    "    X, y, idx = X.to(device), y.to(device), idx.to(device)\n",
    "    X_pred = net(X)"
   ]
  },
  {
   "cell_type": "code",
   "execution_count": 356,
   "metadata": {},
   "outputs": [],
   "source": [
    "X_pred_mean_coat = torch.mean(X_pred, axis=0)"
   ]
  },
  {
   "cell_type": "markdown",
   "metadata": {},
   "source": [
    "## 5.2. Get Distances"
   ]
  },
  {
   "cell_type": "code",
   "execution_count": 411,
   "metadata": {},
   "outputs": [],
   "source": [
    "for key, dataset in sorted(dataset_dict.items()):\n",
    "    if key == 'coat':\n",
    "        continue\n",
    "    loader = dataset.loaders(batch_size=batch_size_loading,\n",
    "                             num_workers=num_workers)\n",
    "    for data in loader:\n",
    "        X, y, idx = data\n",
    "        X, y, idx = X.to(device), y.to(device), idx.to(device)\n",
    "        break\n",
    "    \n",
    "    X_pred = net(X)\n",
    "    X_pred_mean = torch.mean(X_pred, axis=0)\n",
    "    dist = criterion(X_pred_mean_coat, X_pred_mean)\n",
    "    dist_mean = torch.mean(dist).cpu().data.numpy().item()\n",
    "    oc_pt_distance_dict['coat'][key] = dist_mean"
   ]
  },
  {
   "cell_type": "code",
   "execution_count": 371,
   "metadata": {},
   "outputs": [],
   "source": [
    "oc_pt_distance_df = pd.DataFrame(oc_pt_distance_dict)\n",
    "oc_pt_distance_df.sort_values('coat', inplace=True)"
   ]
  },
  {
   "cell_type": "code",
   "execution_count": 372,
   "metadata": {},
   "outputs": [
    {
     "data": {
      "text/html": [
       "<div>\n",
       "<style scoped>\n",
       "    .dataframe tbody tr th:only-of-type {\n",
       "        vertical-align: middle;\n",
       "    }\n",
       "\n",
       "    .dataframe tbody tr th {\n",
       "        vertical-align: top;\n",
       "    }\n",
       "\n",
       "    .dataframe thead th {\n",
       "        text-align: right;\n",
       "    }\n",
       "</style>\n",
       "<table border=\"1\" class=\"dataframe\">\n",
       "  <thead>\n",
       "    <tr style=\"text-align: right;\">\n",
       "      <th></th>\n",
       "      <th>coat</th>\n",
       "    </tr>\n",
       "  </thead>\n",
       "  <tbody>\n",
       "    <tr>\n",
       "      <th>coat</th>\n",
       "      <td>0.000000</td>\n",
       "    </tr>\n",
       "    <tr>\n",
       "      <th>bag</th>\n",
       "      <td>0.000007</td>\n",
       "    </tr>\n",
       "    <tr>\n",
       "      <th>sneaker</th>\n",
       "      <td>0.000007</td>\n",
       "    </tr>\n",
       "    <tr>\n",
       "      <th>dress</th>\n",
       "      <td>0.000009</td>\n",
       "    </tr>\n",
       "    <tr>\n",
       "      <th>tshirt</th>\n",
       "      <td>0.000012</td>\n",
       "    </tr>\n",
       "    <tr>\n",
       "      <th>boot</th>\n",
       "      <td>0.000013</td>\n",
       "    </tr>\n",
       "    <tr>\n",
       "      <th>sandal</th>\n",
       "      <td>0.000028</td>\n",
       "    </tr>\n",
       "    <tr>\n",
       "      <th>pullover</th>\n",
       "      <td>0.000049</td>\n",
       "    </tr>\n",
       "    <tr>\n",
       "      <th>shirt</th>\n",
       "      <td>0.000086</td>\n",
       "    </tr>\n",
       "    <tr>\n",
       "      <th>trouser</th>\n",
       "      <td>0.000220</td>\n",
       "    </tr>\n",
       "  </tbody>\n",
       "</table>\n",
       "</div>"
      ],
      "text/plain": [
       "              coat\n",
       "coat      0.000000\n",
       "bag       0.000007\n",
       "sneaker   0.000007\n",
       "dress     0.000009\n",
       "tshirt    0.000012\n",
       "boot      0.000013\n",
       "sandal    0.000028\n",
       "pullover  0.000049\n",
       "shirt     0.000086\n",
       "trouser   0.000220"
      ]
     },
     "execution_count": 372,
     "metadata": {},
     "output_type": "execute_result"
    }
   ],
   "source": [
    "oc_pt_distance_df"
   ]
  },
  {
   "cell_type": "code",
   "execution_count": 380,
   "metadata": {},
   "outputs": [
    {
     "data": {
      "text/plain": [
       "Index(['coat', 'bag', 'sneaker', 'dress', 'tshirt', 'boot', 'sandal',\n",
       "       'pullover', 'shirt', 'trouser'],\n",
       "      dtype='object')"
      ]
     },
     "execution_count": 380,
     "metadata": {},
     "output_type": "execute_result"
    }
   ],
   "source": [
    "oc_pt_ranking = oc_pt_distance_df.index\n",
    "oc_pt_ranking"
   ]
  },
  {
   "cell_type": "markdown",
   "metadata": {},
   "source": [
    "> The **maximum** distance is in `<coat, trouser>`, which is **0.000200**.   \n",
    "> The **minimum** distance is in `<coat, bag>` and `<coat, sneaker>`, which are respectively **6.6e-6** and **7.7e-6**.  \n",
    "\n",
    "> The ranking for `coat` is: \n",
    "- **`bag`** < `sneaker` < `dress` < `tshirt` < `boot` < `sandal` < `pullover` < `shirt` < **`trouser`** \n",
    "\n",
    "> The ranking is quite different to raw images, and the magnitudes are smaller."
   ]
  }
 ],
 "metadata": {
  "kernelspec": {
   "display_name": "Python 3",
   "language": "python",
   "name": "python3"
  },
  "language_info": {
   "codemirror_mode": {
    "name": "ipython",
    "version": 3
   },
   "file_extension": ".py",
   "mimetype": "text/x-python",
   "name": "python",
   "nbconvert_exporter": "python",
   "pygments_lexer": "ipython3",
   "version": "3.6.9"
  }
 },
 "nbformat": 4,
 "nbformat_minor": 2
}
