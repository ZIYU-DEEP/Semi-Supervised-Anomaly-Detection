{
 "cells": [
  {
   "cell_type": "code",
   "execution_count": 1,
   "metadata": {},
   "outputs": [],
   "source": [
    "import line_plot_oc\n",
    "import line_plot_rec\n",
    "%config InlineBackend.figure_format='retina'"
   ]
  },
  {
   "cell_type": "code",
   "execution_count": 146,
   "metadata": {},
   "outputs": [],
   "source": [
    "identifier = 0"
   ]
  },
  {
   "cell_type": "code",
   "execution_count": 1,
   "metadata": {},
   "outputs": [],
   "source": [
    "import pandas as pd\n",
    "import numpy as np\n",
    "import joblib\n",
    "from pathlib import Path\n",
    "import matplotlib.pyplot as plt\n",
    "import seaborn as sns"
   ]
  },
  {
   "cell_type": "code",
   "execution_count": 143,
   "metadata": {},
   "outputs": [],
   "source": [
    "def rec_plot_info(joint_x, y1, color_start, name_list, i, axes, identifier_name, metric):\n",
    "    \"\"\"\n",
    "    Fixed format for plot drawing.\n",
    "    \"\"\"\n",
    "    axes.plot(joint_x, y1, \n",
    "              '-o', \n",
    "              color=sns.cubehelix_palette(10, \n",
    "                                          start=color_start, \n",
    "                                          rot=0, \n",
    "                                          dark=0.3, \n",
    "                                          light=.85, \n",
    "                                          reverse=True)[i], \n",
    "              markersize=10, \n",
    "              alpha=0.9, \n",
    "              label=name_list[i])\n",
    "    \n",
    "    axes.set_ylim(0, 1.1)\n",
    "    axes.set_xlim(-2, 32)\n",
    "    plt.legend()\n",
    "\n",
    "    sns.despine()\n",
    "    axes.set_ylabel('{}'.format(metric))\n",
    "    axes.set_xlabel('KL Divergence between Source and Target – KL(P_0 & P_1 || P`_0 & P_i) - Reconstruction Model')\n",
    "    axes.set_title('[{} v.s. KL(P_train || P_test)] - Normal: {}.'.format(metric, identifier_name))"
   ]
  },
  {
   "cell_type": "code",
   "execution_count": 144,
   "metadata": {},
   "outputs": [],
   "source": [
    "def rec_line(identifier, metric='f1', range_='00_10'):\n",
    "    name_list = ['tshirt', 'trouser', 'pullover', 'dress', 'coat',\n",
    "                 'sandal', 'shirt', 'sneaker', 'bag', 'boot']\n",
    "    identifier_name = name_list[identifier]\n",
    "\n",
    "    root = '/net/leksai/nips/result/fmnist'\n",
    "    recall_rec = pd.read_pickle(Path(root)/'recall_df_{}_90.pkl'.format(identifier))['Reconstruction Model']\n",
    "    ind_to_df_ind = {i: 'A/N = 0.1, Abnormal: {}'.format(i) for i in range(10)}\n",
    "\n",
    "    ind_list_ = list(recall_rec.index)\n",
    "    y_un = {k: {} for k in ind_list_}\n",
    "    y_semi = {k: {} for k in ind_list_}\n",
    "\n",
    "    for i in ind_list_:\n",
    "        y_un[i] = [recall_rec.loc[i, 'A/N = 0']] * 9\n",
    "        y_semi[i] = list(recall_rec[[ind_to_df_ind[i] for i in ind_list_]].loc[i, :])\n",
    "\n",
    "    div_joint_rec = joblib.load('div_joint.pkl')\n",
    "    div_margin_rec = joblib.load('div_margin.pkl')\n",
    "\n",
    "    name_list = ['tshirt', 'trouser', 'pullover', 'dress', 'coat',\n",
    "                 'sandal', 'shirt', 'sneaker', 'bag', 'boot']\n",
    "\n",
    "    x_joint = {k: {} for k in ind_list_}\n",
    "    x_margin = {k: {} for k in ind_list_}\n",
    "\n",
    "    for i in ind_list_:\n",
    "        name = name_list[i]\n",
    "        x_joint[i] = list(div_joint_rec[name].values())\n",
    "        x_margin[i] = list(div_margin_rec[name].values())\n",
    "\n",
    "    margin_test_for_identifier = joblib.load('margin_test_for_identifier.pkl')\n",
    "    i_list = list(np.argsort(margin_test_for_identifier))\n",
    "    i_list.remove(identifier)\n",
    "\n",
    "    temp = []\n",
    "    for i in i_list:\n",
    "        temp.extend(x_joint[i])\n",
    "    xlim_left = min(temp) - 2\n",
    "    xlim_right = max(temp) + 2\n",
    "\n",
    "    n = len(i_list)\n",
    "    fig, axes = plt.subplots(ncols=1, nrows=1, figsize=(18, 9))\n",
    "    plt.subplots_adjust(hspace=0.3)\n",
    "\n",
    "    for ind, i in enumerate(i_list):\n",
    "        recall_0 = np.array(y_un[i])\n",
    "        precision_0 = 1000 * recall_0 / (1000 * recall_0 + 200)\n",
    "        f1_0 = 2 * (precision_0 * recall_0) / (precision_0 + recall_0)\n",
    "        \n",
    "        recall_1 = np.array(y_semi[i])\n",
    "        precision_1 = 1000 * recall_1 / (1000 * recall_1 + 200)\n",
    "        f1_1 = 2 * (precision_1 * recall_1) / (precision_1 + recall_1)\n",
    "        \n",
    "        if metric == 'f1':\n",
    "            y0 = f1_0\n",
    "            y1 = f1_1\n",
    "        \n",
    "        if metric == 'recall':\n",
    "            y0 = recall_0\n",
    "            y1 = recall_1\n",
    "        \n",
    "        joint_x = np.array(x_joint[i])\n",
    "        margin_x = np.array(x_margin[i])\n",
    "\n",
    "        y1 = y1[np.argsort(joint_x)]\n",
    "        joint_x = np.sort(joint_x)\n",
    "        \n",
    "        \n",
    "        if range_ == '00_10':\n",
    "            if (margin_test_for_identifier[i]) < 10:\n",
    "                rec_plot_info(joint_x, y1, 2.6, name_list, i, axes, identifier_name, metric)\n",
    "                \n",
    "        elif range_ == '10_20':\n",
    "            if ((margin_test_for_identifier[i]) > 10) & ((margin_test_for_identifier[i]) <= 20):\n",
    "                rec_plot_info(joint_x, y1, 2, name_list, i, axes, identifier_name, metric)\n",
    "        \n",
    "        elif range_ == '20_30':\n",
    "            if ((margin_test_for_identifier[i]) > 20) & ((margin_test_for_identifier[i]) <= 30):\n",
    "                rec_plot_info(joint_x, y1, 1, name_list, i, axes, identifier_name, metric)\n",
    "                \n",
    "        elif range_ == '30_40':\n",
    "            if ((margin_test_for_identifier[i]) > 30) & ((margin_test_for_identifier[i]) <= 40):\n",
    "                rec_plot_info(joint_x, y1, 0.4, name_list, i, axes, identifier_name, metric)\n",
    "        \n",
    "        elif range_ == '40_50':\n",
    "            if ((margin_test_for_identifier[i]) > 40) & ((margin_test_for_identifier[i]) <= 50):\n",
    "                rec_plot_info(joint_x, y1, 0, name_list, i, axes, identifier_name, metric)\n",
    "\n",
    "        elif range_ == '50_00':\n",
    "                rec_plot_info(joint_x, y1, 1.3, name_list, i, axes, identifier_name, metric)"
   ]
  },
  {
   "cell_type": "code",
   "execution_count": 149,
   "metadata": {},
   "outputs": [],
   "source": [
    "    name_list = ['tshirt', 'trouser', 'pullover', 'dress', 'coat',\n",
    "                 'sandal', 'shirt', 'sneaker', 'bag', 'boot']\n",
    "    identifier_name = name_list[identifier]\n",
    "\n",
    "    root = '/net/leksai/nips/result/fmnist'\n",
    "    recall_rec = pd.read_pickle(Path(root)/'recall_df_{}_90.pkl'.format(identifier))['Reconstruction Model']\n",
    "    ind_to_df_ind = {i: 'A/N = 0.1, Abnormal: {}'.format(i) for i in range(10)}\n",
    "\n",
    "    ind_list_ = list(recall_rec.index)\n",
    "    y_un = {k: {} for k in ind_list_}\n",
    "    y_semi = {k: {} for k in ind_list_}\n",
    "\n",
    "    for i in ind_list_:\n",
    "        y_un[i] = [recall_rec.loc[i, 'A/N = 0']] * 9\n",
    "        y_semi[i] = list(recall_rec[[ind_to_df_ind[i] for i in ind_list_]].loc[i, :])\n",
    "\n",
    "    div_joint_rec = joblib.load('div_joint.pkl')\n",
    "    div_margin_rec = joblib.load('div_margin.pkl')\n",
    "\n",
    "    name_list = ['tshirt', 'trouser', 'pullover', 'dress', 'coat',\n",
    "                 'sandal', 'shirt', 'sneaker', 'bag', 'boot']\n",
    "\n",
    "    x_joint = {k: {} for k in ind_list_}\n",
    "    x_margin = {k: {} for k in ind_list_}"
   ]
  },
  {
   "cell_type": "code",
   "execution_count": 151,
   "metadata": {},
   "outputs": [],
   "source": [
    "    for i in ind_list_:\n",
    "        name = name_list[i]\n",
    "        x_joint[i] = list(div_joint_rec[name].values())\n",
    "        x_margin[i] = list(div_margin_rec[name].values())"
   ]
  },
  {
   "cell_type": "code",
   "execution_count": 152,
   "metadata": {},
   "outputs": [
    {
     "data": {
      "text/plain": [
       "{1: [-0.01998289193292102,\n",
       "  16.719424922947773,\n",
       "  11.818667496670319,\n",
       "  16.43131129532984,\n",
       "  18.11249506145907,\n",
       "  14.009425283623434,\n",
       "  24.03513190388634,\n",
       "  17.707023228512405,\n",
       "  21.918086379161664],\n",
       " 2: [17.098063284723622,\n",
       "  0.08035840202867028,\n",
       "  10.064926724454747,\n",
       "  3.284572523378163,\n",
       "  12.093500256222736,\n",
       "  2.449588624186063,\n",
       "  18.22156787940762,\n",
       "  10.956769268891783,\n",
       "  15.139835665785684],\n",
       " 3: [12.155899369528553,\n",
       "  9.669065748474775,\n",
       "  0.07773588147370747,\n",
       "  8.486002222168805,\n",
       "  11.479863853768041,\n",
       "  6.874608036209636,\n",
       "  17.42289862391659,\n",
       "  11.06516330186731,\n",
       "  15.12281989369342],\n",
       " 4: [17.15886577650378,\n",
       "  3.267450353635983,\n",
       "  9.207277801765642,\n",
       "  -0.04747840595703279,\n",
       "  13.11137106115546,\n",
       "  2.8717510459062696,\n",
       "  19.13101153807626,\n",
       "  11.505058808723755,\n",
       "  16.179716311762927],\n",
       " 5: [19.37568322650946,\n",
       "  12.8501783529138,\n",
       "  12.77592724420801,\n",
       "  13.678723828282976,\n",
       "  -0.0648074804145593,\n",
       "  10.566532020300595,\n",
       "  7.245308283021264,\n",
       "  11.625098952330578,\n",
       "  10.643357590576983],\n",
       " 6: [14.438736866130421,\n",
       "  2.690625840709045,\n",
       "  7.408768834156867,\n",
       "  3.19596410481884,\n",
       "  9.824084139025926,\n",
       "  -0.0049532797398561534,\n",
       "  15.793281436486385,\n",
       "  8.848114246391352,\n",
       "  13.25905845526331],\n",
       " 7: [25.725785143171983,\n",
       "  19.33671766825735,\n",
       "  19.099988004179835,\n",
       "  20.251091842064014,\n",
       "  6.769964714768191,\n",
       "  16.803850033714948,\n",
       "  -0.03796889553393834,\n",
       "  15.899344170974754,\n",
       "  11.822609193222902],\n",
       " 8: [18.398751242430055,\n",
       "  11.061233815429848,\n",
       "  11.793354341567118,\n",
       "  11.476261651850468,\n",
       "  11.098249068711764,\n",
       "  8.74243829363647,\n",
       "  15.21271902900405,\n",
       "  0.014897841226382713,\n",
       "  16.013555886305717],\n",
       " 9: [23.27141067055368,\n",
       "  16.43673060092133,\n",
       "  16.373514404538057,\n",
       "  16.94942835373594,\n",
       "  10.463237824669424,\n",
       "  14.18883298739642,\n",
       "  11.104677543091926,\n",
       "  16.878834724195066,\n",
       "  -0.015025219877348395]}"
      ]
     },
     "execution_count": 152,
     "metadata": {},
     "output_type": "execute_result"
    }
   ],
   "source": [
    "x_joint"
   ]
  },
  {
   "cell_type": "code",
   "execution_count": 122,
   "metadata": {},
   "outputs": [
    {
     "data": {
      "image/png": "[encoded data removed]",
      "text/plain": [
       "<Figure size 1296x648 with 1 Axes>"
      ]
     },
     "metadata": {
      "needs_background": "light"
     },
     "output_type": "display_data"
    }
   ],
   "source": [
    "rec_line(0, metric = 'recall', range_='20_30')"
   ]
  },
  {
   "cell_type": "code",
   "execution_count": null,
   "metadata": {},
   "outputs": [],
   "source": []
  },
  {
   "cell_type": "code",
   "execution_count": 106,
   "metadata": {},
   "outputs": [],
   "source": [
    "recall = np.array([0.95] * 10)"
   ]
  },
  {
   "cell_type": "code",
   "execution_count": 111,
   "metadata": {},
   "outputs": [],
   "source": [
    "recall = np.array([0.99, 0.95, 0.94, 0.33, 0.23, 0.77])"
   ]
  },
  {
   "cell_type": "code",
   "execution_count": 112,
   "metadata": {},
   "outputs": [],
   "source": [
    "precision = 1000 * recall / (1000 * recall + 200)\n",
    "f1 = 2 * (precision * recall) / (precision + recall)"
   ]
  },
  {
   "cell_type": "code",
   "execution_count": 113,
   "metadata": {},
   "outputs": [
    {
     "data": {
      "text/plain": [
       "array([0.83193277, 0.82608696, 0.8245614 , 0.62264151, 0.53488372,\n",
       "       0.79381443])"
      ]
     },
     "execution_count": 113,
     "metadata": {},
     "output_type": "execute_result"
    }
   ],
   "source": [
    "precision"
   ]
  },
  {
   "cell_type": "code",
   "execution_count": 114,
   "metadata": {},
   "outputs": [],
   "source": []
  },
  {
   "cell_type": "code",
   "execution_count": 115,
   "metadata": {},
   "outputs": [
    {
     "data": {
      "text/plain": [
       "array([0.90410959, 0.88372093, 0.87850467, 0.43137255, 0.32167832,\n",
       "       0.78172589])"
      ]
     },
     "execution_count": 115,
     "metadata": {},
     "output_type": "execute_result"
    }
   ],
   "source": [
    "f1"
   ]
  },
  {
   "cell_type": "code",
   "execution_count": null,
   "metadata": {},
   "outputs": [],
   "source": []
  },
  {
   "cell_type": "code",
   "execution_count": null,
   "metadata": {},
   "outputs": [],
   "source": []
  },
  {
   "cell_type": "code",
   "execution_count": null,
   "metadata": {},
   "outputs": [],
   "source": []
  },
  {
   "cell_type": "code",
   "execution_count": null,
   "metadata": {},
   "outputs": [],
   "source": []
  },
  {
   "cell_type": "code",
   "execution_count": null,
   "metadata": {},
   "outputs": [],
   "source": []
  },
  {
   "cell_type": "code",
   "execution_count": null,
   "metadata": {},
   "outputs": [],
   "source": []
  },
  {
   "cell_type": "code",
   "execution_count": null,
   "metadata": {},
   "outputs": [],
   "source": []
  },
  {
   "cell_type": "code",
   "execution_count": null,
   "metadata": {},
   "outputs": [],
   "source": []
  },
  {
   "cell_type": "code",
   "execution_count": null,
   "metadata": {},
   "outputs": [],
   "source": []
  }
 ],
 "metadata": {
  "kernelspec": {
   "display_name": "Python 3",
   "language": "python",
   "name": "python3"
  },
  "language_info": {
   "codemirror_mode": {
    "name": "ipython",
    "version": 3
   },
   "file_extension": ".py",
   "mimetype": "text/x-python",
   "name": "python",
   "nbconvert_exporter": "python",
   "pygments_lexer": "ipython3",
   "version": "3.6.9"
  }
 },
 "nbformat": 4,
 "nbformat_minor": 4
}
